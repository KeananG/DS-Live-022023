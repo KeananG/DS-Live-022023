{
 "cells": [
  {
   "cell_type": "markdown",
   "metadata": {
    "slideshow": {
     "slide_type": "slide"
    }
   },
   "source": [
    "# Regularization and Evaluation of Neural Networks"
   ]
  },
  {
   "cell_type": "code",
   "execution_count": 1,
   "metadata": {},
   "outputs": [],
   "source": [
    "from sklearn.datasets import load_sample_images\n",
    "from sklearn.datasets import load_digits\n",
    "from sklearn.model_selection import train_test_split, cross_val_score\n",
    "from sklearn.preprocessing import OneHotEncoder\n",
    "from sklearn.metrics import accuracy_score, confusion_matrix\n",
    "import matplotlib.pyplot as plt\n",
    "import matplotlib.image as mpimg\n",
    "import numpy as np\n",
    "import seaborn as sns\n",
    "\n",
    "from tensorflow.keras.models import Sequential\n",
    "from tensorflow.keras.layers import Dense, Dropout\n",
    "from tensorflow.keras.regularizers import l2\n",
    "from tensorflow.keras.optimizers import SGD\n",
    "from tensorflow.keras.wrappers import scikit_learn\n",
    "from tensorflow.keras.callbacks import EarlyStopping\n",
    "\n",
    "import os\n",
    "import sys\n",
    "module_path = os.path.abspath(os.path.join(os.pardir, os.pardir))\n",
    "if module_path not in sys.path:\n",
    "    sys.path.append(module_path)\n",
    "    \n",
    "%load_ext autoreload\n",
    "%autoreload 2"
   ]
  },
  {
   "cell_type": "markdown",
   "metadata": {},
   "source": [
    "## Learning Objectives\n",
    "\n",
    "- use `keras` to code up a neural network model;\n",
    "- explain dropout and early stopping as distinctive forms of regularization in neural networks;\n",
    "- use wrappers inside `keras` to make models that can jibe with `sklearn`."
   ]
  },
  {
   "cell_type": "markdown",
   "metadata": {},
   "source": [
    "### From last time"
   ]
  },
  {
   "cell_type": "code",
   "execution_count": 8,
   "metadata": {},
   "outputs": [],
   "source": [
    "digits = load_digits()\n",
    "X = digits.data.astype('float32')\n",
    "y = digits.target.astype('float32')\n",
    "\n",
    "y_binary = y % 2"
   ]
  },
  {
   "cell_type": "code",
   "execution_count": 9,
   "metadata": {},
   "outputs": [
    {
     "data": {
      "text/plain": [
       "numpy.ndarray"
      ]
     },
     "execution_count": 9,
     "metadata": {},
     "output_type": "execute_result"
    }
   ],
   "source": [
    "type(y_binary)"
   ]
  },
  {
   "cell_type": "markdown",
   "metadata": {},
   "source": [
    "### Things to know:\n",
    "\n",
    "- The data and labels in `fit()` need to be numpy arrays, not `pandas` dfs.\n",
    "- Scaling your data will have a large impact on your model.\n",
    "   > For our traditional input features, we would use a scaler object. For images, as long as the minimum value is 0, we can simply divide through by the maximum pixel intensity."
   ]
  },
  {
   "cell_type": "markdown",
   "metadata": {},
   "source": [
    "#### Getting data ready for modeling\n",
    "**Preprocessing**:\n",
    "\n",
    "- use train_test_split to create X_train, y_train, X_test, and y_test\n",
    "- Split training data into pure_train and validation sets.\n",
    "- Scale the pixel intensity to a value between 0 and 1."
   ]
  },
  {
   "cell_type": "markdown",
   "metadata": {},
   "source": [
    "Scaling our input variables will help speed up our neural network.\n",
    "\n",
    "Since our minimum intensity is 0, we can normalize the inputs by dividing each value by the max value (16)."
   ]
  },
  {
   "cell_type": "code",
   "execution_count": 10,
   "metadata": {},
   "outputs": [],
   "source": [
    "X_train, X_test, y_train, y_test =\\\n",
    "    train_test_split(X, y_binary, random_state=42, test_size=0.2)\n",
    "\n",
    "X_pure_train, X_val, y_pure_train, y_val =\\\n",
    "    train_test_split(X_train, y_train, random_state=42, test_size=0.2)\n",
    "\n",
    "X_pure_train, X_val, X_test = X_pure_train/16, X_val/16, X_test/16"
   ]
  },
  {
   "cell_type": "markdown",
   "metadata": {},
   "source": [
    "For activation, let's start with the familiar sigmoid function, and see how it performs."
   ]
  },
  {
   "cell_type": "code",
   "execution_count": 11,
   "metadata": {},
   "outputs": [
    {
     "name": "stdout",
     "output_type": "stream",
     "text": [
      "Epoch 1/10\n",
      "12/12 [==============================] - 0s 1ms/step - loss: 0.8027 - accuracy: 0.4961\n",
      "Epoch 2/10\n",
      "12/12 [==============================] - 0s 848us/step - loss: 0.7839 - accuracy: 0.4961\n",
      "Epoch 3/10\n",
      "12/12 [==============================] - 0s 695us/step - loss: 0.7681 - accuracy: 0.4961\n",
      "Epoch 4/10\n",
      "12/12 [==============================] - 0s 637us/step - loss: 0.7549 - accuracy: 0.4961\n",
      "Epoch 5/10\n",
      "12/12 [==============================] - 0s 955us/step - loss: 0.7438 - accuracy: 0.4961\n",
      "Epoch 6/10\n",
      "12/12 [==============================] - 0s 1ms/step - loss: 0.7345 - accuracy: 0.4961\n",
      "Epoch 7/10\n",
      "12/12 [==============================] - 0s 1ms/step - loss: 0.7270 - accuracy: 0.4961\n",
      "Epoch 8/10\n",
      "12/12 [==============================] - 0s 602us/step - loss: 0.7205 - accuracy: 0.4961\n",
      "Epoch 9/10\n",
      "12/12 [==============================] - 0s 895us/step - loss: 0.7150 - accuracy: 0.4961\n",
      "Epoch 10/10\n",
      "12/12 [==============================] - 0s 952us/step - loss: 0.7104 - accuracy: 0.4961\n"
     ]
    }
   ],
   "source": [
    "model = Sequential()\n",
    "# We will start with our trusty sigmoid function.\n",
    "# What does input dimension correspond to?\n",
    "model.add(Dense(12, activation='sigmoid', input_dim=64))\n",
    "model.add(Dense(8, activation='sigmoid'))\n",
    "model.add(Dense(1, activation='sigmoid'))\n",
    "\n",
    "model.compile(optimizer='SGD' ,\n",
    "              # We use binary_crossentropy for a binary loss function\n",
    "              loss='binary_crossentropy',\n",
    "              metrics=['accuracy'])\n",
    "\n",
    "# Assign the variable history to store the results,\n",
    "# and set verbose=1 so we can see the output. To see\n",
    "# only the metrics at the end of each epoch, set verbose=2.\n",
    "results = model.fit(X_pure_train, y_pure_train, epochs=10, batch_size=100, verbose=1)"
   ]
  },
  {
   "cell_type": "markdown",
   "metadata": {},
   "source": [
    "We can access the history of our model via `results.history`.\n",
    "Use __dict__ to take a tour."
   ]
  },
  {
   "cell_type": "code",
   "execution_count": 12,
   "metadata": {
    "scrolled": true
   },
   "outputs": [
    {
     "name": "stdout",
     "output_type": "stream",
     "text": [
      "Epoch 1/50\n",
      "5/5 [==============================] - 0s 863us/step - loss: 1.7380 - accuracy: 0.4057\n",
      "Epoch 2/50\n",
      "5/5 [==============================] - 0s 794us/step - loss: 1.1352 - accuracy: 0.4329\n",
      "Epoch 3/50\n",
      "5/5 [==============================] - 0s 765us/step - loss: 0.8908 - accuracy: 0.4986\n",
      "Epoch 4/50\n",
      "5/5 [==============================] - 0s 991us/step - loss: 0.7590 - accuracy: 0.5609\n",
      "Epoch 5/50\n",
      "5/5 [==============================] - 0s 882us/step - loss: 0.6687 - accuracy: 0.6233\n",
      "Epoch 6/50\n",
      "5/5 [==============================] - 0s 923us/step - loss: 0.6009 - accuracy: 0.6739\n",
      "Epoch 7/50\n",
      "5/5 [==============================] - 0s 1ms/step - loss: 0.5422 - accuracy: 0.7117\n",
      "Epoch 8/50\n",
      "5/5 [==============================] - 0s 1ms/step - loss: 0.4939 - accuracy: 0.7479\n",
      "Epoch 9/50\n",
      "5/5 [==============================] - 0s 1ms/step - loss: 0.4479 - accuracy: 0.7757\n",
      "Epoch 10/50\n",
      "5/5 [==============================] - 0s 857us/step - loss: 0.4160 - accuracy: 0.8041\n",
      "Epoch 11/50\n",
      "5/5 [==============================] - 0s 939us/step - loss: 0.3731 - accuracy: 0.8280\n",
      "Epoch 12/50\n",
      "5/5 [==============================] - 0s 1ms/step - loss: 0.3403 - accuracy: 0.8525\n",
      "Epoch 13/50\n",
      "5/5 [==============================] - 0s 787us/step - loss: 0.3183 - accuracy: 0.8598\n",
      "Epoch 14/50\n",
      "5/5 [==============================] - 0s 1ms/step - loss: 0.2922 - accuracy: 0.8787\n",
      "Epoch 15/50\n",
      "5/5 [==============================] - 0s 1ms/step - loss: 0.2692 - accuracy: 0.8937\n",
      "Epoch 16/50\n",
      "5/5 [==============================] - 0s 1ms/step - loss: 0.2542 - accuracy: 0.8993\n",
      "Epoch 17/50\n",
      "5/5 [==============================] - 0s 1ms/step - loss: 0.2357 - accuracy: 0.9115\n",
      "Epoch 18/50\n",
      "5/5 [==============================] - 0s 1ms/step - loss: 0.2218 - accuracy: 0.9149\n",
      "Epoch 19/50\n",
      "5/5 [==============================] - 0s 937us/step - loss: 0.2116 - accuracy: 0.9226\n",
      "Epoch 20/50\n",
      "5/5 [==============================] - 0s 1ms/step - loss: 0.1973 - accuracy: 0.9304\n",
      "Epoch 21/50\n",
      "5/5 [==============================] - 0s 1ms/step - loss: 0.1901 - accuracy: 0.9299\n",
      "Epoch 22/50\n",
      "5/5 [==============================] - 0s 1ms/step - loss: 0.1885 - accuracy: 0.9265\n",
      "Epoch 23/50\n",
      "5/5 [==============================] - 0s 2ms/step - loss: 0.1723 - accuracy: 0.9371\n",
      "Epoch 24/50\n",
      "5/5 [==============================] - 0s 1ms/step - loss: 0.1675 - accuracy: 0.9421\n",
      "Epoch 25/50\n",
      "5/5 [==============================] - 0s 1ms/step - loss: 0.1660 - accuracy: 0.9343\n",
      "Epoch 26/50\n",
      "5/5 [==============================] - 0s 1ms/step - loss: 0.1529 - accuracy: 0.9399\n",
      "Epoch 27/50\n",
      "5/5 [==============================] - 0s 807us/step - loss: 0.1491 - accuracy: 0.9399\n",
      "Epoch 28/50\n",
      "5/5 [==============================] - 0s 918us/step - loss: 0.1523 - accuracy: 0.9382\n",
      "Epoch 29/50\n",
      "5/5 [==============================] - 0s 991us/step - loss: 0.1348 - accuracy: 0.9494\n",
      "Epoch 30/50\n",
      "5/5 [==============================] - 0s 1ms/step - loss: 0.1291 - accuracy: 0.9516\n",
      "Epoch 31/50\n",
      "5/5 [==============================] - 0s 2ms/step - loss: 0.1252 - accuracy: 0.9510\n",
      "Epoch 32/50\n",
      "5/5 [==============================] - 0s 1ms/step - loss: 0.1212 - accuracy: 0.9538\n",
      "Epoch 33/50\n",
      "5/5 [==============================] - 0s 1ms/step - loss: 0.1234 - accuracy: 0.9538\n",
      "Epoch 34/50\n",
      "5/5 [==============================] - 0s 1ms/step - loss: 0.1122 - accuracy: 0.9583\n",
      "Epoch 35/50\n",
      "5/5 [==============================] - 0s 1ms/step - loss: 0.1129 - accuracy: 0.9627\n",
      "Epoch 36/50\n",
      "5/5 [==============================] - 0s 2ms/step - loss: 0.1064 - accuracy: 0.9627\n",
      "Epoch 37/50\n",
      "5/5 [==============================] - 0s 1ms/step - loss: 0.1075 - accuracy: 0.9610\n",
      "Epoch 38/50\n",
      "5/5 [==============================] - 0s 1ms/step - loss: 0.1069 - accuracy: 0.9622\n",
      "Epoch 39/50\n",
      "5/5 [==============================] - 0s 1ms/step - loss: 0.0987 - accuracy: 0.9649\n",
      "Epoch 40/50\n",
      "5/5 [==============================] - 0s 991us/step - loss: 0.0961 - accuracy: 0.9683\n",
      "Epoch 41/50\n",
      "5/5 [==============================] - 0s 1ms/step - loss: 0.0940 - accuracy: 0.9683\n",
      "Epoch 42/50\n",
      "5/5 [==============================] - 0s 1ms/step - loss: 0.0972 - accuracy: 0.9672\n",
      "Epoch 43/50\n",
      "5/5 [==============================] - 0s 827us/step - loss: 0.0987 - accuracy: 0.9638\n",
      "Epoch 44/50\n",
      "5/5 [==============================] - 0s 961us/step - loss: 0.0898 - accuracy: 0.9666\n",
      "Epoch 45/50\n",
      "5/5 [==============================] - 0s 956us/step - loss: 0.0863 - accuracy: 0.9705\n",
      "Epoch 46/50\n",
      "5/5 [==============================] - 0s 950us/step - loss: 0.0829 - accuracy: 0.9738\n",
      "Epoch 47/50\n",
      "5/5 [==============================] - 0s 942us/step - loss: 0.0833 - accuracy: 0.9716\n",
      "Epoch 48/50\n",
      "5/5 [==============================] - 0s 881us/step - loss: 0.0848 - accuracy: 0.9722\n",
      "Epoch 49/50\n",
      "5/5 [==============================] - 0s 2ms/step - loss: 0.0801 - accuracy: 0.9716\n",
      "Epoch 50/50\n",
      "5/5 [==============================] - 0s 1ms/step - loss: 0.0769 - accuracy: 0.9750\n"
     ]
    },
    {
     "data": {
      "text/plain": [
       "<tensorflow.python.keras.callbacks.History at 0x7fa74718d4f0>"
      ]
     },
     "execution_count": 12,
     "metadata": {},
     "output_type": "execute_result"
    }
   ],
   "source": [
    "model = Sequential()\n",
    "model.add(Dense(12, activation='relu', input_dim=64))\n",
    "model.add(Dense(8, activation='relu'))\n",
    "model.add(Dense(1, activation='sigmoid'))\n",
    "\n",
    "model.compile(optimizer='rmsprop',\n",
    "             loss='binary_crossentropy',\n",
    "             metrics=['accuracy'])\n",
    "\n",
    "model.fit(X, y_binary, epochs=50, batch_size=360)"
   ]
  },
  {
   "cell_type": "code",
   "execution_count": 13,
   "metadata": {},
   "outputs": [
    {
     "data": {
      "text/plain": [
       "{'validation_data': None,\n",
       " 'model': <tensorflow.python.keras.engine.sequential.Sequential at 0x7fa747e4a9d0>,\n",
       " '_chief_worker_only': None,\n",
       " '_supports_tf_logs': False,\n",
       " 'history': {'loss': [0.802660346031189,\n",
       "   0.7839115858078003,\n",
       "   0.7680656909942627,\n",
       "   0.7548936605453491,\n",
       "   0.7438019514083862,\n",
       "   0.7345095276832581,\n",
       "   0.7269632816314697,\n",
       "   0.7205042243003845,\n",
       "   0.7150325775146484,\n",
       "   0.7103627920150757],\n",
       "  'accuracy': [0.4960835576057434,\n",
       "   0.4960835576057434,\n",
       "   0.4960835576057434,\n",
       "   0.4960835576057434,\n",
       "   0.4960835576057434,\n",
       "   0.4960835576057434,\n",
       "   0.4960835576057434,\n",
       "   0.4960835576057434,\n",
       "   0.4960835576057434,\n",
       "   0.4960835576057434]},\n",
       " 'params': {'verbose': 1, 'epochs': 10, 'steps': 12},\n",
       " 'epoch': [0, 1, 2, 3, 4, 5, 6, 7, 8, 9]}"
      ]
     },
     "execution_count": 13,
     "metadata": {},
     "output_type": "execute_result"
    }
   ],
   "source": [
    "results.__dict__"
   ]
  },
  {
   "cell_type": "code",
   "execution_count": 15,
   "metadata": {},
   "outputs": [
    {
     "data": {
      "image/png": "[encoded data removed]",
      "text/plain": [
       "<Figure size 720x360 with 2 Axes>"
      ]
     },
     "metadata": {
      "needs_background": "light"
     },
     "output_type": "display_data"
    }
   ],
   "source": [
    "sigmoid_loss = results.history['loss']\n",
    "sigmoid_accuracy = results.history['accuracy']\n",
    "fig, (ax1, ax2) = plt.subplots(1, 2, figsize=(10, 5))\n",
    "sns.lineplot(x=results.epoch, y=sigmoid_loss, ax=ax1, label='loss')\n",
    "sns.lineplot(x=results.epoch, y=sigmoid_accuracy, ax=ax2, label='accuracy');"
   ]
  },
  {
   "cell_type": "markdown",
   "metadata": {},
   "source": [
    "We have two plots above both relating to the quality of our model.  The left-hand plot is our loss. It uses the probabilities associated with our predictions to judge how well our prediction fits reality. We want it to decrease as far as possible.\n",
    "\n",
    "The accuracy judges how well the predictions are after applying the threshold at the output layer.  We want accuracy to increase."
   ]
  },
  {
   "cell_type": "markdown",
   "metadata": {},
   "source": [
    "If we look at our loss, it is still decreasing. That is a signal that our model is **still learning**. If our model is still learning, we can allow it to get better by turning a few dials.\n",
    "\n",
    "Let's:\n",
    "- increase the number of epochs;\n",
    "- change sigmoid activation in the hidden layers to ReLU; and\n",
    "- decrease the batch size."
   ]
  },
  {
   "cell_type": "code",
   "execution_count": 16,
   "metadata": {},
   "outputs": [
    {
     "data": {
      "text/plain": [
       "1149"
      ]
     },
     "execution_count": 16,
     "metadata": {},
     "output_type": "execute_result"
    }
   ],
   "source": [
    "X_pure_train.shape[0]"
   ]
  },
  {
   "cell_type": "code",
   "execution_count": 17,
   "metadata": {},
   "outputs": [
    {
     "name": "stdout",
     "output_type": "stream",
     "text": [
      "Epoch 1/100\n",
      "36/36 [==============================] - 0s 2ms/step - loss: 0.7154 - accuracy: 0.4273\n",
      "Epoch 2/100\n",
      "36/36 [==============================] - 0s 1ms/step - loss: 0.7050 - accuracy: 0.4743\n",
      "Epoch 3/100\n",
      "36/36 [==============================] - 0s 1ms/step - loss: 0.6969 - accuracy: 0.4943\n",
      "Epoch 4/100\n",
      "36/36 [==============================] - 0s 1ms/step - loss: 0.6905 - accuracy: 0.5117\n",
      "Epoch 5/100\n",
      "36/36 [==============================] - 0s 1ms/step - loss: 0.6854 - accuracy: 0.5257\n",
      "Epoch 6/100\n",
      "36/36 [==============================] - 0s 1ms/step - loss: 0.6810 - accuracy: 0.5561\n",
      "Epoch 7/100\n",
      "36/36 [==============================] - 0s 1ms/step - loss: 0.6769 - accuracy: 0.5779\n",
      "Epoch 8/100\n",
      "36/36 [==============================] - 0s 1ms/step - loss: 0.6726 - accuracy: 0.6118\n",
      "Epoch 9/100\n",
      "36/36 [==============================] - 0s 2ms/step - loss: 0.6681 - accuracy: 0.6258\n",
      "Epoch 10/100\n",
      "36/36 [==============================] - 0s 1ms/step - loss: 0.6628 - accuracy: 0.6466\n",
      "Epoch 11/100\n",
      "36/36 [==============================] - 0s 1ms/step - loss: 0.6567 - accuracy: 0.6762\n",
      "Epoch 12/100\n",
      "36/36 [==============================] - 0s 1ms/step - loss: 0.6491 - accuracy: 0.7076\n",
      "Epoch 13/100\n",
      "36/36 [==============================] - 0s 695us/step - loss: 0.6394 - accuracy: 0.7189\n",
      "Epoch 14/100\n",
      "36/36 [==============================] - 0s 881us/step - loss: 0.6279 - accuracy: 0.7520\n",
      "Epoch 15/100\n",
      "36/36 [==============================] - 0s 944us/step - loss: 0.6138 - accuracy: 0.7624\n",
      "Epoch 16/100\n",
      "36/36 [==============================] - 0s 994us/step - loss: 0.5974 - accuracy: 0.7781\n",
      "Epoch 17/100\n",
      "36/36 [==============================] - 0s 1ms/step - loss: 0.5785 - accuracy: 0.7868\n",
      "Epoch 18/100\n",
      "36/36 [==============================] - 0s 1ms/step - loss: 0.5574 - accuracy: 0.8050\n",
      "Epoch 19/100\n",
      "36/36 [==============================] - 0s 1ms/step - loss: 0.5346 - accuracy: 0.8198\n",
      "Epoch 20/100\n",
      "36/36 [==============================] - 0s 1ms/step - loss: 0.5106 - accuracy: 0.8303\n",
      "Epoch 21/100\n",
      "36/36 [==============================] - 0s 1ms/step - loss: 0.4861 - accuracy: 0.8320\n",
      "Epoch 22/100\n",
      "36/36 [==============================] - 0s 990us/step - loss: 0.4617 - accuracy: 0.8477\n",
      "Epoch 23/100\n",
      "36/36 [==============================] - 0s 990us/step - loss: 0.4386 - accuracy: 0.8451\n",
      "Epoch 24/100\n",
      "36/36 [==============================] - 0s 777us/step - loss: 0.4173 - accuracy: 0.8503\n",
      "Epoch 25/100\n",
      "36/36 [==============================] - 0s 796us/step - loss: 0.3978 - accuracy: 0.8547\n",
      "Epoch 26/100\n",
      "36/36 [==============================] - 0s 857us/step - loss: 0.3803 - accuracy: 0.8555\n",
      "Epoch 27/100\n",
      "36/36 [==============================] - 0s 713us/step - loss: 0.3647 - accuracy: 0.8625\n",
      "Epoch 28/100\n",
      "36/36 [==============================] - 0s 865us/step - loss: 0.3514 - accuracy: 0.8651\n",
      "Epoch 29/100\n",
      "36/36 [==============================] - 0s 867us/step - loss: 0.3387 - accuracy: 0.8686\n",
      "Epoch 30/100\n",
      "36/36 [==============================] - 0s 787us/step - loss: 0.3280 - accuracy: 0.8747\n",
      "Epoch 31/100\n",
      "36/36 [==============================] - 0s 1ms/step - loss: 0.3175 - accuracy: 0.8738\n",
      "Epoch 32/100\n",
      "36/36 [==============================] - 0s 1ms/step - loss: 0.3089 - accuracy: 0.8808\n",
      "Epoch 33/100\n",
      "36/36 [==============================] - 0s 1ms/step - loss: 0.3014 - accuracy: 0.8764\n",
      "Epoch 34/100\n",
      "36/36 [==============================] - 0s 1ms/step - loss: 0.2934 - accuracy: 0.8825\n",
      "Epoch 35/100\n",
      "36/36 [==============================] - 0s 2ms/step - loss: 0.2866 - accuracy: 0.8886\n",
      "Epoch 36/100\n",
      "36/36 [==============================] - 0s 1ms/step - loss: 0.2806 - accuracy: 0.8860\n",
      "Epoch 37/100\n",
      "36/36 [==============================] - 0s 1ms/step - loss: 0.2761 - accuracy: 0.8869\n",
      "Epoch 38/100\n",
      "36/36 [==============================] - 0s 1ms/step - loss: 0.2694 - accuracy: 0.8886\n",
      "Epoch 39/100\n",
      "36/36 [==============================] - 0s 1ms/step - loss: 0.2652 - accuracy: 0.8930\n",
      "Epoch 40/100\n",
      "36/36 [==============================] - 0s 2ms/step - loss: 0.2600 - accuracy: 0.8964\n",
      "Epoch 41/100\n",
      "36/36 [==============================] - 0s 1ms/step - loss: 0.2557 - accuracy: 0.8990\n",
      "Epoch 42/100\n",
      "36/36 [==============================] - 0s 781us/step - loss: 0.2522 - accuracy: 0.9008\n",
      "Epoch 43/100\n",
      "36/36 [==============================] - 0s 1ms/step - loss: 0.2477 - accuracy: 0.9008\n",
      "Epoch 44/100\n",
      "36/36 [==============================] - 0s 765us/step - loss: 0.2448 - accuracy: 0.9034\n",
      "Epoch 45/100\n",
      "36/36 [==============================] - 0s 1ms/step - loss: 0.2416 - accuracy: 0.9077\n",
      "Epoch 46/100\n",
      "36/36 [==============================] - 0s 948us/step - loss: 0.2391 - accuracy: 0.9069\n",
      "Epoch 47/100\n",
      "36/36 [==============================] - 0s 1ms/step - loss: 0.2358 - accuracy: 0.9060\n",
      "Epoch 48/100\n",
      "36/36 [==============================] - 0s 1ms/step - loss: 0.2336 - accuracy: 0.9069\n",
      "Epoch 49/100\n",
      "36/36 [==============================] - 0s 1ms/step - loss: 0.2307 - accuracy: 0.9086\n",
      "Epoch 50/100\n",
      "36/36 [==============================] - 0s 1ms/step - loss: 0.2287 - accuracy: 0.9086\n",
      "Epoch 51/100\n",
      "36/36 [==============================] - 0s 1ms/step - loss: 0.2268 - accuracy: 0.9104\n",
      "Epoch 52/100\n",
      "36/36 [==============================] - 0s 1ms/step - loss: 0.2251 - accuracy: 0.9086\n",
      "Epoch 53/100\n",
      "36/36 [==============================] - 0s 1ms/step - loss: 0.2233 - accuracy: 0.9121\n",
      "Epoch 54/100\n",
      "36/36 [==============================] - 0s 2ms/step - loss: 0.2208 - accuracy: 0.9095\n",
      "Epoch 55/100\n",
      "36/36 [==============================] - 0s 1ms/step - loss: 0.2201 - accuracy: 0.9060\n",
      "Epoch 56/100\n",
      "36/36 [==============================] - 0s 971us/step - loss: 0.2174 - accuracy: 0.9095\n",
      "Epoch 57/100\n",
      "36/36 [==============================] - 0s 2ms/step - loss: 0.2157 - accuracy: 0.9138\n",
      "Epoch 58/100\n",
      "36/36 [==============================] - 0s 922us/step - loss: 0.2149 - accuracy: 0.9130\n",
      "Epoch 59/100\n",
      "36/36 [==============================] - 0s 1ms/step - loss: 0.2125 - accuracy: 0.9104\n",
      "Epoch 60/100\n",
      "36/36 [==============================] - 0s 1ms/step - loss: 0.2121 - accuracy: 0.9121\n",
      "Epoch 61/100\n",
      "36/36 [==============================] - 0s 1ms/step - loss: 0.2106 - accuracy: 0.9060\n",
      "Epoch 62/100\n",
      "36/36 [==============================] - 0s 1ms/step - loss: 0.2094 - accuracy: 0.9112\n",
      "Epoch 63/100\n",
      "36/36 [==============================] - 0s 1ms/step - loss: 0.2071 - accuracy: 0.9121\n",
      "Epoch 64/100\n",
      "36/36 [==============================] - 0s 2ms/step - loss: 0.2071 - accuracy: 0.9138\n",
      "Epoch 65/100\n",
      "36/36 [==============================] - 0s 1ms/step - loss: 0.2053 - accuracy: 0.9156\n",
      "Epoch 66/100\n",
      "36/36 [==============================] - 0s 759us/step - loss: 0.2045 - accuracy: 0.9130\n",
      "Epoch 67/100\n",
      "36/36 [==============================] - 0s 729us/step - loss: 0.2035 - accuracy: 0.9156\n",
      "Epoch 68/100\n",
      "36/36 [==============================] - 0s 621us/step - loss: 0.2004 - accuracy: 0.9112\n",
      "Epoch 69/100\n",
      "36/36 [==============================] - 0s 567us/step - loss: 0.2029 - accuracy: 0.9112\n",
      "Epoch 70/100\n",
      "36/36 [==============================] - 0s 660us/step - loss: 0.2008 - accuracy: 0.9156\n",
      "Epoch 71/100\n",
      "36/36 [==============================] - 0s 679us/step - loss: 0.1996 - accuracy: 0.9138\n",
      "Epoch 72/100\n",
      "36/36 [==============================] - 0s 606us/step - loss: 0.1984 - accuracy: 0.9147\n",
      "Epoch 73/100\n",
      "36/36 [==============================] - 0s 586us/step - loss: 0.1967 - accuracy: 0.9156\n",
      "Epoch 74/100\n",
      "36/36 [==============================] - 0s 651us/step - loss: 0.1951 - accuracy: 0.9138\n",
      "Epoch 75/100\n",
      "36/36 [==============================] - 0s 609us/step - loss: 0.1956 - accuracy: 0.9147\n",
      "Epoch 76/100\n",
      "36/36 [==============================] - 0s 640us/step - loss: 0.1947 - accuracy: 0.9173\n",
      "Epoch 77/100\n",
      "36/36 [==============================] - 0s 590us/step - loss: 0.1933 - accuracy: 0.9138\n",
      "Epoch 78/100\n",
      "36/36 [==============================] - 0s 628us/step - loss: 0.1931 - accuracy: 0.9138\n",
      "Epoch 79/100\n",
      "36/36 [==============================] - 0s 589us/step - loss: 0.1915 - accuracy: 0.9182\n",
      "Epoch 80/100\n",
      "36/36 [==============================] - 0s 621us/step - loss: 0.1906 - accuracy: 0.9138\n",
      "Epoch 81/100\n",
      "36/36 [==============================] - 0s 607us/step - loss: 0.1904 - accuracy: 0.9173\n",
      "Epoch 82/100\n",
      "36/36 [==============================] - 0s 685us/step - loss: 0.1901 - accuracy: 0.9147\n",
      "Epoch 83/100\n",
      "36/36 [==============================] - 0s 590us/step - loss: 0.1890 - accuracy: 0.9199\n",
      "Epoch 84/100\n",
      "36/36 [==============================] - 0s 655us/step - loss: 0.1880 - accuracy: 0.9138\n",
      "Epoch 85/100\n",
      "36/36 [==============================] - 0s 805us/step - loss: 0.1858 - accuracy: 0.9138\n",
      "Epoch 86/100\n",
      "36/36 [==============================] - 0s 832us/step - loss: 0.1868 - accuracy: 0.9173\n",
      "Epoch 87/100\n",
      "36/36 [==============================] - 0s 796us/step - loss: 0.1855 - accuracy: 0.9199\n",
      "Epoch 88/100\n",
      "36/36 [==============================] - 0s 1ms/step - loss: 0.1853 - accuracy: 0.9199\n",
      "Epoch 89/100\n",
      "36/36 [==============================] - 0s 1ms/step - loss: 0.1831 - accuracy: 0.9199\n",
      "Epoch 90/100\n",
      "36/36 [==============================] - 0s 867us/step - loss: 0.1811 - accuracy: 0.9191\n",
      "Epoch 91/100\n",
      "36/36 [==============================] - 0s 1ms/step - loss: 0.1829 - accuracy: 0.9199\n",
      "Epoch 92/100\n",
      "36/36 [==============================] - 0s 1ms/step - loss: 0.1815 - accuracy: 0.9208\n",
      "Epoch 93/100\n",
      "36/36 [==============================] - 0s 1ms/step - loss: 0.1824 - accuracy: 0.9191\n",
      "Epoch 94/100\n",
      "36/36 [==============================] - 0s 1ms/step - loss: 0.1797 - accuracy: 0.9182\n",
      "Epoch 95/100\n",
      "36/36 [==============================] - 0s 2ms/step - loss: 0.1801 - accuracy: 0.9217\n",
      "Epoch 96/100\n",
      "36/36 [==============================] - 0s 1ms/step - loss: 0.1796 - accuracy: 0.9173\n",
      "Epoch 97/100\n",
      "36/36 [==============================] - 0s 746us/step - loss: 0.1783 - accuracy: 0.9225\n",
      "Epoch 98/100\n",
      "36/36 [==============================] - 0s 774us/step - loss: 0.1781 - accuracy: 0.9234\n",
      "Epoch 99/100\n",
      "36/36 [==============================] - 0s 793us/step - loss: 0.1769 - accuracy: 0.9217\n",
      "Epoch 100/100\n",
      "36/36 [==============================] - 0s 973us/step - loss: 0.1750 - accuracy: 0.9225\n"
     ]
    }
   ],
   "source": [
    "model = Sequential()\n",
    "model.add(Dense(12, activation='relu', input_dim=64))\n",
    "model.add(Dense(8, activation='relu'))\n",
    "model.add(Dense(1, activation='sigmoid'))\n",
    "\n",
    "model.compile(optimizer='SGD',\n",
    "              loss='binary_crossentropy',\n",
    "              metrics=['accuracy'])\n",
    "\n",
    "# Assign the variable history to store the results,\n",
    "# and set verbose=1 so we can see the output.\n",
    "results = model.fit(X_pure_train, y_pure_train, epochs=100, batch_size=None, verbose=1)"
   ]
  },
  {
   "cell_type": "code",
   "execution_count": 18,
   "metadata": {},
   "outputs": [
    {
     "data": {
      "image/png": "[encoded data removed]",
      "text/plain": [
       "<Figure size 720x360 with 2 Axes>"
      ]
     },
     "metadata": {
      "needs_background": "light"
     },
     "output_type": "display_data"
    }
   ],
   "source": [
    "sigmoid_loss = results.history['loss']\n",
    "sigmoid_accuracy = results.history['accuracy']\n",
    "\n",
    "fig, (ax1, ax2) = plt.subplots(1, 2, figsize=(10, 5))\n",
    "sns.lineplot(x=results.epoch, y=sigmoid_loss, ax=ax1, label='loss')\n",
    "sns.lineplot(x=results.epoch, y=sigmoid_accuracy, ax=ax2, label='accuracy');"
   ]
  },
  {
   "cell_type": "markdown",
   "metadata": {},
   "source": [
    "If we increase the learning rate to a very high number, we see that our model overshoots the minimum, and starts bouncing all around."
   ]
  },
  {
   "cell_type": "code",
   "execution_count": 20,
   "metadata": {},
   "outputs": [
    {
     "name": "stdout",
     "output_type": "stream",
     "text": [
      "Epoch 1/30\n",
      "115/115 [==============================] - 0s 715us/step - loss: 60.6220 - accuracy: 0.4856\n",
      "Epoch 2/30\n",
      "115/115 [==============================] - 0s 793us/step - loss: 1.0777 - accuracy: 0.4839\n",
      "Epoch 3/30\n",
      "115/115 [==============================] - 0s 619us/step - loss: 0.9650 - accuracy: 0.5013\n",
      "Epoch 4/30\n",
      "115/115 [==============================] - 0s 626us/step - loss: 0.9704 - accuracy: 0.5030\n",
      "Epoch 5/30\n",
      "115/115 [==============================] - 0s 623us/step - loss: 1.0024 - accuracy: 0.4900\n",
      "Epoch 6/30\n",
      "115/115 [==============================] - 0s 630us/step - loss: 0.9733 - accuracy: 0.4935\n",
      "Epoch 7/30\n",
      "115/115 [==============================] - 0s 686us/step - loss: 0.9689 - accuracy: 0.4935\n",
      "Epoch 8/30\n",
      "115/115 [==============================] - 0s 660us/step - loss: 1.0215 - accuracy: 0.4943\n",
      "Epoch 9/30\n",
      "115/115 [==============================] - 0s 808us/step - loss: 1.0141 - accuracy: 0.4900\n",
      "Epoch 10/30\n",
      "115/115 [==============================] - 0s 1ms/step - loss: 1.0349 - accuracy: 0.4987\n",
      "Epoch 11/30\n",
      "115/115 [==============================] - 0s 1ms/step - loss: 0.9512 - accuracy: 0.4943\n",
      "Epoch 12/30\n",
      "115/115 [==============================] - 0s 1ms/step - loss: 0.9810 - accuracy: 0.5065\n",
      "Epoch 13/30\n",
      "115/115 [==============================] - 0s 1ms/step - loss: 0.9951 - accuracy: 0.5013\n",
      "Epoch 14/30\n",
      "115/115 [==============================] - 0s 1ms/step - loss: 1.0333 - accuracy: 0.4996\n",
      "Epoch 15/30\n",
      "115/115 [==============================] - 0s 1ms/step - loss: 0.9827 - accuracy: 0.5126\n",
      "Epoch 16/30\n",
      "115/115 [==============================] - 0s 1ms/step - loss: 0.9580 - accuracy: 0.5065\n",
      "Epoch 17/30\n",
      "115/115 [==============================] - 0s 790us/step - loss: 1.0631 - accuracy: 0.4900\n",
      "Epoch 18/30\n",
      "115/115 [==============================] - 0s 993us/step - loss: 0.9904 - accuracy: 0.4987\n",
      "Epoch 19/30\n",
      "115/115 [==============================] - 0s 645us/step - loss: 0.9719 - accuracy: 0.5135\n",
      "Epoch 20/30\n",
      "115/115 [==============================] - 0s 660us/step - loss: 0.9593 - accuracy: 0.5091\n",
      "Epoch 21/30\n",
      "115/115 [==============================] - 0s 845us/step - loss: 1.0139 - accuracy: 0.4891\n",
      "Epoch 22/30\n",
      "115/115 [==============================] - 0s 640us/step - loss: 0.8853 - accuracy: 0.5509\n",
      "Epoch 23/30\n",
      "115/115 [==============================] - 0s 701us/step - loss: 0.9838 - accuracy: 0.4900\n",
      "Epoch 24/30\n",
      "115/115 [==============================] - 0s 618us/step - loss: 0.9529 - accuracy: 0.5057\n",
      "Epoch 25/30\n",
      "115/115 [==============================] - 0s 699us/step - loss: 1.0860 - accuracy: 0.4935\n",
      "Epoch 26/30\n",
      "115/115 [==============================] - 0s 714us/step - loss: 0.9863 - accuracy: 0.5004\n",
      "Epoch 27/30\n",
      "115/115 [==============================] - 0s 1ms/step - loss: 1.0084 - accuracy: 0.4996\n",
      "Epoch 28/30\n",
      "115/115 [==============================] - 0s 1ms/step - loss: 0.8632 - accuracy: 0.5309\n",
      "Epoch 29/30\n",
      "115/115 [==============================] - 0s 1ms/step - loss: 1.0184 - accuracy: 0.5057\n",
      "Epoch 30/30\n",
      "115/115 [==============================] - 0s 1ms/step - loss: 1.0898 - accuracy: 0.4952\n"
     ]
    },
    {
     "data": {
      "image/png": "[encoded data removed]",
      "text/plain": [
       "<Figure size 720x360 with 2 Axes>"
      ]
     },
     "metadata": {
      "needs_background": "light"
     },
     "output_type": "display_data"
    }
   ],
   "source": [
    "model = Sequential()\n",
    "\n",
    "sgd = SGD(lr=9)\n",
    "model.add(Dense(12, activation='relu', input_dim=64))\n",
    "model.add(Dense(8, activation='relu'))\n",
    "model.add(Dense(1, activation='sigmoid'))\n",
    "\n",
    "model.compile(optimizer=sgd,\n",
    "              loss='binary_crossentropy',\n",
    "              metrics=['accuracy'])\n",
    "\n",
    "results = model.fit(X_pure_train, y_pure_train,\n",
    "                    epochs=30, batch_size=10, verbose=1)\n",
    "\n",
    "relu_loss = results.history['loss']\n",
    "relu_accuracy = results.history['accuracy']\n",
    "\n",
    "fig, (ax1, ax2) = plt.subplots(1, 2, figsize=(10, 5))\n",
    "sns.lineplot(x=results.epoch, y=relu_loss, ax=ax1, label='loss')\n",
    "sns.lineplot(x=results.epoch, y=relu_accuracy, ax=ax2, label='accuracy');"
   ]
  },
  {
   "cell_type": "markdown",
   "metadata": {},
   "source": [
    "### Exercise\n",
    "\n",
    "We have been looking only at our training set. Let's add in our validation set to the picture. Check the docstring for the `.fit()` method and add in our validation data."
   ]
  },
  {
   "cell_type": "code",
   "execution_count": 21,
   "metadata": {
    "scrolled": false
   },
   "outputs": [
    {
     "name": "stdout",
     "output_type": "stream",
     "text": [
      "Epoch 1/30\n",
      "  1/115 [..............................] - ETA: 0s - loss: 0.8613 - accuracy: 0.4000WARNING:tensorflow:Callbacks method `on_train_batch_end` is slow compared to the batch time (batch time: 0.0018s vs `on_train_batch_end` time: 0.0029s). Check your callbacks.\n",
      "115/115 [==============================] - 1s 5ms/step - loss: 0.6441 - accuracy: 0.6762 - val_loss: 0.5450 - val_accuracy: 0.8090\n",
      "Epoch 2/30\n",
      "115/115 [==============================] - 0s 1ms/step - loss: 0.4472 - accuracy: 0.8103 - val_loss: 0.3910 - val_accuracy: 0.8507\n",
      "Epoch 3/30\n",
      "115/115 [==============================] - 0s 1ms/step - loss: 0.3436 - accuracy: 0.8460 - val_loss: 0.3386 - val_accuracy: 0.8924\n",
      "Epoch 4/30\n",
      "115/115 [==============================] - 0s 1ms/step - loss: 0.2830 - accuracy: 0.8799 - val_loss: 0.2763 - val_accuracy: 0.8958\n",
      "Epoch 5/30\n",
      "115/115 [==============================] - 0s 1ms/step - loss: 0.2466 - accuracy: 0.9060 - val_loss: 0.2577 - val_accuracy: 0.9132\n",
      "Epoch 6/30\n",
      "115/115 [==============================] - 0s 1ms/step - loss: 0.2220 - accuracy: 0.9077 - val_loss: 0.2188 - val_accuracy: 0.9271\n",
      "Epoch 7/30\n",
      "115/115 [==============================] - 0s 2ms/step - loss: 0.2028 - accuracy: 0.9191 - val_loss: 0.1977 - val_accuracy: 0.9375\n",
      "Epoch 8/30\n",
      "115/115 [==============================] - 0s 3ms/step - loss: 0.1829 - accuracy: 0.9260 - val_loss: 0.1855 - val_accuracy: 0.9375\n",
      "Epoch 9/30\n",
      "115/115 [==============================] - 0s 3ms/step - loss: 0.1720 - accuracy: 0.9330 - val_loss: 0.1809 - val_accuracy: 0.9375\n",
      "Epoch 10/30\n",
      "115/115 [==============================] - 0s 2ms/step - loss: 0.1543 - accuracy: 0.9365 - val_loss: 0.1591 - val_accuracy: 0.9375\n",
      "Epoch 11/30\n",
      "115/115 [==============================] - 0s 2ms/step - loss: 0.1418 - accuracy: 0.9408 - val_loss: 0.1528 - val_accuracy: 0.9444\n",
      "Epoch 12/30\n",
      "115/115 [==============================] - 0s 1ms/step - loss: 0.1261 - accuracy: 0.9487 - val_loss: 0.1363 - val_accuracy: 0.9444\n",
      "Epoch 13/30\n",
      "115/115 [==============================] - 0s 1ms/step - loss: 0.1181 - accuracy: 0.9513 - val_loss: 0.1258 - val_accuracy: 0.9514\n",
      "Epoch 14/30\n",
      "115/115 [==============================] - 0s 993us/step - loss: 0.1080 - accuracy: 0.9574 - val_loss: 0.1475 - val_accuracy: 0.9479\n",
      "Epoch 15/30\n",
      "115/115 [==============================] - 0s 1ms/step - loss: 0.1007 - accuracy: 0.9661 - val_loss: 0.1163 - val_accuracy: 0.9583\n",
      "Epoch 16/30\n",
      "115/115 [==============================] - 0s 1ms/step - loss: 0.0932 - accuracy: 0.9652 - val_loss: 0.1128 - val_accuracy: 0.9618\n",
      "Epoch 17/30\n",
      "115/115 [==============================] - 0s 1ms/step - loss: 0.0899 - accuracy: 0.9600 - val_loss: 0.1173 - val_accuracy: 0.9618\n",
      "Epoch 18/30\n",
      "115/115 [==============================] - 0s 1ms/step - loss: 0.0789 - accuracy: 0.9756 - val_loss: 0.1014 - val_accuracy: 0.9618\n",
      "Epoch 19/30\n",
      "115/115 [==============================] - 0s 1ms/step - loss: 0.0817 - accuracy: 0.9721 - val_loss: 0.1092 - val_accuracy: 0.9618\n",
      "Epoch 20/30\n",
      "115/115 [==============================] - 0s 1ms/step - loss: 0.0735 - accuracy: 0.9756 - val_loss: 0.1030 - val_accuracy: 0.9618\n",
      "Epoch 21/30\n",
      "115/115 [==============================] - 0s 1ms/step - loss: 0.0694 - accuracy: 0.9756 - val_loss: 0.0922 - val_accuracy: 0.9653\n",
      "Epoch 22/30\n",
      "115/115 [==============================] - 0s 1ms/step - loss: 0.0661 - accuracy: 0.9782 - val_loss: 0.1096 - val_accuracy: 0.9653\n",
      "Epoch 23/30\n",
      "115/115 [==============================] - 0s 1ms/step - loss: 0.0656 - accuracy: 0.9756 - val_loss: 0.0898 - val_accuracy: 0.9653\n",
      "Epoch 24/30\n",
      "115/115 [==============================] - 0s 1ms/step - loss: 0.0575 - accuracy: 0.9809 - val_loss: 0.0925 - val_accuracy: 0.9688\n",
      "Epoch 25/30\n",
      "115/115 [==============================] - 0s 1ms/step - loss: 0.0564 - accuracy: 0.9817 - val_loss: 0.0926 - val_accuracy: 0.9653\n",
      "Epoch 26/30\n",
      "115/115 [==============================] - 0s 1ms/step - loss: 0.0520 - accuracy: 0.9869 - val_loss: 0.0865 - val_accuracy: 0.9722\n",
      "Epoch 27/30\n",
      "115/115 [==============================] - 0s 1ms/step - loss: 0.0520 - accuracy: 0.9843 - val_loss: 0.0911 - val_accuracy: 0.9653\n",
      "Epoch 28/30\n",
      "115/115 [==============================] - 0s 1ms/step - loss: 0.0465 - accuracy: 0.9861 - val_loss: 0.0845 - val_accuracy: 0.9688\n",
      "Epoch 29/30\n",
      "115/115 [==============================] - 0s 1ms/step - loss: 0.0449 - accuracy: 0.9869 - val_loss: 0.0880 - val_accuracy: 0.9688\n",
      "Epoch 30/30\n",
      "115/115 [==============================] - 0s 1ms/step - loss: 0.0429 - accuracy: 0.9852 - val_loss: 0.0807 - val_accuracy: 0.9688\n"
     ]
    },
    {
     "data": {
      "image/png": "[encoded data removed]",
      "text/plain": [
       "<Figure size 720x360 with 2 Axes>"
      ]
     },
     "metadata": {
      "needs_background": "light"
     },
     "output_type": "display_data"
    }
   ],
   "source": [
    "model = Sequential()\n",
    "model.add(Dense(12, activation='relu', input_dim=64))\n",
    "model.add(Dense(8, activation='relu'))\n",
    "model.add(Dense(1, activation='sigmoid'))\n",
    "\n",
    "model.compile(optimizer='adam',\n",
    "              loss='binary_crossentropy',\n",
    "              metrics=['accuracy'])\n",
    "\n",
    "\n",
    "## YOUR CODE HERE\n",
    "results = model.fit(X_pure_train, y_pure_train, validation_data = (X_val, y_val), epochs=30,\n",
    "                   batch_size=10, verbose=1)\n",
    "\n",
    "train_loss = results.history['loss']\n",
    "train_acc = results.history['accuracy']\n",
    "val_loss = results.history['val_loss']\n",
    "val_acc = results.history['val_accuracy']\n",
    "\n",
    "fig, (ax1, ax2) = plt.subplots(1, 2, figsize=(10, 5))\n",
    "sns.lineplot(x=results.epoch, y=train_loss, ax=ax1, label='train_loss')\n",
    "sns.lineplot(x=results.epoch, y=train_acc, ax=ax2, label='train_accuracy')\n",
    "\n",
    "sns.lineplot(x=results.epoch, y=val_loss, ax=ax1, label='val_loss')\n",
    "sns.lineplot(x=results.epoch, y=val_acc, ax=ax2, label='val_accuracy');"
   ]
  },
  {
   "cell_type": "markdown",
   "metadata": {},
   "source": [
    "<details>\n",
    "    <summary>One answer here</summary>\n",
    "<code>model = Sequential()\n",
    "model.add(Dense(12, activation='relu', input_dim=64))\n",
    "model.add(Dense(8, activation='relu'))\n",
    "model.add(Dense(4, activation='relu'))\n",
    "model.add(Dense(1, activation='sigmoid'))\n",
    "model.compile(optimizer='adam',\n",
    "              loss='binary_crossentropy',\n",
    "              metrics=['accuracy'])\n",
    "results = model.fit(X_pure_train, y_pure_train,\n",
    "                   validation_data=(X_val, y_val),\n",
    "                   epochs=30, batch_size=10)\n",
    "train_loss = results.history['loss']\n",
    "train_acc = results.history['accuracy']\n",
    "val_loss = results.history['val_loss']\n",
    "val_acc = results.history['val_accuracy']\n",
    "fig, (ax1, ax2) = plt.subplots(1, 2, figsize=(10, 5))\n",
    "sns.lineplot(x=results.epoch, y=train_loss, ax=ax1, label='train_loss')\n",
    "sns.lineplot(x=results.epoch, y=train_acc, ax=ax2, label='train_accuracy')\n",
    "sns.lineplot(x=results.epoch, y=val_loss, ax=ax1, label='val_loss')\n",
    "sns.lineplot(x=results.epoch, y=val_acc, ax=ax2, label='val_accuracy');</code>\n",
    "</details>"
   ]
  },
  {
   "cell_type": "code",
   "execution_count": 22,
   "metadata": {},
   "outputs": [
    {
     "data": {
      "text/plain": [
       "0.96875"
      ]
     },
     "execution_count": 22,
     "metadata": {},
     "output_type": "execute_result"
    }
   ],
   "source": [
    "# Model validation accuracy at the end\n",
    "results.history['val_accuracy'][-1]"
   ]
  },
  {
   "cell_type": "code",
   "execution_count": 23,
   "metadata": {
    "scrolled": true
   },
   "outputs": [
    {
     "name": "stdout",
     "output_type": "stream",
     "text": [
      "9/9 [==============================] - 0s 957us/step - loss: 0.0807 - accuracy: 0.9688\n"
     ]
    },
    {
     "data": {
      "text/plain": [
       "[0.0807017907500267, 0.96875]"
      ]
     },
     "execution_count": 23,
     "metadata": {},
     "output_type": "execute_result"
    }
   ],
   "source": [
    "# Model validation accuracy at the end\n",
    "model.evaluate(X_val, y_val)"
   ]
  },
  {
   "cell_type": "markdown",
   "metadata": {},
   "source": [
    "## Connecting with `sklearn`\n",
    "\n",
    "The `keras.wrappers` submodule means that we can turn `keras` models into estimators that `sklearn` tools will recognize."
   ]
  },
  {
   "cell_type": "code",
   "execution_count": 30,
   "metadata": {},
   "outputs": [
    {
     "ename": "TypeError",
     "evalue": "If no scoring is specified, the estimator passed should have a 'score' method. The estimator <tensorflow.python.keras.engine.sequential.Sequential object at 0x7fa74a078070> does not.",
     "output_type": "error",
     "traceback": [
      "\u001b[0;31m---------------------------------------------------------------------------\u001b[0m",
      "\u001b[0;31mTypeError\u001b[0m                                 Traceback (most recent call last)",
      "\u001b[0;32m<ipython-input-30-440685741601>\u001b[0m in \u001b[0;36m<module>\u001b[0;34m\u001b[0m\n\u001b[1;32m      1\u001b[0m \u001b[0;31m# This will throw an error.\u001b[0m\u001b[0;34m\u001b[0m\u001b[0;34m\u001b[0m\u001b[0;34m\u001b[0m\u001b[0m\n\u001b[1;32m      2\u001b[0m \u001b[0;34m\u001b[0m\u001b[0m\n\u001b[0;32m----> 3\u001b[0;31m \u001b[0mcross_val_score\u001b[0m\u001b[0;34m(\u001b[0m\u001b[0mmodel\u001b[0m\u001b[0;34m,\u001b[0m \u001b[0mX_pure_train\u001b[0m\u001b[0;34m,\u001b[0m \u001b[0my_pure_train\u001b[0m\u001b[0;34m)\u001b[0m\u001b[0;34m\u001b[0m\u001b[0;34m\u001b[0m\u001b[0m\n\u001b[0m",
      "\u001b[0;32m~/opt/anaconda3/envs/flatiron-env/lib/python3.8/site-packages/sklearn/utils/validation.py\u001b[0m in \u001b[0;36minner_f\u001b[0;34m(*args, **kwargs)\u001b[0m\n\u001b[1;32m     70\u001b[0m                           FutureWarning)\n\u001b[1;32m     71\u001b[0m         \u001b[0mkwargs\u001b[0m\u001b[0;34m.\u001b[0m\u001b[0mupdate\u001b[0m\u001b[0;34m(\u001b[0m\u001b[0;34m{\u001b[0m\u001b[0mk\u001b[0m\u001b[0;34m:\u001b[0m \u001b[0marg\u001b[0m \u001b[0;32mfor\u001b[0m \u001b[0mk\u001b[0m\u001b[0;34m,\u001b[0m \u001b[0marg\u001b[0m \u001b[0;32min\u001b[0m \u001b[0mzip\u001b[0m\u001b[0;34m(\u001b[0m\u001b[0msig\u001b[0m\u001b[0;34m.\u001b[0m\u001b[0mparameters\u001b[0m\u001b[0;34m,\u001b[0m \u001b[0margs\u001b[0m\u001b[0;34m)\u001b[0m\u001b[0;34m}\u001b[0m\u001b[0;34m)\u001b[0m\u001b[0;34m\u001b[0m\u001b[0;34m\u001b[0m\u001b[0m\n\u001b[0;32m---> 72\u001b[0;31m         \u001b[0;32mreturn\u001b[0m \u001b[0mf\u001b[0m\u001b[0;34m(\u001b[0m\u001b[0;34m**\u001b[0m\u001b[0mkwargs\u001b[0m\u001b[0;34m)\u001b[0m\u001b[0;34m\u001b[0m\u001b[0;34m\u001b[0m\u001b[0m\n\u001b[0m\u001b[1;32m     73\u001b[0m     \u001b[0;32mreturn\u001b[0m \u001b[0minner_f\u001b[0m\u001b[0;34m\u001b[0m\u001b[0;34m\u001b[0m\u001b[0m\n\u001b[1;32m     74\u001b[0m \u001b[0;34m\u001b[0m\u001b[0m\n",
      "\u001b[0;32m~/opt/anaconda3/envs/flatiron-env/lib/python3.8/site-packages/sklearn/model_selection/_validation.py\u001b[0m in \u001b[0;36mcross_val_score\u001b[0;34m(estimator, X, y, groups, scoring, cv, n_jobs, verbose, fit_params, pre_dispatch, error_score)\u001b[0m\n\u001b[1;32m    397\u001b[0m     \"\"\"\n\u001b[1;32m    398\u001b[0m     \u001b[0;31m# To ensure multimetric format is not supported\u001b[0m\u001b[0;34m\u001b[0m\u001b[0;34m\u001b[0m\u001b[0;34m\u001b[0m\u001b[0m\n\u001b[0;32m--> 399\u001b[0;31m     \u001b[0mscorer\u001b[0m \u001b[0;34m=\u001b[0m \u001b[0mcheck_scoring\u001b[0m\u001b[0;34m(\u001b[0m\u001b[0mestimator\u001b[0m\u001b[0;34m,\u001b[0m \u001b[0mscoring\u001b[0m\u001b[0;34m=\u001b[0m\u001b[0mscoring\u001b[0m\u001b[0;34m)\u001b[0m\u001b[0;34m\u001b[0m\u001b[0;34m\u001b[0m\u001b[0m\n\u001b[0m\u001b[1;32m    400\u001b[0m \u001b[0;34m\u001b[0m\u001b[0m\n\u001b[1;32m    401\u001b[0m     cv_results = cross_validate(estimator=estimator, X=X, y=y, groups=groups,\n",
      "\u001b[0;32m~/opt/anaconda3/envs/flatiron-env/lib/python3.8/site-packages/sklearn/utils/validation.py\u001b[0m in \u001b[0;36minner_f\u001b[0;34m(*args, **kwargs)\u001b[0m\n\u001b[1;32m     70\u001b[0m                           FutureWarning)\n\u001b[1;32m     71\u001b[0m         \u001b[0mkwargs\u001b[0m\u001b[0;34m.\u001b[0m\u001b[0mupdate\u001b[0m\u001b[0;34m(\u001b[0m\u001b[0;34m{\u001b[0m\u001b[0mk\u001b[0m\u001b[0;34m:\u001b[0m \u001b[0marg\u001b[0m \u001b[0;32mfor\u001b[0m \u001b[0mk\u001b[0m\u001b[0;34m,\u001b[0m \u001b[0marg\u001b[0m \u001b[0;32min\u001b[0m \u001b[0mzip\u001b[0m\u001b[0;34m(\u001b[0m\u001b[0msig\u001b[0m\u001b[0;34m.\u001b[0m\u001b[0mparameters\u001b[0m\u001b[0;34m,\u001b[0m \u001b[0margs\u001b[0m\u001b[0;34m)\u001b[0m\u001b[0;34m}\u001b[0m\u001b[0;34m)\u001b[0m\u001b[0;34m\u001b[0m\u001b[0;34m\u001b[0m\u001b[0m\n\u001b[0;32m---> 72\u001b[0;31m         \u001b[0;32mreturn\u001b[0m \u001b[0mf\u001b[0m\u001b[0;34m(\u001b[0m\u001b[0;34m**\u001b[0m\u001b[0mkwargs\u001b[0m\u001b[0;34m)\u001b[0m\u001b[0;34m\u001b[0m\u001b[0;34m\u001b[0m\u001b[0m\n\u001b[0m\u001b[1;32m     73\u001b[0m     \u001b[0;32mreturn\u001b[0m \u001b[0minner_f\u001b[0m\u001b[0;34m\u001b[0m\u001b[0;34m\u001b[0m\u001b[0m\n\u001b[1;32m     74\u001b[0m \u001b[0;34m\u001b[0m\u001b[0m\n",
      "\u001b[0;32m~/opt/anaconda3/envs/flatiron-env/lib/python3.8/site-packages/sklearn/metrics/_scorer.py\u001b[0m in \u001b[0;36mcheck_scoring\u001b[0;34m(estimator, scoring, allow_none)\u001b[0m\n\u001b[1;32m    423\u001b[0m             \u001b[0;32mreturn\u001b[0m \u001b[0;32mNone\u001b[0m\u001b[0;34m\u001b[0m\u001b[0;34m\u001b[0m\u001b[0m\n\u001b[1;32m    424\u001b[0m         \u001b[0;32melse\u001b[0m\u001b[0;34m:\u001b[0m\u001b[0;34m\u001b[0m\u001b[0;34m\u001b[0m\u001b[0m\n\u001b[0;32m--> 425\u001b[0;31m             raise TypeError(\n\u001b[0m\u001b[1;32m    426\u001b[0m                 \u001b[0;34m\"If no scoring is specified, the estimator passed should \"\u001b[0m\u001b[0;34m\u001b[0m\u001b[0;34m\u001b[0m\u001b[0m\n\u001b[1;32m    427\u001b[0m                 \u001b[0;34m\"have a 'score' method. The estimator %r does not.\"\u001b[0m\u001b[0;34m\u001b[0m\u001b[0;34m\u001b[0m\u001b[0m\n",
      "\u001b[0;31mTypeError\u001b[0m: If no scoring is specified, the estimator passed should have a 'score' method. The estimator <tensorflow.python.keras.engine.sequential.Sequential object at 0x7fa74a078070> does not."
     ]
    }
   ],
   "source": [
    "# This will throw an error.\n",
    "\n",
    "cross_val_score(model, X_pure_train, y_pure_train)"
   ]
  },
  {
   "cell_type": "code",
   "execution_count": 48,
   "metadata": {},
   "outputs": [],
   "source": [
    "# Need to define a function to build the model\n",
    "def build_model():\n",
    "    model = Sequential()\n",
    "    model.add(Dense(12, activation='relu', input_dim=64))\n",
    "    model.add(Dense(8, activation='relu'))    \n",
    "    model.add(Dense(1, activation='sigmoid')) \n",
    "    \n",
    "    model.compile(optimizer='adam',\n",
    "                 loss='binary_crossentropy',\n",
    "                 metrics=['accuracy'])\n",
    "    return model"
   ]
  },
  {
   "cell_type": "code",
   "execution_count": 49,
   "metadata": {},
   "outputs": [],
   "source": [
    "keras_model = scikit_learn.KerasClassifier(build_model,\n",
    "                                          epochs=50,\n",
    "                                          batch_size=32,\n",
    "                                          verbose=1)"
   ]
  },
  {
   "cell_type": "code",
   "execution_count": 50,
   "metadata": {},
   "outputs": [
    {
     "data": {
      "text/plain": [
       "tensorflow.python.keras.wrappers.scikit_learn.KerasClassifier"
      ]
     },
     "execution_count": 50,
     "metadata": {},
     "output_type": "execute_result"
    }
   ],
   "source": [
    "type(keras_model)"
   ]
  },
  {
   "cell_type": "code",
   "execution_count": 51,
   "metadata": {},
   "outputs": [
    {
     "name": "stdout",
     "output_type": "stream",
     "text": [
      "Epoch 1/50\n",
      "24/24 [==============================] - 0s 624us/step - loss: 0.6784 - accuracy: 0.5339\n",
      "Epoch 2/50\n",
      "24/24 [==============================] - 0s 795us/step - loss: 0.6376 - accuracy: 0.6749\n",
      "Epoch 3/50\n",
      "24/24 [==============================] - 0s 870us/step - loss: 0.5978 - accuracy: 0.7598\n",
      "Epoch 4/50\n",
      "24/24 [==============================] - 0s 791us/step - loss: 0.5486 - accuracy: 0.8355\n",
      "Epoch 5/50\n",
      "24/24 [==============================] - 0s 840us/step - loss: 0.4951 - accuracy: 0.8890\n",
      "Epoch 6/50\n",
      "24/24 [==============================] - 0s 742us/step - loss: 0.4382 - accuracy: 0.8969\n",
      "Epoch 7/50\n",
      "24/24 [==============================] - 0s 700us/step - loss: 0.3881 - accuracy: 0.8916\n",
      "Epoch 8/50\n",
      "24/24 [==============================] - 0s 852us/step - loss: 0.3477 - accuracy: 0.8864\n",
      "Epoch 9/50\n",
      "24/24 [==============================] - 0s 759us/step - loss: 0.3122 - accuracy: 0.9034\n",
      "Epoch 10/50\n",
      "24/24 [==============================] - 0s 719us/step - loss: 0.2872 - accuracy: 0.8982\n",
      "Epoch 11/50\n",
      "24/24 [==============================] - 0s 717us/step - loss: 0.2638 - accuracy: 0.9151\n",
      "Epoch 12/50\n",
      "24/24 [==============================] - 0s 1ms/step - loss: 0.2532 - accuracy: 0.9073\n",
      "Epoch 13/50\n",
      "24/24 [==============================] - 0s 815us/step - loss: 0.2369 - accuracy: 0.9060\n",
      "Epoch 14/50\n",
      "24/24 [==============================] - 0s 629us/step - loss: 0.2285 - accuracy: 0.9138\n",
      "Epoch 15/50\n",
      "24/24 [==============================] - 0s 668us/step - loss: 0.2184 - accuracy: 0.9204\n",
      "Epoch 16/50\n",
      "24/24 [==============================] - 0s 1ms/step - loss: 0.2098 - accuracy: 0.9164\n",
      "Epoch 17/50\n",
      "24/24 [==============================] - 0s 911us/step - loss: 0.2025 - accuracy: 0.9243\n",
      "Epoch 18/50\n",
      "24/24 [==============================] - 0s 905us/step - loss: 0.1978 - accuracy: 0.9217\n",
      "Epoch 19/50\n",
      "24/24 [==============================] - 0s 808us/step - loss: 0.1908 - accuracy: 0.9217\n",
      "Epoch 20/50\n",
      "24/24 [==============================] - 0s 770us/step - loss: 0.1846 - accuracy: 0.9256\n",
      "Epoch 21/50\n",
      "24/24 [==============================] - 0s 760us/step - loss: 0.1820 - accuracy: 0.9243\n",
      "Epoch 22/50\n",
      "24/24 [==============================] - 0s 1ms/step - loss: 0.1753 - accuracy: 0.9321\n",
      "Epoch 23/50\n",
      "24/24 [==============================] - 0s 831us/step - loss: 0.1718 - accuracy: 0.9308\n",
      "Epoch 24/50\n",
      "24/24 [==============================] - 0s 940us/step - loss: 0.1677 - accuracy: 0.9321\n",
      "Epoch 25/50\n",
      "24/24 [==============================] - 0s 805us/step - loss: 0.1646 - accuracy: 0.9295\n",
      "Epoch 26/50\n",
      "24/24 [==============================] - 0s 1ms/step - loss: 0.1587 - accuracy: 0.9347\n",
      "Epoch 27/50\n",
      "24/24 [==============================] - 0s 1ms/step - loss: 0.1530 - accuracy: 0.9334\n",
      "Epoch 28/50\n",
      "24/24 [==============================] - 0s 2ms/step - loss: 0.1488 - accuracy: 0.9386\n",
      "Epoch 29/50\n",
      "24/24 [==============================] - 0s 1ms/step - loss: 0.1452 - accuracy: 0.9373\n",
      "Epoch 30/50\n",
      "24/24 [==============================] - 0s 1ms/step - loss: 0.1421 - accuracy: 0.9465\n",
      "Epoch 31/50\n",
      "24/24 [==============================] - 0s 2ms/step - loss: 0.1380 - accuracy: 0.9373\n",
      "Epoch 32/50\n",
      "24/24 [==============================] - 0s 1ms/step - loss: 0.1321 - accuracy: 0.9517\n",
      "Epoch 33/50\n",
      "24/24 [==============================] - 0s 880us/step - loss: 0.1284 - accuracy: 0.9504\n",
      "Epoch 34/50\n",
      "24/24 [==============================] - 0s 770us/step - loss: 0.1252 - accuracy: 0.9530\n",
      "Epoch 35/50\n",
      "24/24 [==============================] - 0s 986us/step - loss: 0.1205 - accuracy: 0.9543\n",
      "Epoch 36/50\n",
      "24/24 [==============================] - 0s 899us/step - loss: 0.1192 - accuracy: 0.9556\n",
      "Epoch 37/50\n",
      "24/24 [==============================] - 0s 1ms/step - loss: 0.1152 - accuracy: 0.9595\n",
      "Epoch 38/50\n",
      "24/24 [==============================] - 0s 674us/step - loss: 0.1125 - accuracy: 0.9608\n",
      "Epoch 39/50\n",
      "24/24 [==============================] - 0s 681us/step - loss: 0.1088 - accuracy: 0.9648\n",
      "Epoch 40/50\n",
      "24/24 [==============================] - 0s 938us/step - loss: 0.1085 - accuracy: 0.9595\n",
      "Epoch 41/50\n",
      "24/24 [==============================] - 0s 1ms/step - loss: 0.1026 - accuracy: 0.9700\n",
      "Epoch 42/50\n",
      "24/24 [==============================] - 0s 2ms/step - loss: 0.0994 - accuracy: 0.9674\n",
      "Epoch 43/50\n",
      "24/24 [==============================] - 0s 2ms/step - loss: 0.0996 - accuracy: 0.9726\n",
      "Epoch 44/50\n",
      "24/24 [==============================] - 0s 2ms/step - loss: 0.0967 - accuracy: 0.9713\n",
      "Epoch 45/50\n",
      "24/24 [==============================] - 0s 2ms/step - loss: 0.0930 - accuracy: 0.9752\n",
      "Epoch 46/50\n",
      "24/24 [==============================] - 0s 2ms/step - loss: 0.0907 - accuracy: 0.9700\n",
      "Epoch 47/50\n",
      "24/24 [==============================] - 0s 2ms/step - loss: 0.0924 - accuracy: 0.9700\n",
      "Epoch 48/50\n",
      "24/24 [==============================] - 0s 2ms/step - loss: 0.0926 - accuracy: 0.9739\n",
      "Epoch 49/50\n",
      "24/24 [==============================] - 0s 2ms/step - loss: 0.0854 - accuracy: 0.9765\n",
      "Epoch 50/50\n",
      "24/24 [==============================] - 0s 1ms/step - loss: 0.0855 - accuracy: 0.9739\n",
      "12/12 [==============================] - 0s 1ms/step - loss: 0.1612 - accuracy: 0.9452\n",
      "Epoch 1/50\n",
      "24/24 [==============================] - 0s 1ms/step - loss: 0.6623 - accuracy: 0.6005\n",
      "Epoch 2/50\n",
      "24/24 [==============================] - 0s 884us/step - loss: 0.6114 - accuracy: 0.6958\n",
      "Epoch 3/50\n",
      "24/24 [==============================] - 0s 1ms/step - loss: 0.5546 - accuracy: 0.7781\n",
      "Epoch 4/50\n",
      "24/24 [==============================] - 0s 1ms/step - loss: 0.4937 - accuracy: 0.8355\n",
      "Epoch 5/50\n",
      "24/24 [==============================] - 0s 1ms/step - loss: 0.4422 - accuracy: 0.8577\n",
      "Epoch 6/50\n",
      "24/24 [==============================] - 0s 1ms/step - loss: 0.4033 - accuracy: 0.8577\n",
      "Epoch 7/50\n",
      "24/24 [==============================] - 0s 1ms/step - loss: 0.3696 - accuracy: 0.8655\n",
      "Epoch 8/50\n",
      "24/24 [==============================] - 0s 1ms/step - loss: 0.3448 - accuracy: 0.8681\n",
      "Epoch 9/50\n",
      "24/24 [==============================] - 0s 712us/step - loss: 0.3221 - accuracy: 0.8695\n",
      "Epoch 10/50\n",
      "24/24 [==============================] - 0s 700us/step - loss: 0.3029 - accuracy: 0.8760\n",
      "Epoch 11/50\n",
      "24/24 [==============================] - 0s 795us/step - loss: 0.2869 - accuracy: 0.8786\n",
      "Epoch 12/50\n",
      "24/24 [==============================] - 0s 917us/step - loss: 0.2731 - accuracy: 0.8838\n",
      "Epoch 13/50\n",
      "24/24 [==============================] - 0s 751us/step - loss: 0.2626 - accuracy: 0.8903\n",
      "Epoch 14/50\n",
      "24/24 [==============================] - 0s 714us/step - loss: 0.2514 - accuracy: 0.8930\n",
      "Epoch 15/50\n",
      "24/24 [==============================] - 0s 784us/step - loss: 0.2406 - accuracy: 0.8956\n",
      "Epoch 16/50\n",
      "24/24 [==============================] - 0s 791us/step - loss: 0.2348 - accuracy: 0.8969\n",
      "Epoch 17/50\n",
      "24/24 [==============================] - 0s 684us/step - loss: 0.2289 - accuracy: 0.8943\n",
      "Epoch 18/50\n",
      "24/24 [==============================] - 0s 828us/step - loss: 0.2231 - accuracy: 0.8995\n",
      "Epoch 19/50\n",
      "24/24 [==============================] - 0s 702us/step - loss: 0.2177 - accuracy: 0.9034\n",
      "Epoch 20/50\n",
      "24/24 [==============================] - 0s 687us/step - loss: 0.2091 - accuracy: 0.9047\n",
      "Epoch 21/50\n",
      "24/24 [==============================] - 0s 1ms/step - loss: 0.2009 - accuracy: 0.9047\n",
      "Epoch 22/50\n",
      "24/24 [==============================] - 0s 893us/step - loss: 0.1953 - accuracy: 0.9086\n",
      "Epoch 23/50\n",
      "24/24 [==============================] - 0s 865us/step - loss: 0.1947 - accuracy: 0.9125\n",
      "Epoch 24/50\n",
      "24/24 [==============================] - 0s 949us/step - loss: 0.1849 - accuracy: 0.9138\n",
      "Epoch 25/50\n",
      "24/24 [==============================] - 0s 868us/step - loss: 0.1808 - accuracy: 0.9217\n",
      "Epoch 26/50\n",
      "24/24 [==============================] - 0s 766us/step - loss: 0.1747 - accuracy: 0.9191\n",
      "Epoch 27/50\n",
      "24/24 [==============================] - 0s 975us/step - loss: 0.1723 - accuracy: 0.9204\n",
      "Epoch 28/50\n",
      "24/24 [==============================] - 0s 801us/step - loss: 0.1675 - accuracy: 0.9178\n",
      "Epoch 29/50\n",
      "24/24 [==============================] - 0s 756us/step - loss: 0.1602 - accuracy: 0.9256\n",
      "Epoch 30/50\n",
      "24/24 [==============================] - 0s 847us/step - loss: 0.1553 - accuracy: 0.9269\n",
      "Epoch 31/50\n",
      "24/24 [==============================] - 0s 805us/step - loss: 0.1521 - accuracy: 0.9347\n",
      "Epoch 32/50\n"
     ]
    },
    {
     "name": "stdout",
     "output_type": "stream",
     "text": [
      "24/24 [==============================] - 0s 809us/step - loss: 0.1479 - accuracy: 0.9295\n",
      "Epoch 33/50\n",
      "24/24 [==============================] - 0s 771us/step - loss: 0.1415 - accuracy: 0.9373\n",
      "Epoch 34/50\n",
      "24/24 [==============================] - 0s 793us/step - loss: 0.1385 - accuracy: 0.9413\n",
      "Epoch 35/50\n",
      "24/24 [==============================] - 0s 959us/step - loss: 0.1331 - accuracy: 0.9439\n",
      "Epoch 36/50\n",
      "24/24 [==============================] - 0s 735us/step - loss: 0.1302 - accuracy: 0.9543\n",
      "Epoch 37/50\n",
      "24/24 [==============================] - 0s 967us/step - loss: 0.1239 - accuracy: 0.9452\n",
      "Epoch 38/50\n",
      "24/24 [==============================] - 0s 939us/step - loss: 0.1214 - accuracy: 0.9543\n",
      "Epoch 39/50\n",
      "24/24 [==============================] - 0s 1ms/step - loss: 0.1177 - accuracy: 0.9556\n",
      "Epoch 40/50\n",
      "24/24 [==============================] - 0s 1ms/step - loss: 0.1137 - accuracy: 0.9543\n",
      "Epoch 41/50\n",
      "24/24 [==============================] - 0s 1ms/step - loss: 0.1109 - accuracy: 0.9569\n",
      "Epoch 42/50\n",
      "24/24 [==============================] - 0s 1ms/step - loss: 0.1049 - accuracy: 0.9634\n",
      "Epoch 43/50\n",
      "24/24 [==============================] - 0s 2ms/step - loss: 0.1037 - accuracy: 0.9648\n",
      "Epoch 44/50\n",
      "24/24 [==============================] - 0s 2ms/step - loss: 0.0980 - accuracy: 0.9634\n",
      "Epoch 45/50\n",
      "24/24 [==============================] - 0s 1ms/step - loss: 0.0942 - accuracy: 0.9726\n",
      "Epoch 46/50\n",
      "24/24 [==============================] - 0s 2ms/step - loss: 0.0918 - accuracy: 0.9687\n",
      "Epoch 47/50\n",
      "24/24 [==============================] - 0s 2ms/step - loss: 0.0883 - accuracy: 0.9726\n",
      "Epoch 48/50\n",
      "24/24 [==============================] - 0s 2ms/step - loss: 0.0865 - accuracy: 0.9752\n",
      "Epoch 49/50\n",
      "24/24 [==============================] - 0s 2ms/step - loss: 0.0832 - accuracy: 0.9739\n",
      "Epoch 50/50\n",
      "24/24 [==============================] - 0s 2ms/step - loss: 0.0815 - accuracy: 0.9752\n",
      "12/12 [==============================] - 0s 987us/step - loss: 0.1135 - accuracy: 0.9582\n",
      "Epoch 1/50\n",
      "24/24 [==============================] - 0s 1ms/step - loss: 0.6772 - accuracy: 0.5979\n",
      "Epoch 2/50\n",
      "24/24 [==============================] - 0s 936us/step - loss: 0.6315 - accuracy: 0.7154\n",
      "Epoch 3/50\n",
      "24/24 [==============================] - 0s 873us/step - loss: 0.5811 - accuracy: 0.7702\n",
      "Epoch 4/50\n",
      "24/24 [==============================] - 0s 1ms/step - loss: 0.5187 - accuracy: 0.8107\n",
      "Epoch 5/50\n",
      "24/24 [==============================] - 0s 773us/step - loss: 0.4487 - accuracy: 0.8603\n",
      "Epoch 6/50\n",
      "24/24 [==============================] - 0s 1ms/step - loss: 0.3838 - accuracy: 0.8851\n",
      "Epoch 7/50\n",
      "24/24 [==============================] - 0s 727us/step - loss: 0.3282 - accuracy: 0.8956\n",
      "Epoch 8/50\n",
      "24/24 [==============================] - 0s 932us/step - loss: 0.2866 - accuracy: 0.9099\n",
      "Epoch 9/50\n",
      "24/24 [==============================] - 0s 974us/step - loss: 0.2585 - accuracy: 0.9034\n",
      "Epoch 10/50\n",
      "24/24 [==============================] - 0s 2ms/step - loss: 0.2321 - accuracy: 0.9164\n",
      "Epoch 11/50\n",
      "24/24 [==============================] - 0s 2ms/step - loss: 0.2147 - accuracy: 0.9217\n",
      "Epoch 12/50\n",
      "24/24 [==============================] - 0s 1ms/step - loss: 0.1954 - accuracy: 0.9256\n",
      "Epoch 13/50\n",
      "24/24 [==============================] - 0s 1ms/step - loss: 0.1829 - accuracy: 0.9321\n",
      "Epoch 14/50\n",
      "24/24 [==============================] - 0s 1ms/step - loss: 0.1717 - accuracy: 0.9360\n",
      "Epoch 15/50\n",
      "24/24 [==============================] - 0s 1ms/step - loss: 0.1612 - accuracy: 0.9386\n",
      "Epoch 16/50\n",
      "24/24 [==============================] - 0s 1ms/step - loss: 0.1520 - accuracy: 0.9360\n",
      "Epoch 17/50\n",
      "24/24 [==============================] - 0s 942us/step - loss: 0.1455 - accuracy: 0.9413\n",
      "Epoch 18/50\n",
      "24/24 [==============================] - 0s 870us/step - loss: 0.1368 - accuracy: 0.9478\n",
      "Epoch 19/50\n",
      "24/24 [==============================] - 0s 941us/step - loss: 0.1304 - accuracy: 0.9517\n",
      "Epoch 20/50\n",
      "24/24 [==============================] - 0s 835us/step - loss: 0.1243 - accuracy: 0.9569\n",
      "Epoch 21/50\n",
      "24/24 [==============================] - 0s 857us/step - loss: 0.1180 - accuracy: 0.9582\n",
      "Epoch 22/50\n",
      "24/24 [==============================] - 0s 1ms/step - loss: 0.1178 - accuracy: 0.9556\n",
      "Epoch 23/50\n",
      "24/24 [==============================] - 0s 1ms/step - loss: 0.1091 - accuracy: 0.9595\n",
      "Epoch 24/50\n",
      "24/24 [==============================] - 0s 1ms/step - loss: 0.1030 - accuracy: 0.9648\n",
      "Epoch 25/50\n",
      "24/24 [==============================] - 0s 1ms/step - loss: 0.1003 - accuracy: 0.9661\n",
      "Epoch 26/50\n",
      "24/24 [==============================] - 0s 1ms/step - loss: 0.0954 - accuracy: 0.9674\n",
      "Epoch 27/50\n",
      "24/24 [==============================] - 0s 1ms/step - loss: 0.0910 - accuracy: 0.9687\n",
      "Epoch 28/50\n",
      "24/24 [==============================] - 0s 1ms/step - loss: 0.0896 - accuracy: 0.9726\n",
      "Epoch 29/50\n",
      "24/24 [==============================] - 0s 1ms/step - loss: 0.0825 - accuracy: 0.9752\n",
      "Epoch 30/50\n",
      "24/24 [==============================] - 0s 1ms/step - loss: 0.0812 - accuracy: 0.9739\n",
      "Epoch 31/50\n",
      "24/24 [==============================] - 0s 1ms/step - loss: 0.0787 - accuracy: 0.9804\n",
      "Epoch 32/50\n",
      "24/24 [==============================] - 0s 868us/step - loss: 0.0745 - accuracy: 0.9804\n",
      "Epoch 33/50\n",
      "24/24 [==============================] - 0s 1ms/step - loss: 0.0716 - accuracy: 0.9791\n",
      "Epoch 34/50\n",
      "24/24 [==============================] - 0s 1ms/step - loss: 0.0688 - accuracy: 0.9830\n",
      "Epoch 35/50\n",
      "24/24 [==============================] - 0s 1ms/step - loss: 0.0658 - accuracy: 0.9830\n",
      "Epoch 36/50\n",
      "24/24 [==============================] - 0s 1ms/step - loss: 0.0643 - accuracy: 0.9804\n",
      "Epoch 37/50\n",
      "24/24 [==============================] - 0s 1ms/step - loss: 0.0614 - accuracy: 0.9856\n",
      "Epoch 38/50\n",
      "24/24 [==============================] - 0s 1ms/step - loss: 0.0600 - accuracy: 0.9856\n",
      "Epoch 39/50\n",
      "24/24 [==============================] - 0s 1ms/step - loss: 0.0564 - accuracy: 0.9869\n",
      "Epoch 40/50\n",
      "24/24 [==============================] - 0s 943us/step - loss: 0.0563 - accuracy: 0.9883\n",
      "Epoch 41/50\n",
      "24/24 [==============================] - 0s 1ms/step - loss: 0.0543 - accuracy: 0.9869\n",
      "Epoch 42/50\n",
      "24/24 [==============================] - 0s 2ms/step - loss: 0.0515 - accuracy: 0.9909\n",
      "Epoch 43/50\n",
      "24/24 [==============================] - 0s 2ms/step - loss: 0.0501 - accuracy: 0.9922\n",
      "Epoch 44/50\n",
      "24/24 [==============================] - 0s 3ms/step - loss: 0.0491 - accuracy: 0.9922\n",
      "Epoch 45/50\n",
      "24/24 [==============================] - 0s 3ms/step - loss: 0.0482 - accuracy: 0.9909\n",
      "Epoch 46/50\n",
      "24/24 [==============================] - 0s 2ms/step - loss: 0.0447 - accuracy: 0.9909\n",
      "Epoch 47/50\n",
      "24/24 [==============================] - 0s 1ms/step - loss: 0.0445 - accuracy: 0.9935\n",
      "Epoch 48/50\n",
      "24/24 [==============================] - 0s 2ms/step - loss: 0.0420 - accuracy: 0.9935\n",
      "Epoch 49/50\n",
      "24/24 [==============================] - 0s 2ms/step - loss: 0.0403 - accuracy: 0.9948\n",
      "Epoch 50/50\n",
      "24/24 [==============================] - 0s 2ms/step - loss: 0.0395 - accuracy: 0.9948\n",
      "12/12 [==============================] - 0s 2ms/step - loss: 0.0736 - accuracy: 0.9713\n"
     ]
    },
    {
     "data": {
      "text/plain": [
       "array([0.94516969, 0.95822453, 0.97127938])"
      ]
     },
     "execution_count": 51,
     "metadata": {},
     "output_type": "execute_result"
    }
   ],
   "source": [
    "cross_val_score(keras_model, X_pure_train, y_pure_train, cv=3)"
   ]
  },
  {
   "cell_type": "markdown",
   "metadata": {},
   "source": [
    "## Regularization"
   ]
  },
  {
   "cell_type": "markdown",
   "metadata": {},
   "source": [
    "Does regularization make sense in the context of neural networks? <br/>\n",
    "\n",
    "Yes! We still have all of the salient ingredients: a loss function, overfitting vs. underfitting, and coefficients (weights) that could get too large.\n",
    "\n",
    "But there are now a few different flavors besides L1 and L2 regularization. (Note that L1 regularization is not common in the context of  neural networks.)\n",
    "\n",
    "We'll add a few more layers to give regularization a better chance of making a difference!"
   ]
  },
  {
   "cell_type": "code",
   "execution_count": 53,
   "metadata": {},
   "outputs": [
    {
     "data": {
      "image/png": "[encoded data removed]",
      "text/plain": [
       "<Figure size 720x360 with 2 Axes>"
      ]
     },
     "metadata": {
      "needs_background": "light"
     },
     "output_type": "display_data"
    }
   ],
   "source": [
    "model = Sequential()\n",
    "model.add(Dense(30, activation='relu', input_dim=64))\n",
    "\n",
    "# We can add L2 (or L1) regularization right into\n",
    "# the layer with the kernel_regularizer parameter.\n",
    "\n",
    "model.add(Dense(20, activation='relu', kernel_regularizer=l2(l2=0.05)))\n",
    "\n",
    "# Note that there is also a bias_regularizer,\n",
    "# but this tends to have less effect.\n",
    "\n",
    "model.add(Dense(12, activation='relu'))\n",
    "model.add(Dense(12, activation='relu'))\n",
    "model.add(Dense(12, activation='relu'))\n",
    "model.add(Dense(8, activation='relu'))\n",
    "model.add(Dense(4, activation='relu'))\n",
    "model.add(Dense(1, activation ='sigmoid'))\n",
    "\n",
    "model.compile(optimizer='adam',\n",
    "              loss='binary_crossentropy',\n",
    "              metrics=['accuracy'])\n",
    "\n",
    "results = model.fit(X_pure_train, y_pure_train, epochs=20, batch_size=32,\n",
    "                    verbose=0, validation_data=(X_val, y_val))\n",
    "\n",
    "train_loss = results.history['loss']\n",
    "train_acc = results.history['accuracy']\n",
    "val_loss = results.history['val_loss']\n",
    "val_acc = results.history['val_accuracy']\n",
    "\n",
    "\n",
    "fig, (ax1, ax2) = plt.subplots(1, 2, figsize=(10, 5))\n",
    "sns.lineplot(x=results.epoch, y=train_loss, ax=ax1, label='train_loss')\n",
    "sns.lineplot(x=results.epoch, y=train_acc, ax=ax2, label='train_accuracy')\n",
    "\n",
    "sns.lineplot(x=results.epoch, y=val_loss, ax=ax1, label='val_loss')\n",
    "sns.lineplot(x=results.epoch, y=val_acc, ax=ax2, label='val_accuracy');"
   ]
  },
  {
   "cell_type": "markdown",
   "metadata": {},
   "source": [
    "Adding L2 to multiple layers:"
   ]
  },
  {
   "cell_type": "code",
   "execution_count": 43,
   "metadata": {},
   "outputs": [
    {
     "data": {
      "image/png": "[encoded data removed]",
      "text/plain": [
       "<Figure size 720x360 with 2 Axes>"
      ]
     },
     "metadata": {
      "needs_background": "light"
     },
     "output_type": "display_data"
    }
   ],
   "source": [
    "model = Sequential()\n",
    "model.add(Dense(30, activation='relu',\n",
    "                input_dim=64))\n",
    "model.add(Dense(20, activation='relu',\n",
    "                kernel_regularizer=l2(l2=0.01)))\n",
    "\n",
    "model.add(Dense(12, activation='relu',\n",
    "                kernel_regularizer=l2(l2=0.01)))\n",
    "model.add(Dense(12, activation='relu',\n",
    "                kernel_regularizer=l2(l2=0.01)))\n",
    "model.add(Dense(12, activation='relu',\n",
    "                kernel_regularizer=l2(l2=0.01)))\n",
    "model.add(Dense(8, activation='relu',\n",
    "                kernel_regularizer=l2(l2=0.01)))\n",
    "model.add(Dense(4, activation='relu',\n",
    "                kernel_regularizer=l2(l2=0.01)))\n",
    "model.add(Dense(1, activation='sigmoid'))\n",
    "\n",
    "model.compile(optimizer='adam',\n",
    "              loss='binary_crossentropy',\n",
    "              metrics=['accuracy'])\n",
    "\n",
    "results = model.fit(X_pure_train, y_pure_train, epochs=20, batch_size=32,\n",
    "                    verbose=0, validation_data=(X_val, y_val))\n",
    "\n",
    "train_loss = results.history['loss']\n",
    "train_acc = results.history['accuracy']\n",
    "val_loss = results.history['val_loss']\n",
    "val_acc = results.history['val_accuracy']\n",
    "\n",
    "\n",
    "fig, (ax1, ax2) = plt.subplots(1, 2, figsize=(10, 5))\n",
    "sns.lineplot(x=results.epoch, y=train_loss, ax=ax1, label='train_loss')\n",
    "sns.lineplot(x=results.epoch, y=train_acc, ax=ax2, label='train_accuracy')\n",
    "\n",
    "sns.lineplot(x=results.epoch, y=val_loss, ax=ax1, label='val_loss')\n",
    "sns.lineplot(x=results.epoch, y=val_acc, ax=ax2, label='val_accuracy');"
   ]
  },
  {
   "cell_type": "markdown",
   "metadata": {},
   "source": [
    "### Dropout\n",
    "\n",
    "We can also specify a dropout layer in keras, which randomly shuts off different nodes during training. This can help to prevent overfitting.\n",
    "\n",
    "![drop_out](images/drop_out.png)"
   ]
  },
  {
   "cell_type": "markdown",
   "metadata": {},
   "source": [
    "### Exercise\n",
    "\n",
    "To add dropout to a `keras` network, simply add it as though it were a layer. It will apply to the immediately preceding layer.\n",
    "\n",
    "Add Dropout to one or more layers below."
   ]
  },
  {
   "cell_type": "code",
   "execution_count": 54,
   "metadata": {},
   "outputs": [
    {
     "data": {
      "image/png": "[encoded data removed]",
      "text/plain": [
       "<Figure size 720x360 with 2 Axes>"
      ]
     },
     "metadata": {
      "needs_background": "light"
     },
     "output_type": "display_data"
    }
   ],
   "source": [
    "model = Sequential()\n",
    "model.add(Dense(30, activation='relu', input_dim=64))\n",
    "None\n",
    "model.add(Dense(20, activation='relu'))\n",
    "None\n",
    "model.add(Dense(12, activation='relu'))\n",
    "model.add(Dense(12, activation='relu'))\n",
    "model.add(Dense(12, activation='relu'))\n",
    "model.add(Dense(8, activation='relu'))\n",
    "model.add(Dense(4, activation='relu'))\n",
    "model.add(Dense(1, activation ='sigmoid'))\n",
    "\n",
    "model.compile(optimizer='adam',\n",
    "              loss='binary_crossentropy',\n",
    "              metrics=['accuracy'])\n",
    "\n",
    "results = model.fit(X_pure_train, y_pure_train, epochs=50,\n",
    "                    batch_size= 32, verbose=0,\n",
    "                    validation_data=(X_val, y_val))\n",
    "\n",
    "train_loss = results.history['loss']\n",
    "train_acc = results.history['accuracy']\n",
    "val_loss = results.history['val_loss']\n",
    "val_acc = results.history['val_accuracy']\n",
    "\n",
    "\n",
    "fig, (ax1, ax2) = plt.subplots(1, 2, figsize=(10, 5))\n",
    "sns.lineplot(x=results.epoch, y=train_loss, ax=ax1, label='train_loss')\n",
    "sns.lineplot(x=results.epoch, y=train_acc, ax=ax2, label='train_accuracy')\n",
    "\n",
    "sns.lineplot(x=results.epoch, y=val_loss, ax=ax1, label='val_loss')\n",
    "sns.lineplot(x=results.epoch, y=val_acc, ax=ax2, label='val_accuracy');"
   ]
  },
  {
   "cell_type": "markdown",
   "metadata": {},
   "source": [
    "<details>\n",
    "    <summary>One answer here</summary>\n",
    "<code>model = Sequential()\n",
    "model.add(Dense(30, activation='relu', input_dim=64))\n",
    "model.add(Dense(20, activation='relu'))\n",
    "model.add(Dropout(0.5))\n",
    "model.add(Dense(12, activation='relu'))\n",
    "model.add(Dropout(0.2))\n",
    "model.add(Dense(12, activation='relu'))\n",
    "model.add(Dense(12, activation='relu'))\n",
    "model.add(Dense(8, activation='relu'))\n",
    "model.add(Dense(4, activation='relu'))\n",
    "model.add(Dense(1, activation ='sigmoid'))\n",
    "\n",
    "model.compile(optimizer='adam',\n",
    "              loss='binary_crossentropy',\n",
    "              metrics=['accuracy'])\n",
    "\n",
    "results = model.fit(X_pure_train, y_pure_train, epochs=50,\n",
    "                    batch_size= 32, verbose=0,\n",
    "                    validation_data=(X_val, y_val))\n",
    "\n",
    "train_loss = results.history['loss']\n",
    "train_acc = results.history['accuracy']\n",
    "val_loss = results.history['val_loss']\n",
    "val_acc = results.history['val_accuracy']\n",
    "\n",
    "\n",
    "fig, (ax1, ax2) = plt.subplots(1, 2, figsize=(10, 5))\n",
    "sns.lineplot(x=results.epoch, y=train_loss, ax=ax1, label='train_loss')\n",
    "sns.lineplot(x=results.epoch, y=train_acc, ax=ax2, label='train_accuracy')\n",
    "\n",
    "sns.lineplot(x=results.epoch, y=val_loss, ax=ax1, label='val_loss')\n",
    "sns.lineplot(x=results.epoch, y=val_acc, ax=ax2, label='val_accuracy');</code>\n",
    "</details>"
   ]
  },
  {
   "cell_type": "code",
   "execution_count": 55,
   "metadata": {},
   "outputs": [
    {
     "data": {
      "text/plain": [
       "0.9930555820465088"
      ]
     },
     "execution_count": 55,
     "metadata": {},
     "output_type": "execute_result"
    }
   ],
   "source": [
    "results.history['val_accuracy'][-1]"
   ]
  },
  {
   "cell_type": "markdown",
   "metadata": {},
   "source": [
    "### Early Stopping"
   ]
  },
  {
   "cell_type": "markdown",
   "metadata": {},
   "source": [
    "We can also tell our neural network to stop once it stops realizing any gain.\n",
    "\n",
    "Here we tell it to stop once the a very small positive change in the validation loss occurs:"
   ]
  },
  {
   "cell_type": "code",
   "execution_count": 56,
   "metadata": {},
   "outputs": [
    {
     "data": {
      "image/png": "[encoded data removed]",
      "text/plain": [
       "<Figure size 720x360 with 2 Axes>"
      ]
     },
     "metadata": {
      "needs_background": "light"
     },
     "output_type": "display_data"
    }
   ],
   "source": [
    "model = Sequential()\n",
    "model.add(Dense(30, activation='relu', input_dim=64))\n",
    "model.add(Dense(20, activation='relu'))\n",
    "model.add(Dropout(0.5))\n",
    "model.add(Dense(12, activation='relu'))\n",
    "model.add(Dense(12, activation='relu'))\n",
    "model.add(Dense(12, activation='relu'))\n",
    "model.add(Dense(8, activation='relu'))\n",
    "model.add(Dense(4, activation='relu'))\n",
    "model.add(Dense(1, activation ='sigmoid'))\n",
    "\n",
    "model.compile(optimizer='adam',\n",
    "              loss='binary_crossentropy',\n",
    "              metrics=['accuracy'])\n",
    "\n",
    "# Define the EarlyStopping object\n",
    "early_stop = None\n",
    "\n",
    "# Place this in a list as the value of the `callbacks` parameter\n",
    "# in the `.fit()` method.\n",
    "results = model.fit(X_pure_train, y_pure_train,\n",
    "                    epochs=20, batch_size=32,\n",
    "                    verbose=0, validation_data=(X_val, y_val),\n",
    "                    callbacks=None)\n",
    "\n",
    "train_loss = results.history['loss']\n",
    "train_acc = results.history['accuracy']\n",
    "val_loss = results.history['val_loss']\n",
    "val_acc = results.history['val_accuracy']\n",
    "\n",
    "\n",
    "fig, (ax1, ax2) = plt.subplots(1, 2, figsize=(10, 5))\n",
    "sns.lineplot(x=results.epoch, y=train_loss, ax=ax1, label='train_loss')\n",
    "sns.lineplot(x=results.epoch, y=train_acc, ax=ax2, label='train_accuracy')\n",
    "\n",
    "sns.lineplot(x=results.epoch, y=val_loss, ax=ax1, label='val_loss')\n",
    "sns.lineplot(x=results.epoch, y=val_acc, ax=ax2, label='val_accuracy');"
   ]
  },
  {
   "cell_type": "markdown",
   "metadata": {},
   "source": [
    "### Exercise\n",
    "\n",
    "That probably stopped too early. We can specify the number of epochs in which it doesn't see decrease in the loss with the `patience` parameter. Modify the code below to include an Early Stop with a patience of 5 epochs."
   ]
  },
  {
   "cell_type": "code",
   "execution_count": 58,
   "metadata": {
    "scrolled": true
   },
   "outputs": [
    {
     "name": "stdout",
     "output_type": "stream",
     "text": [
      "Epoch 1/100\n",
      "36/36 [==============================] - 0s 4ms/step - loss: 0.6957 - accuracy: 0.5152 - val_loss: 0.6815 - val_accuracy: 0.6319\n",
      "Epoch 2/100\n",
      "36/36 [==============================] - 0s 1ms/step - loss: 0.6665 - accuracy: 0.6040 - val_loss: 0.6492 - val_accuracy: 0.7326\n",
      "Epoch 3/100\n",
      "36/36 [==============================] - 0s 1ms/step - loss: 0.6106 - accuracy: 0.7154 - val_loss: 0.5599 - val_accuracy: 0.7778\n",
      "Epoch 4/100\n",
      "36/36 [==============================] - 0s 1ms/step - loss: 0.5612 - accuracy: 0.7728 - val_loss: 0.4739 - val_accuracy: 0.8750\n",
      "Epoch 5/100\n",
      "36/36 [==============================] - 0s 1ms/step - loss: 0.5019 - accuracy: 0.8372 - val_loss: 0.4236 - val_accuracy: 0.8993\n",
      "Epoch 6/100\n",
      "36/36 [==============================] - 0s 1ms/step - loss: 0.4742 - accuracy: 0.8625 - val_loss: 0.3980 - val_accuracy: 0.9062\n",
      "Epoch 7/100\n",
      "36/36 [==============================] - 0s 1ms/step - loss: 0.4297 - accuracy: 0.8834 - val_loss: 0.3838 - val_accuracy: 0.9167\n",
      "Epoch 8/100\n",
      "36/36 [==============================] - 0s 1ms/step - loss: 0.4206 - accuracy: 0.9008 - val_loss: 0.3655 - val_accuracy: 0.9375\n",
      "Epoch 9/100\n",
      "36/36 [==============================] - 0s 1ms/step - loss: 0.4047 - accuracy: 0.8956 - val_loss: 0.3463 - val_accuracy: 0.9236\n",
      "Epoch 10/100\n",
      "36/36 [==============================] - 0s 1ms/step - loss: 0.3818 - accuracy: 0.9069 - val_loss: 0.3399 - val_accuracy: 0.9306\n",
      "Epoch 11/100\n",
      "36/36 [==============================] - 0s 1ms/step - loss: 0.3771 - accuracy: 0.8982 - val_loss: 0.3230 - val_accuracy: 0.9340\n",
      "Epoch 12/100\n",
      "36/36 [==============================] - 0s 1ms/step - loss: 0.3563 - accuracy: 0.9121 - val_loss: 0.3109 - val_accuracy: 0.9375\n",
      "Epoch 13/100\n",
      "36/36 [==============================] - 0s 1ms/step - loss: 0.3509 - accuracy: 0.9199 - val_loss: 0.3075 - val_accuracy: 0.9375\n",
      "Epoch 14/100\n",
      "36/36 [==============================] - 0s 1ms/step - loss: 0.3404 - accuracy: 0.9208 - val_loss: 0.2861 - val_accuracy: 0.9514\n",
      "Epoch 15/100\n",
      "36/36 [==============================] - 0s 1ms/step - loss: 0.3379 - accuracy: 0.9130 - val_loss: 0.2877 - val_accuracy: 0.9444\n",
      "Epoch 16/100\n",
      "36/36 [==============================] - 0s 1ms/step - loss: 0.3180 - accuracy: 0.9286 - val_loss: 0.2814 - val_accuracy: 0.9444\n",
      "Epoch 17/100\n",
      "36/36 [==============================] - 0s 1ms/step - loss: 0.3144 - accuracy: 0.9243 - val_loss: 0.2769 - val_accuracy: 0.9375\n",
      "Epoch 18/100\n",
      "36/36 [==============================] - 0s 2ms/step - loss: 0.2936 - accuracy: 0.9373 - val_loss: 0.2661 - val_accuracy: 0.9444\n",
      "Epoch 19/100\n",
      "36/36 [==============================] - 0s 1ms/step - loss: 0.2964 - accuracy: 0.9365 - val_loss: 0.2549 - val_accuracy: 0.9583\n",
      "Epoch 20/100\n",
      "36/36 [==============================] - 0s 1ms/step - loss: 0.2778 - accuracy: 0.9469 - val_loss: 0.2696 - val_accuracy: 0.9514\n",
      "Epoch 21/100\n",
      "36/36 [==============================] - 0s 1ms/step - loss: 0.2888 - accuracy: 0.9304 - val_loss: 0.2438 - val_accuracy: 0.9549\n",
      "Epoch 22/100\n",
      "36/36 [==============================] - 0s 2ms/step - loss: 0.2821 - accuracy: 0.9339 - val_loss: 0.2533 - val_accuracy: 0.9514\n",
      "Epoch 23/100\n",
      "36/36 [==============================] - 0s 1ms/step - loss: 0.2631 - accuracy: 0.9521 - val_loss: 0.2385 - val_accuracy: 0.9618\n",
      "Epoch 24/100\n",
      "36/36 [==============================] - 0s 2ms/step - loss: 0.2430 - accuracy: 0.9643 - val_loss: 0.2362 - val_accuracy: 0.9549\n",
      "Epoch 25/100\n",
      "36/36 [==============================] - 0s 1ms/step - loss: 0.2558 - accuracy: 0.9487 - val_loss: 0.2384 - val_accuracy: 0.9583\n",
      "Epoch 26/100\n",
      "36/36 [==============================] - 0s 1ms/step - loss: 0.2582 - accuracy: 0.9434 - val_loss: 0.2243 - val_accuracy: 0.9514\n",
      "Epoch 27/100\n",
      "36/36 [==============================] - 0s 1ms/step - loss: 0.2361 - accuracy: 0.9547 - val_loss: 0.2162 - val_accuracy: 0.9583\n",
      "Epoch 28/100\n",
      "36/36 [==============================] - 0s 1ms/step - loss: 0.2240 - accuracy: 0.9617 - val_loss: 0.2117 - val_accuracy: 0.9583\n",
      "Epoch 29/100\n",
      "36/36 [==============================] - 0s 1ms/step - loss: 0.2333 - accuracy: 0.9539 - val_loss: 0.2156 - val_accuracy: 0.9583\n",
      "Epoch 30/100\n",
      "36/36 [==============================] - 0s 2ms/step - loss: 0.2192 - accuracy: 0.9608 - val_loss: 0.1952 - val_accuracy: 0.9688\n",
      "Epoch 31/100\n",
      "36/36 [==============================] - 0s 1ms/step - loss: 0.2217 - accuracy: 0.9608 - val_loss: 0.1999 - val_accuracy: 0.9653\n",
      "Epoch 32/100\n",
      "36/36 [==============================] - 0s 1ms/step - loss: 0.2168 - accuracy: 0.9565 - val_loss: 0.2111 - val_accuracy: 0.9479\n",
      "Epoch 33/100\n",
      "36/36 [==============================] - 0s 1ms/step - loss: 0.2112 - accuracy: 0.9652 - val_loss: 0.2011 - val_accuracy: 0.9583\n",
      "Epoch 34/100\n",
      "36/36 [==============================] - 0s 1ms/step - loss: 0.1979 - accuracy: 0.9652 - val_loss: 0.1844 - val_accuracy: 0.9722\n",
      "Epoch 35/100\n",
      "36/36 [==============================] - 0s 1ms/step - loss: 0.1932 - accuracy: 0.9695 - val_loss: 0.1931 - val_accuracy: 0.9653\n",
      "Epoch 36/100\n",
      "36/36 [==============================] - 0s 2ms/step - loss: 0.1887 - accuracy: 0.9721 - val_loss: 0.1807 - val_accuracy: 0.9688\n",
      "Epoch 37/100\n",
      "36/36 [==============================] - 0s 2ms/step - loss: 0.1841 - accuracy: 0.9695 - val_loss: 0.2101 - val_accuracy: 0.9653\n",
      "Epoch 38/100\n",
      "36/36 [==============================] - 0s 1ms/step - loss: 0.1820 - accuracy: 0.9704 - val_loss: 0.1749 - val_accuracy: 0.9653\n",
      "Epoch 39/100\n",
      "36/36 [==============================] - 0s 1ms/step - loss: 0.1746 - accuracy: 0.9704 - val_loss: 0.2001 - val_accuracy: 0.9653\n",
      "Epoch 40/100\n",
      "36/36 [==============================] - 0s 1ms/step - loss: 0.1640 - accuracy: 0.9791 - val_loss: 0.1937 - val_accuracy: 0.9514\n",
      "Epoch 41/100\n",
      "36/36 [==============================] - 0s 1ms/step - loss: 0.1751 - accuracy: 0.9687 - val_loss: 0.1694 - val_accuracy: 0.9688\n",
      "Epoch 42/100\n",
      "36/36 [==============================] - 0s 1ms/step - loss: 0.1776 - accuracy: 0.9687 - val_loss: 0.1564 - val_accuracy: 0.9757\n",
      "Epoch 43/100\n",
      "36/36 [==============================] - 0s 1ms/step - loss: 0.1582 - accuracy: 0.9791 - val_loss: 0.1531 - val_accuracy: 0.9757\n",
      "Epoch 44/100\n",
      "36/36 [==============================] - 0s 2ms/step - loss: 0.1618 - accuracy: 0.9739 - val_loss: 0.1527 - val_accuracy: 0.9757\n",
      "Epoch 45/100\n",
      "36/36 [==============================] - 0s 1ms/step - loss: 0.1543 - accuracy: 0.9756 - val_loss: 0.1572 - val_accuracy: 0.9722\n",
      "Epoch 46/100\n",
      "36/36 [==============================] - 0s 1ms/step - loss: 0.1547 - accuracy: 0.9739 - val_loss: 0.1526 - val_accuracy: 0.9722\n",
      "Epoch 47/100\n",
      "36/36 [==============================] - 0s 1ms/step - loss: 0.1437 - accuracy: 0.9809 - val_loss: 0.1457 - val_accuracy: 0.9722\n",
      "Epoch 48/100\n",
      "36/36 [==============================] - 0s 1ms/step - loss: 0.1439 - accuracy: 0.9800 - val_loss: 0.1429 - val_accuracy: 0.9792\n",
      "Epoch 49/100\n",
      "36/36 [==============================] - 0s 1ms/step - loss: 0.1272 - accuracy: 0.9869 - val_loss: 0.1537 - val_accuracy: 0.9688\n",
      "Epoch 50/100\n",
      "36/36 [==============================] - 0s 1ms/step - loss: 0.1313 - accuracy: 0.9843 - val_loss: 0.1715 - val_accuracy: 0.9653\n",
      "Epoch 51/100\n",
      "36/36 [==============================] - 0s 1ms/step - loss: 0.1257 - accuracy: 0.9852 - val_loss: 0.1411 - val_accuracy: 0.9722\n",
      "Epoch 52/100\n",
      "36/36 [==============================] - 0s 1ms/step - loss: 0.1277 - accuracy: 0.9826 - val_loss: 0.1424 - val_accuracy: 0.9757\n",
      "Epoch 53/100\n",
      "36/36 [==============================] - 0s 1ms/step - loss: 0.1278 - accuracy: 0.9817 - val_loss: 0.1299 - val_accuracy: 0.9792\n",
      "Epoch 54/100\n",
      "36/36 [==============================] - 0s 1ms/step - loss: 0.1177 - accuracy: 0.9878 - val_loss: 0.1365 - val_accuracy: 0.9826\n",
      "Epoch 55/100\n",
      "36/36 [==============================] - 0s 1ms/step - loss: 0.1218 - accuracy: 0.9817 - val_loss: 0.1416 - val_accuracy: 0.9792\n",
      "Epoch 56/100\n",
      "36/36 [==============================] - 0s 1ms/step - loss: 0.1151 - accuracy: 0.9861 - val_loss: 0.1846 - val_accuracy: 0.9688\n",
      "Epoch 57/100\n",
      "36/36 [==============================] - 0s 1ms/step - loss: 0.1167 - accuracy: 0.9861 - val_loss: 0.1263 - val_accuracy: 0.9722\n",
      "Epoch 58/100\n",
      "36/36 [==============================] - 0s 1ms/step - loss: 0.1132 - accuracy: 0.9852 - val_loss: 0.1497 - val_accuracy: 0.9757\n"
     ]
    },
    {
     "name": "stdout",
     "output_type": "stream",
     "text": [
      "Epoch 59/100\n",
      "36/36 [==============================] - 0s 1ms/step - loss: 0.1232 - accuracy: 0.9791 - val_loss: 0.1220 - val_accuracy: 0.9861\n",
      "Epoch 60/100\n",
      "36/36 [==============================] - 0s 1ms/step - loss: 0.1093 - accuracy: 0.9852 - val_loss: 0.1342 - val_accuracy: 0.9722\n",
      "Epoch 61/100\n",
      "36/36 [==============================] - 0s 1ms/step - loss: 0.1130 - accuracy: 0.9809 - val_loss: 0.1193 - val_accuracy: 0.9826\n",
      "Epoch 62/100\n",
      "36/36 [==============================] - 0s 1ms/step - loss: 0.0980 - accuracy: 0.9913 - val_loss: 0.1450 - val_accuracy: 0.9792\n",
      "Epoch 63/100\n",
      "36/36 [==============================] - 0s 1ms/step - loss: 0.0946 - accuracy: 0.9904 - val_loss: 0.1139 - val_accuracy: 0.9826\n",
      "Epoch 64/100\n",
      "36/36 [==============================] - 0s 1ms/step - loss: 0.0999 - accuracy: 0.9887 - val_loss: 0.1170 - val_accuracy: 0.9826\n",
      "Epoch 65/100\n",
      "36/36 [==============================] - 0s 1ms/step - loss: 0.0857 - accuracy: 0.9939 - val_loss: 0.1641 - val_accuracy: 0.9722\n",
      "Epoch 66/100\n",
      "36/36 [==============================] - 0s 1ms/step - loss: 0.0927 - accuracy: 0.9896 - val_loss: 0.1373 - val_accuracy: 0.9757\n",
      "Epoch 67/100\n",
      "36/36 [==============================] - 0s 1ms/step - loss: 0.0938 - accuracy: 0.9896 - val_loss: 0.1369 - val_accuracy: 0.9757\n",
      "Epoch 68/100\n",
      "36/36 [==============================] - 0s 2ms/step - loss: 0.0932 - accuracy: 0.9887 - val_loss: 0.1191 - val_accuracy: 0.9861\n",
      "Epoch 00068: early stopping\n"
     ]
    },
    {
     "data": {
      "image/png": "[encoded data removed]",
      "text/plain": [
       "<Figure size 720x360 with 2 Axes>"
      ]
     },
     "metadata": {
      "needs_background": "light"
     },
     "output_type": "display_data"
    }
   ],
   "source": [
    "model = Sequential()\n",
    "model.add(Dense(30, activation='relu', input_dim=64))\n",
    "model.add(Dense(20, activation='relu'))\n",
    "model.add(Dropout(0.5))\n",
    "model.add(Dense(12, activation='relu'))\n",
    "model.add(Dense(12, activation='relu'))\n",
    "model.add(Dense(12, activation='relu'))\n",
    "model.add(Dense(8, activation='relu'))\n",
    "model.add(Dense(4, activation='relu'))\n",
    "model.add(Dense(1, activation ='sigmoid'))\n",
    "\n",
    "model.compile(optimizer='adam',\n",
    "              loss='binary_crossentropy',\n",
    "              metrics=['accuracy'])\n",
    "\n",
    "# Define the EarlyStopping object\n",
    "early_stop = EarlyStopping(monitor='val_loss', min_delta=1e-8,\n",
    "                           verbose=1, patience=5, stopped_epoch\n",
    "                           mode='min')\n",
    "\n",
    "# Place this in a list as the value of the `callbacks` parameter\n",
    "# in the `.fit()` method.\n",
    "results = model.fit(X_pure_train, y_pure_train,\n",
    "                    epochs=100, batch_size= 32,\n",
    "                    verbose=1, validation_data=(X_val, y_val),\n",
    "                    callbacks=[early_stop])\n",
    "\n",
    "train_loss = results.history['loss']\n",
    "train_acc = results.history['accuracy']\n",
    "val_loss = results.history['val_loss']\n",
    "val_acc = results.history['val_accuracy']\n",
    "\n",
    "\n",
    "fig, (ax1, ax2) = plt.subplots(1, 2, figsize=(10, 5))\n",
    "sns.lineplot(x=results.epoch, y=train_loss, ax=ax1, label='train_loss')\n",
    "sns.lineplot(x=results.epoch, y=train_acc, ax=ax2, label='train_accuracy')\n",
    "\n",
    "sns.lineplot(x=results.epoch, y=val_loss, ax=ax1, label='val_loss')\n",
    "sns.lineplot(x=results.epoch, y=val_acc, ax=ax2, label='val_accuracy');"
   ]
  },
  {
   "cell_type": "code",
   "execution_count": 76,
   "metadata": {},
   "outputs": [
    {
     "data": {
      "text/plain": [
       "67"
      ]
     },
     "execution_count": 76,
     "metadata": {},
     "output_type": "execute_result"
    }
   ],
   "source": [
    "early_stop.stopped_epoch"
   ]
  },
  {
   "cell_type": "markdown",
   "metadata": {},
   "source": [
    "<details>\n",
    "    <summary>One answer here</summary>\n",
    "<code>model = Sequential()\n",
    "model.add(Dense(30, activation='relu', input_dim=64))\n",
    "model.add(Dense(20, activation='relu'))\n",
    "model.add(Dropout(0.5))\n",
    "model.add(Dense(12, activation='relu'))\n",
    "model.add(Dense(12, activation='relu'))\n",
    "model.add(Dense(12, activation='relu'))\n",
    "model.add(Dense(8, activation='relu'))\n",
    "model.add(Dense(4, activation='relu'))\n",
    "model.add(Dense(1, activation ='sigmoid'))\n",
    "\n",
    "model.compile(optimizer='adam',\n",
    "              loss='binary_crossentropy',\n",
    "              metrics=['accuracy'])\n",
    "\n",
    "# Define the EarlyStopping object\n",
    "\n",
    "\n",
    "\n",
    "# Place this in a list as the value of the `callbacks` parameter\n",
    "# in the `.fit()` method.\n",
    "results = model.fit(X_pure_train, y_pure_train,\n",
    "                    epochs=50, batch_size= 32,\n",
    "                    verbose=0, validation_data=(X_val, y_val),\n",
    "                    callbacks=[early_stop])\n",
    "\n",
    "train_loss = results.history['loss']\n",
    "train_acc = results.history['accuracy']\n",
    "val_loss = results.history['val_loss']\n",
    "val_acc = results.history['val_accuracy']\n",
    "\n",
    "\n",
    "fig, (ax1, ax2) = plt.subplots(1, 2, figsize=(10, 5))\n",
    "sns.lineplot(x=results.epoch, y=train_loss, ax=ax1, label='train_loss')\n",
    "sns.lineplot(x=results.epoch, y=train_acc, ax=ax2, label='train_accuracy')\n",
    "\n",
    "sns.lineplot(x=results.epoch, y=val_loss, ax=ax1, label='val_loss')\n",
    "sns.lineplot(x=results.epoch, y=val_acc, ax=ax2, label='val_accuracy');</code>\n",
    "</details>"
   ]
  },
  {
   "cell_type": "code",
   "execution_count": 59,
   "metadata": {},
   "outputs": [
    {
     "data": {
      "text/plain": [
       "0.9861111044883728"
      ]
     },
     "execution_count": 59,
     "metadata": {},
     "output_type": "execute_result"
    }
   ],
   "source": [
    "results.history['val_accuracy'][-1]"
   ]
  },
  {
   "cell_type": "markdown",
   "metadata": {},
   "source": [
    "## Multiclass Classification and Softmax"
   ]
  },
  {
   "cell_type": "markdown",
   "metadata": {},
   "source": [
    "Now let's return to the problem of predicting digits 0 through 9."
   ]
  },
  {
   "cell_type": "code",
   "execution_count": 70,
   "metadata": {},
   "outputs": [],
   "source": [
    "digits = load_digits()\n",
    "X = digits.data.astype('float32')\n",
    "y = digits.target.astype('float32')\n"
   ]
  },
  {
   "cell_type": "code",
   "execution_count": 61,
   "metadata": {},
   "outputs": [],
   "source": [
    "X_train, X_test, y_train, y_test = train_test_split(X, y,\n",
    "                                                    random_state=42,\n",
    "                                                    test_size=0.2)\n",
    "X_pure_train, X_val, y_pure_train, y_val =\\\n",
    "    train_test_split(X_train, y_train,\n",
    "                     random_state=42, test_size=0.2)\n",
    "X_pure_train, X_val, X_test = X_pure_train/16, X_val/16, X_test/16"
   ]
  },
  {
   "cell_type": "markdown",
   "metadata": {},
   "source": [
    "For a multiclass output, our neural net expects our target to be in a certain form."
   ]
  },
  {
   "cell_type": "code",
   "execution_count": 62,
   "metadata": {},
   "outputs": [],
   "source": [
    "ohe = OneHotEncoder(sparse=False)\n",
    "y_pure_train = ohe.fit_transform(y_pure_train.reshape(-1,1))\n",
    "y_val = ohe.transform(y_val.reshape(-1,1))\n",
    "y_test = ohe.transform(y_test.reshape(-1,1))"
   ]
  },
  {
   "cell_type": "code",
   "execution_count": 63,
   "metadata": {},
   "outputs": [
    {
     "data": {
      "text/plain": [
       "array([[0., 0., 0., ..., 0., 0., 0.],\n",
       "       [0., 0., 0., ..., 0., 0., 1.],\n",
       "       [0., 0., 0., ..., 0., 0., 0.],\n",
       "       ...,\n",
       "       [0., 0., 0., ..., 0., 1., 0.],\n",
       "       [0., 0., 0., ..., 0., 0., 0.],\n",
       "       [0., 0., 0., ..., 0., 0., 0.]])"
      ]
     },
     "execution_count": 63,
     "metadata": {},
     "output_type": "execute_result"
    }
   ],
   "source": [
    "y_test"
   ]
  },
  {
   "cell_type": "code",
   "execution_count": 64,
   "metadata": {},
   "outputs": [
    {
     "name": "stdout",
     "output_type": "stream",
     "text": [
      "Epoch 1/50\n",
      "115/115 [==============================] - 0s 2ms/step - loss: 2.2634 - accuracy: 0.2219 - val_loss: 2.1521 - val_accuracy: 0.3090\n",
      "Epoch 2/50\n",
      "115/115 [==============================] - 0s 794us/step - loss: 2.0142 - accuracy: 0.3708 - val_loss: 1.8748 - val_accuracy: 0.4826\n",
      "Epoch 3/50\n",
      "115/115 [==============================] - 0s 845us/step - loss: 1.7310 - accuracy: 0.4891 - val_loss: 1.5871 - val_accuracy: 0.5938\n",
      "Epoch 4/50\n",
      "115/115 [==============================] - 0s 892us/step - loss: 1.4396 - accuracy: 0.6179 - val_loss: 1.3060 - val_accuracy: 0.6771\n",
      "Epoch 5/50\n",
      "115/115 [==============================] - 0s 934us/step - loss: 1.1732 - accuracy: 0.6989 - val_loss: 1.0682 - val_accuracy: 0.7292\n",
      "Epoch 6/50\n",
      "115/115 [==============================] - 0s 866us/step - loss: 0.9561 - accuracy: 0.7659 - val_loss: 0.8962 - val_accuracy: 0.8056\n",
      "Epoch 7/50\n",
      "115/115 [==============================] - 0s 834us/step - loss: 0.8004 - accuracy: 0.7728 - val_loss: 0.7944 - val_accuracy: 0.7917\n",
      "Epoch 8/50\n",
      "115/115 [==============================] - 0s 854us/step - loss: 0.6849 - accuracy: 0.8094 - val_loss: 0.6859 - val_accuracy: 0.8438\n",
      "Epoch 9/50\n",
      "115/115 [==============================] - 0s 807us/step - loss: 0.6004 - accuracy: 0.8468 - val_loss: 0.6076 - val_accuracy: 0.8542\n",
      "Epoch 10/50\n",
      "115/115 [==============================] - 0s 853us/step - loss: 0.5339 - accuracy: 0.8503 - val_loss: 0.5529 - val_accuracy: 0.8611\n",
      "Epoch 11/50\n",
      "115/115 [==============================] - 0s 811us/step - loss: 0.4883 - accuracy: 0.8607 - val_loss: 0.5074 - val_accuracy: 0.8819\n",
      "Epoch 12/50\n",
      "115/115 [==============================] - 0s 788us/step - loss: 0.4461 - accuracy: 0.8773 - val_loss: 0.4722 - val_accuracy: 0.8854\n",
      "Epoch 13/50\n",
      "115/115 [==============================] - 0s 827us/step - loss: 0.4120 - accuracy: 0.8808 - val_loss: 0.4467 - val_accuracy: 0.8889\n",
      "Epoch 14/50\n",
      "115/115 [==============================] - 0s 845us/step - loss: 0.3849 - accuracy: 0.8895 - val_loss: 0.4326 - val_accuracy: 0.8924\n",
      "Epoch 15/50\n",
      "115/115 [==============================] - 0s 1ms/step - loss: 0.3619 - accuracy: 0.8956 - val_loss: 0.3912 - val_accuracy: 0.9028\n",
      "Epoch 16/50\n",
      "115/115 [==============================] - 0s 1ms/step - loss: 0.3382 - accuracy: 0.9086 - val_loss: 0.3670 - val_accuracy: 0.8993\n",
      "Epoch 17/50\n",
      "115/115 [==============================] - 0s 1ms/step - loss: 0.3234 - accuracy: 0.9086 - val_loss: 0.3543 - val_accuracy: 0.9028\n",
      "Epoch 18/50\n",
      "115/115 [==============================] - 0s 1ms/step - loss: 0.3093 - accuracy: 0.9173 - val_loss: 0.3309 - val_accuracy: 0.9062\n",
      "Epoch 19/50\n",
      "115/115 [==============================] - 0s 960us/step - loss: 0.2941 - accuracy: 0.9199 - val_loss: 0.3257 - val_accuracy: 0.9201\n",
      "Epoch 20/50\n",
      "115/115 [==============================] - 0s 833us/step - loss: 0.2816 - accuracy: 0.9208 - val_loss: 0.3107 - val_accuracy: 0.9132\n",
      "Epoch 21/50\n",
      "115/115 [==============================] - 0s 868us/step - loss: 0.2710 - accuracy: 0.9252 - val_loss: 0.3002 - val_accuracy: 0.9097\n",
      "Epoch 22/50\n",
      "115/115 [==============================] - 0s 860us/step - loss: 0.2660 - accuracy: 0.9217 - val_loss: 0.2942 - val_accuracy: 0.9132\n",
      "Epoch 23/50\n",
      "115/115 [==============================] - 0s 820us/step - loss: 0.2514 - accuracy: 0.9260 - val_loss: 0.2837 - val_accuracy: 0.9167\n",
      "Epoch 24/50\n",
      "115/115 [==============================] - 0s 841us/step - loss: 0.2488 - accuracy: 0.9286 - val_loss: 0.2728 - val_accuracy: 0.9201\n",
      "Epoch 25/50\n",
      "115/115 [==============================] - 0s 824us/step - loss: 0.2358 - accuracy: 0.9286 - val_loss: 0.2830 - val_accuracy: 0.9201\n",
      "Epoch 26/50\n",
      "115/115 [==============================] - 0s 963us/step - loss: 0.2276 - accuracy: 0.9295 - val_loss: 0.2669 - val_accuracy: 0.9236\n",
      "Epoch 27/50\n",
      "115/115 [==============================] - 0s 863us/step - loss: 0.2225 - accuracy: 0.9304 - val_loss: 0.2541 - val_accuracy: 0.9271\n",
      "Epoch 28/50\n",
      "115/115 [==============================] - 0s 940us/step - loss: 0.2147 - accuracy: 0.9391 - val_loss: 0.2713 - val_accuracy: 0.9201\n",
      "Epoch 29/50\n",
      "115/115 [==============================] - 0s 1ms/step - loss: 0.2139 - accuracy: 0.9347 - val_loss: 0.2408 - val_accuracy: 0.9236\n",
      "Epoch 30/50\n",
      "115/115 [==============================] - 0s 1ms/step - loss: 0.2032 - accuracy: 0.9399 - val_loss: 0.2435 - val_accuracy: 0.9271\n",
      "Epoch 31/50\n",
      "115/115 [==============================] - 0s 865us/step - loss: 0.2009 - accuracy: 0.9391 - val_loss: 0.2343 - val_accuracy: 0.9201\n",
      "Epoch 32/50\n",
      "115/115 [==============================] - 0s 905us/step - loss: 0.1964 - accuracy: 0.9417 - val_loss: 0.2288 - val_accuracy: 0.9340\n",
      "Epoch 33/50\n",
      "115/115 [==============================] - 0s 883us/step - loss: 0.1887 - accuracy: 0.9399 - val_loss: 0.2321 - val_accuracy: 0.9236\n",
      "Epoch 34/50\n",
      "115/115 [==============================] - 0s 863us/step - loss: 0.1837 - accuracy: 0.9452 - val_loss: 0.2150 - val_accuracy: 0.9236\n",
      "Epoch 35/50\n",
      "115/115 [==============================] - 0s 847us/step - loss: 0.1786 - accuracy: 0.9426 - val_loss: 0.2166 - val_accuracy: 0.9306\n",
      "Epoch 36/50\n",
      "115/115 [==============================] - 0s 953us/step - loss: 0.1746 - accuracy: 0.9487 - val_loss: 0.2175 - val_accuracy: 0.9167\n",
      "Epoch 37/50\n",
      "115/115 [==============================] - 0s 1ms/step - loss: 0.1713 - accuracy: 0.9478 - val_loss: 0.2027 - val_accuracy: 0.9375\n",
      "Epoch 38/50\n",
      "115/115 [==============================] - 0s 1ms/step - loss: 0.1643 - accuracy: 0.9426 - val_loss: 0.2059 - val_accuracy: 0.9236\n",
      "Epoch 39/50\n",
      "115/115 [==============================] - 0s 1ms/step - loss: 0.1631 - accuracy: 0.9504 - val_loss: 0.2085 - val_accuracy: 0.9236\n",
      "Epoch 40/50\n",
      "115/115 [==============================] - 0s 1ms/step - loss: 0.1585 - accuracy: 0.9478 - val_loss: 0.2045 - val_accuracy: 0.9271\n",
      "Epoch 41/50\n",
      "115/115 [==============================] - 0s 1ms/step - loss: 0.1566 - accuracy: 0.9547 - val_loss: 0.2019 - val_accuracy: 0.9375\n",
      "Epoch 42/50\n",
      "115/115 [==============================] - 0s 1ms/step - loss: 0.1541 - accuracy: 0.9556 - val_loss: 0.1880 - val_accuracy: 0.9201\n",
      "Epoch 43/50\n",
      "115/115 [==============================] - 0s 1ms/step - loss: 0.1484 - accuracy: 0.9539 - val_loss: 0.1952 - val_accuracy: 0.9271\n",
      "Epoch 44/50\n",
      "115/115 [==============================] - 0s 1ms/step - loss: 0.1468 - accuracy: 0.9556 - val_loss: 0.1928 - val_accuracy: 0.9340\n",
      "Epoch 45/50\n",
      "115/115 [==============================] - 0s 1ms/step - loss: 0.1412 - accuracy: 0.9565 - val_loss: 0.1865 - val_accuracy: 0.9306\n",
      "Epoch 46/50\n",
      "115/115 [==============================] - 0s 873us/step - loss: 0.1365 - accuracy: 0.9556 - val_loss: 0.1771 - val_accuracy: 0.9306\n",
      "Epoch 47/50\n",
      "115/115 [==============================] - 0s 928us/step - loss: 0.1383 - accuracy: 0.9539 - val_loss: 0.1926 - val_accuracy: 0.9236\n",
      "Epoch 48/50\n",
      "115/115 [==============================] - 0s 954us/step - loss: 0.1329 - accuracy: 0.9591 - val_loss: 0.1745 - val_accuracy: 0.9306\n",
      "Epoch 49/50\n",
      "115/115 [==============================] - 0s 964us/step - loss: 0.1279 - accuracy: 0.9617 - val_loss: 0.1687 - val_accuracy: 0.9375\n",
      "Epoch 50/50\n",
      "115/115 [==============================] - 0s 1ms/step - loss: 0.1292 - accuracy: 0.9608 - val_loss: 0.1671 - val_accuracy: 0.9340\n"
     ]
    }
   ],
   "source": [
    "# Model from above, but now with ten output neurons:\n",
    "\n",
    "model = Sequential()\n",
    "model.add(Dense(12, activation='relu', input_dim=64))\n",
    "model.add(Dense(8, activation='relu'))\n",
    "model.add(Dense(10, activation='softmax'))\n",
    "\n",
    "model.compile(optimizer='adam',\n",
    "              loss='categorical_crossentropy',\n",
    "              metrics=['accuracy'])\n",
    "\n",
    "results = model.fit(X_pure_train, y_pure_train,\n",
    "                   epochs=50, batch_size=10,\n",
    "                   validation_data=(X_val, y_val))"
   ]
  },
  {
   "cell_type": "markdown",
   "metadata": {},
   "source": [
    "$$\\large \\text{Softmax}(x_{i}) = \\frac{\\exp(x_i)}{\\sum_j \\exp(x_j)}$$\n",
    "\n",
    "The sofmax function outputs a number between 0 and 1 for each of our classes.  All of the probabilities of the classes sum up to 1.\n",
    "\n",
    "The number of nodes in our output layer equals the number of categories in our dataset.\n",
    "\n",
    "We also need a new loss function: **categorical crossentropy**, which calculates a separate loss for each label and then sums the results."
   ]
  },
  {
   "cell_type": "code",
   "execution_count": 65,
   "metadata": {},
   "outputs": [],
   "source": [
    "history = results.history\n",
    "training_loss = history['loss']\n",
    "val_loss = history['val_loss']\n",
    "training_accuracy = history['accuracy']\n",
    "val_accuracy = history['val_accuracy']"
   ]
  },
  {
   "cell_type": "code",
   "execution_count": 66,
   "metadata": {},
   "outputs": [
    {
     "data": {
      "image/png": "[encoded data removed]",
      "text/plain": [
       "<Figure size 1080x360 with 2 Axes>"
      ]
     },
     "metadata": {
      "needs_background": "light"
     },
     "output_type": "display_data"
    }
   ],
   "source": [
    "fig, (ax1,ax2) = plt.subplots(1,2,figsize=(15,5))\n",
    "\n",
    "\n",
    "sns.lineplot(x=list(range(len(training_loss))),\n",
    "             y=training_loss, color='r', label='training', ax=ax1)\n",
    "sns.lineplot(x=list(range(len(val_loss))),\n",
    "             y=val_loss, color='b', label='validation', ax=ax1)\n",
    "sns.lineplot(x=list(range(len(training_loss))),\n",
    "             y=training_accuracy, color='r', label='training',ax=ax2)\n",
    "sns.lineplot(x=list(range(len(val_loss))),\n",
    "             y=val_accuracy, color='b', label='validation',ax=ax2)\n",
    "ax1.legend();"
   ]
  },
  {
   "cell_type": "code",
   "execution_count": 67,
   "metadata": {},
   "outputs": [],
   "source": [
    "y_hat_test = np.argmax(model.predict(X_test), axis=-1)"
   ]
  },
  {
   "cell_type": "code",
   "execution_count": 68,
   "metadata": {},
   "outputs": [
    {
     "data": {
      "text/plain": [
       "array([[32,  0,  0,  0,  0,  0,  0,  1,  0,  0],\n",
       "       [ 0, 27,  0,  0,  0,  0,  0,  0,  0,  1],\n",
       "       [ 0,  0, 31,  0,  0,  0,  0,  1,  1,  0],\n",
       "       [ 0,  0,  2, 31,  0,  1,  0,  0,  0,  0],\n",
       "       [ 0,  0,  0,  0, 46,  0,  0,  0,  0,  0],\n",
       "       [ 0,  0,  0,  0,  0, 43,  0,  1,  1,  2],\n",
       "       [ 1,  0,  0,  0,  0,  0, 34,  0,  0,  0],\n",
       "       [ 0,  0,  0,  0,  0,  1,  0, 33,  0,  0],\n",
       "       [ 0,  2,  0,  0,  0,  1,  0,  0, 27,  0],\n",
       "       [ 0,  0,  0,  3,  0,  3,  0,  0,  2, 32]])"
      ]
     },
     "execution_count": 68,
     "metadata": {},
     "output_type": "execute_result"
    }
   ],
   "source": [
    "y_test_restore = ohe.inverse_transform(y_test)\n",
    "confusion_matrix(y_test_restore, y_hat_test)"
   ]
  },
  {
   "cell_type": "markdown",
   "metadata": {},
   "source": [
    "Wow, look at that performance!  \n",
    "\n",
    "That is great, but remember, we were dealing with simple black and white images.  With color, our basic neural net will have less success.\n",
    "\n",
    "We will explore more advanced tools in the coming days.\n"
   ]
  }
 ],
 "metadata": {
  "celltoolbar": "Raw Cell Format",
  "colab": {
   "collapsed_sections": [],
   "name": "intro-to-keras.ipynb",
   "provenance": []
  },
  "kernelspec": {
   "display_name": "Python (flatiron-env)",
   "language": "python",
   "name": "flatiron-env"
  },
  "language_info": {
   "codemirror_mode": {
    "name": "ipython",
    "version": 3
   },
   "file_extension": ".py",
   "mimetype": "text/x-python",
   "name": "python",
   "nbconvert_exporter": "python",
   "pygments_lexer": "ipython3",
   "version": "3.8.5"
  }
 },
 "nbformat": 4,
 "nbformat_minor": 4
}
