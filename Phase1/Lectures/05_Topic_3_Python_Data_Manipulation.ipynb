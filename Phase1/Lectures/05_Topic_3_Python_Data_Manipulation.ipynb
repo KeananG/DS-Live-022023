{
 "cells": [
  {
   "cell_type": "markdown",
   "metadata": {
    "toc": true
   },
   "source": [
    "# Data Manipulation in Python"
   ]
  },
  {
   "cell_type": "markdown",
   "metadata": {
    "heading_collapsed": true
   },
   "source": [
    "## Objectives"
   ]
  },
  {
   "cell_type": "markdown",
   "metadata": {
    "hidden": true
   },
   "source": [
    "- Extract data from nested data structures\n",
    "- Write functions to transform data\n",
    "- Construct list and dictionary comprehensions"
   ]
  },
  {
   "cell_type": "markdown",
   "metadata": {},
   "source": [
    "## First - Let's Review\n",
    "\n",
    "Let's practice different forms of python data manipulation... with bento boxes!\n",
    "\n",
    "<img src='https://cdn.shopify.com/s/files/1/1610/3863/articles/What_is_Shokado_Bento_Box_a_Classic-Style_Bento_Box_Originated_from_Japanese_Kaiseki_Cuisine_1_1600x.jpg' alt='bento box image, image source: https://www.globalkitchenjapan.com/blogs/articles/would-you-like-to-have-one-for-special-occasions' width=600>"
   ]
  },
  {
   "cell_type": "markdown",
   "metadata": {},
   "source": [
    "## Python Lists"
   ]
  },
  {
   "cell_type": "markdown",
   "metadata": {
    "hidden": true
   },
   "source": [
    "### List Methods\n",
    "\n",
    "Here are a few common list methods:\n",
    "\n",
    "- `.append()`: adds the input element to the end of a list\n",
    "- `.pop()`: removes and returns the element with input index from the list\n",
    "- `.extend()`: adds the elements in the input iterable to the end of a list\n",
    "- `.index()`: returns the first place in a list where the argument is found\n",
    "- `.remove()`: removes element by value\n",
    "- `.count()`: returns the number of occurrences of the input element in a list\n",
    "\n",
    "Let's practice with a few!"
   ]
  },
  {
   "cell_type": "markdown",
   "metadata": {},
   "source": [
    "### Create our Bento Box!\n",
    "\n",
    "Let's make a list, called `bento`, that captures some ingredients we'd like to see in our bento box lunch.\n",
    "\n",
    "Some common ingredients for bento boxes include: chicken, fish, katsu curry, tofu, gyoza, edamame, salad, pickled cucumbers, boiled egg, broccoli, rice, udon noodles, yakisoba ... and these are just in more traditional bento boxes! The best part about a bento is that you can combine any lunch ingredients you like.\n",
    "\n",
    "Pick 5 things you'd like in your bento, and put those in your `bento` list."
   ]
  },
  {
   "cell_type": "code",
   "execution_count": 2,
   "metadata": {
    "scrolled": false
   },
   "outputs": [
    {
     "ename": "ImportError",
     "evalue": "\n\nIMPORTANT: PLEASE READ THIS FOR ADVICE ON HOW TO SOLVE THIS ISSUE!\n\nImporting the numpy C-extensions failed. This error can happen for\nmany reasons, often due to issues with your setup or how NumPy was\ninstalled.\n\nWe have compiled some common reasons and troubleshooting tips at:\n\n    https://numpy.org/devdocs/user/troubleshooting-importerror.html\n\nPlease note and check the following:\n\n  * The Python version is: Python3.8 from \"/Users/keanan/opt/anaconda3/envs/learn-env/bin/python\"\n  * The NumPy version is: \"1.19.1\"\n\nand make sure that they are the versions you expect.\nPlease carefully study the documentation linked above for further help.\n\nOriginal error was: dlopen(/Users/keanan/opt/anaconda3/envs/learn-env/lib/python3.8/site-packages/numpy/core/_multiarray_umath.cpython-38-darwin.so, 0x0002): Library not loaded: @rpath/libopenblas.dylib\n  Referenced from: <7D231C5E-1A92-3007-BEB3-CAF306EC338A> /Users/keanan/opt/anaconda3/envs/learn-env/lib/python3.8/site-packages/numpy/core/_multiarray_umath.cpython-38-darwin.so\n  Reason: tried: '/Users/keanan/opt/anaconda3/envs/learn-env/lib/libopenblas.dylib' (no such file), '/System/Volumes/Preboot/Cryptexes/OS/Users/keanan/opt/anaconda3/envs/learn-env/lib/libopenblas.dylib' (no such file), '/Users/keanan/opt/anaconda3/envs/learn-env/lib/libopenblas.dylib' (no such file), '/System/Volumes/Preboot/Cryptexes/OS/Users/keanan/opt/anaconda3/envs/learn-env/lib/libopenblas.dylib' (no such file), '/Users/keanan/opt/anaconda3/envs/learn-env/lib/libopenblas.dylib' (no such file), '/System/Volumes/Preboot/Cryptexes/OS/Users/keanan/opt/anaconda3/envs/learn-env/lib/libopenblas.dylib' (no such file), '/Users/keanan/opt/anaconda3/envs/learn-env/lib/python3.8/site-packages/numpy/core/../../../../libopenblas.dylib' (no such file), '/Users/keanan/opt/anaconda3/envs/learn-env/lib/libopenblas.dylib' (no such file), '/System/Volumes/Preboot/Cryptexes/OS/Users/keanan/opt/anaconda3/envs/learn-env/lib/libopenblas.dylib' (no such file), '/Users/keanan/opt/anaconda3/envs/learn-env/lib/libopenblas.dylib' (no such file), '/System/Volumes/Preboot/Cryptexes/OS/Users/keanan/opt/anaconda3/envs/learn-env/lib/libopenblas.dylib' (no such file), '/Users/keanan/opt/anaconda3/envs/learn-env/lib/libopenblas.dylib' (no such file), '/System/Volumes/Preboot/Cryptexes/OS/Users/keanan/opt/anaconda3/envs/learn-env/lib/libopenblas.dylib' (no such file), '/Users/keanan/opt/anaconda3/envs/learn-env/lib/python3.8/site-packages/numpy/core/../../../../libopenblas.dylib' (no such file), '/Users/keanan/opt/anaconda3/envs/learn-env/lib/libopenblas.dylib' (no such file), '/System/Volumes/Preboot/Cryptexes/OS/Users/keanan/opt/anaconda3/envs/learn-env/lib/libopenblas.dylib' (no such file), '/Users/keanan/opt/anaconda3/envs/learn-env/lib/libopenblas.dylib' (no such file), '/System/Volumes/Preboot/Cryptexes/OS/Users/keanan/opt/anaconda3/envs/learn-env/lib/libopenblas.dylib' (no such file), '/Users/keanan/opt/anaconda3/envs/learn-env/bin/../lib/libopenblas.dylib' (no such file), '/Users/keanan/opt/anaconda3/envs/learn-env/lib/libopenblas.dylib' (no such file), '/System/Volumes/Preboot/Cryptexes/OS/Users/keanan/opt/anaconda3/envs/learn-env/lib/libopenblas.dylib' (no such file), '/Users/keanan/opt/anaconda3/envs/learn-env/lib/libopenblas.dylib' (no such file), '/System/Volumes/Preboot/Cryptexes/OS/Users/keanan/opt/anaconda3/envs/learn-env/lib/libopenblas.dylib' (no such file), '/Users/keanan/opt/anaconda3/envs/learn-env/bin/../lib/libopenblas.dylib' (no such file), '/usr/local/lib/libopenblas.dylib' (no such file), '/usr/lib/libopenblas.dylib' (no such file, not in dyld cache)\n",
     "output_type": "error",
     "traceback": [
      "\u001b[0;31m---------------------------------------------------------------------------\u001b[0m",
      "\u001b[0;31mImportError\u001b[0m                               Traceback (most recent call last)",
      "\u001b[0;32m~/opt/anaconda3/envs/learn-env/lib/python3.8/site-packages/numpy/core/__init__.py\u001b[0m in \u001b[0;36m<module>\u001b[0;34m\u001b[0m\n\u001b[1;32m     21\u001b[0m \u001b[0;32mtry\u001b[0m\u001b[0;34m:\u001b[0m\u001b[0;34m\u001b[0m\u001b[0;34m\u001b[0m\u001b[0m\n\u001b[0;32m---> 22\u001b[0;31m     \u001b[0;32mfrom\u001b[0m \u001b[0;34m.\u001b[0m \u001b[0;32mimport\u001b[0m \u001b[0mmultiarray\u001b[0m\u001b[0;34m\u001b[0m\u001b[0;34m\u001b[0m\u001b[0m\n\u001b[0m\u001b[1;32m     23\u001b[0m \u001b[0;32mexcept\u001b[0m \u001b[0mImportError\u001b[0m \u001b[0;32mas\u001b[0m \u001b[0mexc\u001b[0m\u001b[0;34m:\u001b[0m\u001b[0;34m\u001b[0m\u001b[0;34m\u001b[0m\u001b[0m\n",
      "\u001b[0;32m~/opt/anaconda3/envs/learn-env/lib/python3.8/site-packages/numpy/core/multiarray.py\u001b[0m in \u001b[0;36m<module>\u001b[0;34m\u001b[0m\n\u001b[1;32m     11\u001b[0m \u001b[0;34m\u001b[0m\u001b[0m\n\u001b[0;32m---> 12\u001b[0;31m \u001b[0;32mfrom\u001b[0m \u001b[0;34m.\u001b[0m \u001b[0;32mimport\u001b[0m \u001b[0moverrides\u001b[0m\u001b[0;34m\u001b[0m\u001b[0;34m\u001b[0m\u001b[0m\n\u001b[0m\u001b[1;32m     13\u001b[0m \u001b[0;32mfrom\u001b[0m \u001b[0;34m.\u001b[0m \u001b[0;32mimport\u001b[0m \u001b[0m_multiarray_umath\u001b[0m\u001b[0;34m\u001b[0m\u001b[0;34m\u001b[0m\u001b[0m\n",
      "\u001b[0;32m~/opt/anaconda3/envs/learn-env/lib/python3.8/site-packages/numpy/core/overrides.py\u001b[0m in \u001b[0;36m<module>\u001b[0;34m\u001b[0m\n\u001b[1;32m      6\u001b[0m \u001b[0;34m\u001b[0m\u001b[0m\n\u001b[0;32m----> 7\u001b[0;31m from numpy.core._multiarray_umath import (\n\u001b[0m\u001b[1;32m      8\u001b[0m     add_docstring, implement_array_function, _get_implementing_args)\n",
      "\u001b[0;31mImportError\u001b[0m: dlopen(/Users/keanan/opt/anaconda3/envs/learn-env/lib/python3.8/site-packages/numpy/core/_multiarray_umath.cpython-38-darwin.so, 0x0002): Library not loaded: @rpath/libopenblas.dylib\n  Referenced from: <7D231C5E-1A92-3007-BEB3-CAF306EC338A> /Users/keanan/opt/anaconda3/envs/learn-env/lib/python3.8/site-packages/numpy/core/_multiarray_umath.cpython-38-darwin.so\n  Reason: tried: '/Users/keanan/opt/anaconda3/envs/learn-env/lib/libopenblas.dylib' (no such file), '/System/Volumes/Preboot/Cryptexes/OS/Users/keanan/opt/anaconda3/envs/learn-env/lib/libopenblas.dylib' (no such file), '/Users/keanan/opt/anaconda3/envs/learn-env/lib/libopenblas.dylib' (no such file), '/System/Volumes/Preboot/Cryptexes/OS/Users/keanan/opt/anaconda3/envs/learn-env/lib/libopenblas.dylib' (no such file), '/Users/keanan/opt/anaconda3/envs/learn-env/lib/libopenblas.dylib' (no such file), '/System/Volumes/Preboot/Cryptexes/OS/Users/keanan/opt/anaconda3/envs/learn-env/lib/libopenblas.dylib' (no such file), '/Users/keanan/opt/anaconda3/envs/learn-env/lib/python3.8/site-packages/numpy/core/../../../../libopenblas.dylib' (no such file), '/Users/keanan/opt/anaconda3/envs/learn-env/lib/libopenblas.dylib' (no such file), '/System/Volumes/Preboot/Cryptexes/OS/Users/keanan/opt/anaconda3/envs/learn-env/lib/libopenblas.dylib' (no such file), '/Users/keanan/opt/anaconda3/envs/learn-env/lib/libopenblas.dylib' (no such file), '/System/Volumes/Preboot/Cryptexes/OS/Users/keanan/opt/anaconda3/envs/learn-env/lib/libopenblas.dylib' (no such file), '/Users/keanan/opt/anaconda3/envs/learn-env/lib/libopenblas.dylib' (no such file), '/System/Volumes/Preboot/Cryptexes/OS/Users/keanan/opt/anaconda3/envs/learn-env/lib/libopenblas.dylib' (no such file), '/Users/keanan/opt/anaconda3/envs/learn-env/lib/python3.8/site-packages/numpy/core/../../../../libopenblas.dylib' (no such file), '/Users/keanan/opt/anaconda3/envs/learn-env/lib/libopenblas.dylib' (no such file), '/System/Volumes/Preboot/Cryptexes/OS/Users/keanan/opt/anaconda3/envs/learn-env/lib/libopenblas.dylib' (no such file), '/Users/keanan/opt/anaconda3/envs/learn-env/lib/libopenblas.dylib' (no such file), '/System/Volumes/Preboot/Cryptexes/OS/Users/keanan/opt/anaconda3/envs/learn-env/lib/libopenblas.dylib' (no such file), '/Users/keanan/opt/anaconda3/envs/learn-env/bin/../lib/libopenblas.dylib' (no such file), '/Users/keanan/opt/anaconda3/envs/learn-env/lib/libopenblas.dylib' (no such file), '/System/Volumes/Preboot/Cryptexes/OS/Users/keanan/opt/anaconda3/envs/learn-env/lib/libopenblas.dylib' (no such file), '/Users/keanan/opt/anaconda3/envs/learn-env/lib/libopenblas.dylib' (no such file), '/System/Volumes/Preboot/Cryptexes/OS/Users/keanan/opt/anaconda3/envs/learn-env/lib/libopenblas.dylib' (no such file), '/Users/keanan/opt/anaconda3/envs/learn-env/bin/../lib/libopenblas.dylib' (no such file), '/usr/local/lib/libopenblas.dylib' (no such file), '/usr/lib/libopenblas.dylib' (no such file, not in dyld cache)",
      "\nDuring handling of the above exception, another exception occurred:\n",
      "\u001b[0;31mImportError\u001b[0m                               Traceback (most recent call last)",
      "\u001b[0;32m<ipython-input-2-0aa0b027fcb6>\u001b[0m in \u001b[0;36m<module>\u001b[0;34m\u001b[0m\n\u001b[0;32m----> 1\u001b[0;31m \u001b[0;32mimport\u001b[0m \u001b[0mnumpy\u001b[0m \u001b[0;32mas\u001b[0m \u001b[0mnp\u001b[0m\u001b[0;34m\u001b[0m\u001b[0;34m\u001b[0m\u001b[0m\n\u001b[0m",
      "\u001b[0;32m~/opt/anaconda3/envs/learn-env/lib/python3.8/site-packages/numpy/__init__.py\u001b[0m in \u001b[0;36m<module>\u001b[0;34m\u001b[0m\n\u001b[1;32m    138\u001b[0m     \u001b[0;32mfrom\u001b[0m \u001b[0;34m.\u001b[0m \u001b[0;32mimport\u001b[0m \u001b[0m_distributor_init\u001b[0m\u001b[0;34m\u001b[0m\u001b[0;34m\u001b[0m\u001b[0m\n\u001b[1;32m    139\u001b[0m \u001b[0;34m\u001b[0m\u001b[0m\n\u001b[0;32m--> 140\u001b[0;31m     \u001b[0;32mfrom\u001b[0m \u001b[0;34m.\u001b[0m \u001b[0;32mimport\u001b[0m \u001b[0mcore\u001b[0m\u001b[0;34m\u001b[0m\u001b[0;34m\u001b[0m\u001b[0m\n\u001b[0m\u001b[1;32m    141\u001b[0m     \u001b[0;32mfrom\u001b[0m \u001b[0;34m.\u001b[0m\u001b[0mcore\u001b[0m \u001b[0;32mimport\u001b[0m \u001b[0;34m*\u001b[0m\u001b[0;34m\u001b[0m\u001b[0;34m\u001b[0m\u001b[0m\n\u001b[1;32m    142\u001b[0m     \u001b[0;32mfrom\u001b[0m \u001b[0;34m.\u001b[0m \u001b[0;32mimport\u001b[0m \u001b[0mcompat\u001b[0m\u001b[0;34m\u001b[0m\u001b[0;34m\u001b[0m\u001b[0m\n",
      "\u001b[0;32m~/opt/anaconda3/envs/learn-env/lib/python3.8/site-packages/numpy/core/__init__.py\u001b[0m in \u001b[0;36m<module>\u001b[0;34m\u001b[0m\n\u001b[1;32m     46\u001b[0m \"\"\" % (sys.version_info[0], sys.version_info[1], sys.executable,\n\u001b[1;32m     47\u001b[0m         __version__, exc)\n\u001b[0;32m---> 48\u001b[0;31m     \u001b[0;32mraise\u001b[0m \u001b[0mImportError\u001b[0m\u001b[0;34m(\u001b[0m\u001b[0mmsg\u001b[0m\u001b[0;34m)\u001b[0m\u001b[0;34m\u001b[0m\u001b[0;34m\u001b[0m\u001b[0m\n\u001b[0m\u001b[1;32m     49\u001b[0m \u001b[0;32mfinally\u001b[0m\u001b[0;34m:\u001b[0m\u001b[0;34m\u001b[0m\u001b[0;34m\u001b[0m\u001b[0m\n\u001b[1;32m     50\u001b[0m     \u001b[0;32mfor\u001b[0m \u001b[0menvkey\u001b[0m \u001b[0;32min\u001b[0m \u001b[0menv_added\u001b[0m\u001b[0;34m:\u001b[0m\u001b[0;34m\u001b[0m\u001b[0;34m\u001b[0m\u001b[0m\n",
      "\u001b[0;31mImportError\u001b[0m: \n\nIMPORTANT: PLEASE READ THIS FOR ADVICE ON HOW TO SOLVE THIS ISSUE!\n\nImporting the numpy C-extensions failed. This error can happen for\nmany reasons, often due to issues with your setup or how NumPy was\ninstalled.\n\nWe have compiled some common reasons and troubleshooting tips at:\n\n    https://numpy.org/devdocs/user/troubleshooting-importerror.html\n\nPlease note and check the following:\n\n  * The Python version is: Python3.8 from \"/Users/keanan/opt/anaconda3/envs/learn-env/bin/python\"\n  * The NumPy version is: \"1.19.1\"\n\nand make sure that they are the versions you expect.\nPlease carefully study the documentation linked above for further help.\n\nOriginal error was: dlopen(/Users/keanan/opt/anaconda3/envs/learn-env/lib/python3.8/site-packages/numpy/core/_multiarray_umath.cpython-38-darwin.so, 0x0002): Library not loaded: @rpath/libopenblas.dylib\n  Referenced from: <7D231C5E-1A92-3007-BEB3-CAF306EC338A> /Users/keanan/opt/anaconda3/envs/learn-env/lib/python3.8/site-packages/numpy/core/_multiarray_umath.cpython-38-darwin.so\n  Reason: tried: '/Users/keanan/opt/anaconda3/envs/learn-env/lib/libopenblas.dylib' (no such file), '/System/Volumes/Preboot/Cryptexes/OS/Users/keanan/opt/anaconda3/envs/learn-env/lib/libopenblas.dylib' (no such file), '/Users/keanan/opt/anaconda3/envs/learn-env/lib/libopenblas.dylib' (no such file), '/System/Volumes/Preboot/Cryptexes/OS/Users/keanan/opt/anaconda3/envs/learn-env/lib/libopenblas.dylib' (no such file), '/Users/keanan/opt/anaconda3/envs/learn-env/lib/libopenblas.dylib' (no such file), '/System/Volumes/Preboot/Cryptexes/OS/Users/keanan/opt/anaconda3/envs/learn-env/lib/libopenblas.dylib' (no such file), '/Users/keanan/opt/anaconda3/envs/learn-env/lib/python3.8/site-packages/numpy/core/../../../../libopenblas.dylib' (no such file), '/Users/keanan/opt/anaconda3/envs/learn-env/lib/libopenblas.dylib' (no such file), '/System/Volumes/Preboot/Cryptexes/OS/Users/keanan/opt/anaconda3/envs/learn-env/lib/libopenblas.dylib' (no such file), '/Users/keanan/opt/anaconda3/envs/learn-env/lib/libopenblas.dylib' (no such file), '/System/Volumes/Preboot/Cryptexes/OS/Users/keanan/opt/anaconda3/envs/learn-env/lib/libopenblas.dylib' (no such file), '/Users/keanan/opt/anaconda3/envs/learn-env/lib/libopenblas.dylib' (no such file), '/System/Volumes/Preboot/Cryptexes/OS/Users/keanan/opt/anaconda3/envs/learn-env/lib/libopenblas.dylib' (no such file), '/Users/keanan/opt/anaconda3/envs/learn-env/lib/python3.8/site-packages/numpy/core/../../../../libopenblas.dylib' (no such file), '/Users/keanan/opt/anaconda3/envs/learn-env/lib/libopenblas.dylib' (no such file), '/System/Volumes/Preboot/Cryptexes/OS/Users/keanan/opt/anaconda3/envs/learn-env/lib/libopenblas.dylib' (no such file), '/Users/keanan/opt/anaconda3/envs/learn-env/lib/libopenblas.dylib' (no such file), '/System/Volumes/Preboot/Cryptexes/OS/Users/keanan/opt/anaconda3/envs/learn-env/lib/libopenblas.dylib' (no such file), '/Users/keanan/opt/anaconda3/envs/learn-env/bin/../lib/libopenblas.dylib' (no such file), '/Users/keanan/opt/anaconda3/envs/learn-env/lib/libopenblas.dylib' (no such file), '/System/Volumes/Preboot/Cryptexes/OS/Users/keanan/opt/anaconda3/envs/learn-env/lib/libopenblas.dylib' (no such file), '/Users/keanan/opt/anaconda3/envs/learn-env/lib/libopenblas.dylib' (no such file), '/System/Volumes/Preboot/Cryptexes/OS/Users/keanan/opt/anaconda3/envs/learn-env/lib/libopenblas.dylib' (no such file), '/Users/keanan/opt/anaconda3/envs/learn-env/bin/../lib/libopenblas.dylib' (no such file), '/usr/local/lib/libopenblas.dylib' (no such file), '/usr/lib/libopenblas.dylib' (no such file, not in dyld cache)\n"
     ]
    }
   ],
   "source": [
    "import numpy as np"
   ]
  },
  {
   "cell_type": "code",
   "execution_count": 1,
   "metadata": {},
   "outputs": [
    {
     "ename": "ImportError",
     "evalue": "Unable to import required dependencies:\nnumpy: \n\nIMPORTANT: PLEASE READ THIS FOR ADVICE ON HOW TO SOLVE THIS ISSUE!\n\nImporting the numpy C-extensions failed. This error can happen for\nmany reasons, often due to issues with your setup or how NumPy was\ninstalled.\n\nWe have compiled some common reasons and troubleshooting tips at:\n\n    https://numpy.org/devdocs/user/troubleshooting-importerror.html\n\nPlease note and check the following:\n\n  * The Python version is: Python3.8 from \"/Users/keanan/opt/anaconda3/envs/learn-env/bin/python\"\n  * The NumPy version is: \"1.19.1\"\n\nand make sure that they are the versions you expect.\nPlease carefully study the documentation linked above for further help.\n\nOriginal error was: dlopen(/Users/keanan/opt/anaconda3/envs/learn-env/lib/python3.8/site-packages/numpy/core/_multiarray_umath.cpython-38-darwin.so, 0x0002): Library not loaded: @rpath/libopenblas.dylib\n  Referenced from: <7D231C5E-1A92-3007-BEB3-CAF306EC338A> /Users/keanan/opt/anaconda3/envs/learn-env/lib/python3.8/site-packages/numpy/core/_multiarray_umath.cpython-38-darwin.so\n  Reason: tried: '/Users/keanan/opt/anaconda3/envs/learn-env/lib/libopenblas.dylib' (no such file), '/System/Volumes/Preboot/Cryptexes/OS/Users/keanan/opt/anaconda3/envs/learn-env/lib/libopenblas.dylib' (no such file), '/Users/keanan/opt/anaconda3/envs/learn-env/lib/libopenblas.dylib' (no such file), '/System/Volumes/Preboot/Cryptexes/OS/Users/keanan/opt/anaconda3/envs/learn-env/lib/libopenblas.dylib' (no such file), '/Users/keanan/opt/anaconda3/envs/learn-env/lib/libopenblas.dylib' (no such file), '/System/Volumes/Preboot/Cryptexes/OS/Users/keanan/opt/anaconda3/envs/learn-env/lib/libopenblas.dylib' (no such file), '/Users/keanan/opt/anaconda3/envs/learn-env/lib/python3.8/site-packages/numpy/core/../../../../libopenblas.dylib' (no such file), '/Users/keanan/opt/anaconda3/envs/learn-env/lib/libopenblas.dylib' (no such file), '/System/Volumes/Preboot/Cryptexes/OS/Users/keanan/opt/anaconda3/envs/learn-env/lib/libopenblas.dylib' (no such file), '/Users/keanan/opt/anaconda3/envs/learn-env/lib/libopenblas.dylib' (no such file), '/System/Volumes/Preboot/Cryptexes/OS/Users/keanan/opt/anaconda3/envs/learn-env/lib/libopenblas.dylib' (no such file), '/Users/keanan/opt/anaconda3/envs/learn-env/lib/libopenblas.dylib' (no such file), '/System/Volumes/Preboot/Cryptexes/OS/Users/keanan/opt/anaconda3/envs/learn-env/lib/libopenblas.dylib' (no such file), '/Users/keanan/opt/anaconda3/envs/learn-env/lib/python3.8/site-packages/numpy/core/../../../../libopenblas.dylib' (no such file), '/Users/keanan/opt/anaconda3/envs/learn-env/lib/libopenblas.dylib' (no such file), '/System/Volumes/Preboot/Cryptexes/OS/Users/keanan/opt/anaconda3/envs/learn-env/lib/libopenblas.dylib' (no such file), '/Users/keanan/opt/anaconda3/envs/learn-env/lib/libopenblas.dylib' (no such file), '/System/Volumes/Preboot/Cryptexes/OS/Users/keanan/opt/anaconda3/envs/learn-env/lib/libopenblas.dylib' (no such file), '/Users/keanan/opt/anaconda3/envs/learn-env/bin/../lib/libopenblas.dylib' (no such file), '/Users/keanan/opt/anaconda3/envs/learn-env/lib/libopenblas.dylib' (no such file), '/System/Volumes/Preboot/Cryptexes/OS/Users/keanan/opt/anaconda3/envs/learn-env/lib/libopenblas.dylib' (no such file), '/Users/keanan/opt/anaconda3/envs/learn-env/lib/libopenblas.dylib' (no such file), '/System/Volumes/Preboot/Cryptexes/OS/Users/keanan/opt/anaconda3/envs/learn-env/lib/libopenblas.dylib' (no such file), '/Users/keanan/opt/anaconda3/envs/learn-env/bin/../lib/libopenblas.dylib' (no such file), '/usr/local/lib/libopenblas.dylib' (no such file), '/usr/lib/libopenblas.dylib' (no such file, not in dyld cache)\n",
     "output_type": "error",
     "traceback": [
      "\u001b[0;31m---------------------------------------------------------------------------\u001b[0m",
      "\u001b[0;31mImportError\u001b[0m                               Traceback (most recent call last)",
      "\u001b[0;32m<ipython-input-1-7dd3504c366f>\u001b[0m in \u001b[0;36m<module>\u001b[0;34m\u001b[0m\n\u001b[0;32m----> 1\u001b[0;31m \u001b[0;32mimport\u001b[0m \u001b[0mpandas\u001b[0m \u001b[0;32mas\u001b[0m \u001b[0mpd\u001b[0m\u001b[0;34m\u001b[0m\u001b[0;34m\u001b[0m\u001b[0m\n\u001b[0m",
      "\u001b[0;32m~/opt/anaconda3/envs/learn-env/lib/python3.8/site-packages/pandas/__init__.py\u001b[0m in \u001b[0;36m<module>\u001b[0;34m\u001b[0m\n\u001b[1;32m     14\u001b[0m \u001b[0;34m\u001b[0m\u001b[0m\n\u001b[1;32m     15\u001b[0m \u001b[0;32mif\u001b[0m \u001b[0mmissing_dependencies\u001b[0m\u001b[0;34m:\u001b[0m\u001b[0;34m\u001b[0m\u001b[0;34m\u001b[0m\u001b[0m\n\u001b[0;32m---> 16\u001b[0;31m     raise ImportError(\n\u001b[0m\u001b[1;32m     17\u001b[0m         \u001b[0;34m\"Unable to import required dependencies:\\n\"\u001b[0m \u001b[0;34m+\u001b[0m \u001b[0;34m\"\\n\"\u001b[0m\u001b[0;34m.\u001b[0m\u001b[0mjoin\u001b[0m\u001b[0;34m(\u001b[0m\u001b[0mmissing_dependencies\u001b[0m\u001b[0;34m)\u001b[0m\u001b[0;34m\u001b[0m\u001b[0;34m\u001b[0m\u001b[0m\n\u001b[1;32m     18\u001b[0m     )\n",
      "\u001b[0;31mImportError\u001b[0m: Unable to import required dependencies:\nnumpy: \n\nIMPORTANT: PLEASE READ THIS FOR ADVICE ON HOW TO SOLVE THIS ISSUE!\n\nImporting the numpy C-extensions failed. This error can happen for\nmany reasons, often due to issues with your setup or how NumPy was\ninstalled.\n\nWe have compiled some common reasons and troubleshooting tips at:\n\n    https://numpy.org/devdocs/user/troubleshooting-importerror.html\n\nPlease note and check the following:\n\n  * The Python version is: Python3.8 from \"/Users/keanan/opt/anaconda3/envs/learn-env/bin/python\"\n  * The NumPy version is: \"1.19.1\"\n\nand make sure that they are the versions you expect.\nPlease carefully study the documentation linked above for further help.\n\nOriginal error was: dlopen(/Users/keanan/opt/anaconda3/envs/learn-env/lib/python3.8/site-packages/numpy/core/_multiarray_umath.cpython-38-darwin.so, 0x0002): Library not loaded: @rpath/libopenblas.dylib\n  Referenced from: <7D231C5E-1A92-3007-BEB3-CAF306EC338A> /Users/keanan/opt/anaconda3/envs/learn-env/lib/python3.8/site-packages/numpy/core/_multiarray_umath.cpython-38-darwin.so\n  Reason: tried: '/Users/keanan/opt/anaconda3/envs/learn-env/lib/libopenblas.dylib' (no such file), '/System/Volumes/Preboot/Cryptexes/OS/Users/keanan/opt/anaconda3/envs/learn-env/lib/libopenblas.dylib' (no such file), '/Users/keanan/opt/anaconda3/envs/learn-env/lib/libopenblas.dylib' (no such file), '/System/Volumes/Preboot/Cryptexes/OS/Users/keanan/opt/anaconda3/envs/learn-env/lib/libopenblas.dylib' (no such file), '/Users/keanan/opt/anaconda3/envs/learn-env/lib/libopenblas.dylib' (no such file), '/System/Volumes/Preboot/Cryptexes/OS/Users/keanan/opt/anaconda3/envs/learn-env/lib/libopenblas.dylib' (no such file), '/Users/keanan/opt/anaconda3/envs/learn-env/lib/python3.8/site-packages/numpy/core/../../../../libopenblas.dylib' (no such file), '/Users/keanan/opt/anaconda3/envs/learn-env/lib/libopenblas.dylib' (no such file), '/System/Volumes/Preboot/Cryptexes/OS/Users/keanan/opt/anaconda3/envs/learn-env/lib/libopenblas.dylib' (no such file), '/Users/keanan/opt/anaconda3/envs/learn-env/lib/libopenblas.dylib' (no such file), '/System/Volumes/Preboot/Cryptexes/OS/Users/keanan/opt/anaconda3/envs/learn-env/lib/libopenblas.dylib' (no such file), '/Users/keanan/opt/anaconda3/envs/learn-env/lib/libopenblas.dylib' (no such file), '/System/Volumes/Preboot/Cryptexes/OS/Users/keanan/opt/anaconda3/envs/learn-env/lib/libopenblas.dylib' (no such file), '/Users/keanan/opt/anaconda3/envs/learn-env/lib/python3.8/site-packages/numpy/core/../../../../libopenblas.dylib' (no such file), '/Users/keanan/opt/anaconda3/envs/learn-env/lib/libopenblas.dylib' (no such file), '/System/Volumes/Preboot/Cryptexes/OS/Users/keanan/opt/anaconda3/envs/learn-env/lib/libopenblas.dylib' (no such file), '/Users/keanan/opt/anaconda3/envs/learn-env/lib/libopenblas.dylib' (no such file), '/System/Volumes/Preboot/Cryptexes/OS/Users/keanan/opt/anaconda3/envs/learn-env/lib/libopenblas.dylib' (no such file), '/Users/keanan/opt/anaconda3/envs/learn-env/bin/../lib/libopenblas.dylib' (no such file), '/Users/keanan/opt/anaconda3/envs/learn-env/lib/libopenblas.dylib' (no such file), '/System/Volumes/Preboot/Cryptexes/OS/Users/keanan/opt/anaconda3/envs/learn-env/lib/libopenblas.dylib' (no such file), '/Users/keanan/opt/anaconda3/envs/learn-env/lib/libopenblas.dylib' (no such file), '/System/Volumes/Preboot/Cryptexes/OS/Users/keanan/opt/anaconda3/envs/learn-env/lib/libopenblas.dylib' (no such file), '/Users/keanan/opt/anaconda3/envs/learn-env/bin/../lib/libopenblas.dylib' (no such file), '/usr/local/lib/libopenblas.dylib' (no such file), '/usr/lib/libopenblas.dylib' (no such file, not in dyld cache)\n"
     ]
    }
   ],
   "source": [
    "import pandas as pd"
   ]
  },
  {
   "cell_type": "code",
   "execution_count": 1,
   "metadata": {},
   "outputs": [],
   "source": [
    "# Create your bento list\n",
    "bento = ['chicken', 'katsu curry', 'pickled cucumbers', 'boiled eggs', 'rice']"
   ]
  },
  {
   "cell_type": "markdown",
   "metadata": {},
   "source": [
    "Lists are ordered, meaning you can access the index number for an element:"
   ]
  },
  {
   "cell_type": "code",
   "execution_count": 2,
   "metadata": {
    "scrolled": true
   },
   "outputs": [
    {
     "data": {
      "text/plain": [
       "'rice'"
      ]
     },
     "execution_count": 2,
     "metadata": {},
     "output_type": "execute_result"
    }
   ],
   "source": [
    "# Run this cell without changes\n",
    "bento[4]"
   ]
  },
  {
   "cell_type": "markdown",
   "metadata": {},
   "source": [
    "Or you can grab ranges/slices of a list:"
   ]
  },
  {
   "cell_type": "code",
   "execution_count": 3,
   "metadata": {},
   "outputs": [
    {
     "data": {
      "text/plain": [
       "['pickled cucumbers', 'boiled eggs', 'rice']"
      ]
     },
     "execution_count": 3,
     "metadata": {},
     "output_type": "execute_result"
    }
   ],
   "source": [
    "# Run this cell without changes\n",
    "# Play around with these numbers, and start to build some understanding of \n",
    "# which elements are where exactly in the list\n",
    "bento[2:5]"
   ]
  },
  {
   "cell_type": "markdown",
   "metadata": {},
   "source": [
    "Add items to a list with `.append()` - add something else you like to your bento!"
   ]
  },
  {
   "cell_type": "code",
   "execution_count": 4,
   "metadata": {},
   "outputs": [
    {
     "data": {
      "text/plain": [
       "['chicken',\n",
       " 'katsu curry',\n",
       " 'pickled cucumbers',\n",
       " 'boiled eggs',\n",
       " 'rice',\n",
       " 'kimichi']"
      ]
     },
     "execution_count": 4,
     "metadata": {},
     "output_type": "execute_result"
    }
   ],
   "source": [
    "# Code here to add to your list\n",
    "bento.append('kimichi')\n",
    "bento"
   ]
  },
  {
   "cell_type": "markdown",
   "metadata": {},
   "source": [
    "If you don't want to keep that last item, you can use `.pop()` to remove it."
   ]
  },
  {
   "cell_type": "code",
   "execution_count": 5,
   "metadata": {},
   "outputs": [
    {
     "data": {
      "text/plain": [
       "['chicken', 'katsu curry', 'pickled cucumbers', 'boiled eggs', 'rice']"
      ]
     },
     "execution_count": 5,
     "metadata": {},
     "output_type": "execute_result"
    }
   ],
   "source": [
    "bento.remove('kimichi')\n",
    "bento"
   ]
  },
  {
   "cell_type": "code",
   "execution_count": 6,
   "metadata": {},
   "outputs": [
    {
     "data": {
      "text/plain": [
       "'rice'"
      ]
     },
     "execution_count": 6,
     "metadata": {},
     "output_type": "execute_result"
    }
   ],
   "source": [
    "# Code here to test that out\n",
    "removed = bento.pop()\n",
    "removed"
   ]
  },
  {
   "cell_type": "code",
   "execution_count": 7,
   "metadata": {},
   "outputs": [
    {
     "data": {
      "text/plain": [
       "['chicken', 'katsu curry', 'pickled cucumbers', 'boiled eggs']"
      ]
     },
     "execution_count": 7,
     "metadata": {},
     "output_type": "execute_result"
    }
   ],
   "source": [
    "# Now check what your list looks like - is that last item still there?\n",
    "bento"
   ]
  },
  {
   "cell_type": "markdown",
   "metadata": {},
   "source": [
    "Now, let's put our bento box in a readable format using `join`:"
   ]
  },
  {
   "cell_type": "code",
   "execution_count": 8,
   "metadata": {},
   "outputs": [
    {
     "name": "stdout",
     "output_type": "stream",
     "text": [
      "I'd like my bento box to contain: chicken, katsu curry, pickled cucumbers, and boiled eggs\n"
     ]
    }
   ],
   "source": [
    "# Run this cell without changes\n",
    "print(\"I'd like my bento box to contain: \" +\n",
    "      \", \".join(bento[:-1]) + \", and \" + bento[-1])"
   ]
  },
  {
   "cell_type": "markdown",
   "metadata": {},
   "source": [
    "**Neat trick!** F-strings allow you to easily format strings to add variables or elements from an iterable (like a list). You can also use `.format()` in a similar way."
   ]
  },
  {
   "cell_type": "code",
   "execution_count": 9,
   "metadata": {},
   "outputs": [
    {
     "name": "stdout",
     "output_type": "stream",
     "text": [
      "My bento box will include chicken and katsu curry.\n"
     ]
    }
   ],
   "source": [
    "# Run this cell without changes\n",
    "print(f\"My bento box will include {bento[0]} and {bento[1]}.\")"
   ]
  },
  {
   "cell_type": "code",
   "execution_count": 10,
   "metadata": {},
   "outputs": [
    {
     "name": "stdout",
     "output_type": "stream",
     "text": [
      "My bento box will include chicken and katsu curry.\n"
     ]
    }
   ],
   "source": [
    "# The above cell is the same as:\n",
    "print(\"My bento box will include {} and {}.\".format(bento[0], bento[1]))"
   ]
  },
  {
   "cell_type": "markdown",
   "metadata": {},
   "source": [
    "**Think about it:** How is the f-string/`format` working differently from the `join` we did before?\n",
    "\n",
    "- \n"
   ]
  },
  {
   "cell_type": "markdown",
   "metadata": {},
   "source": [
    "## For Loops"
   ]
  },
  {
   "cell_type": "markdown",
   "metadata": {},
   "source": [
    "Now let's say we want to capitalize each ingredient in our bento box. How could we do this without editing each one individually?\n",
    "\n",
    "Well - to go over an iterable, like a list, we can use for loops!"
   ]
  },
  {
   "cell_type": "code",
   "execution_count": 11,
   "metadata": {},
   "outputs": [
    {
     "data": {
      "text/plain": [
       "['chicken', 'katsu curry', 'pickled cucumbers', 'boiled eggs']"
      ]
     },
     "execution_count": 11,
     "metadata": {},
     "output_type": "execute_result"
    }
   ],
   "source": [
    "bento"
   ]
  },
  {
   "cell_type": "code",
   "execution_count": 12,
   "metadata": {},
   "outputs": [
    {
     "name": "stdout",
     "output_type": "stream",
     "text": [
      "Chicken\n",
      "Katsu Curry\n",
      "Pickled Cucumbers\n",
      "Boiled Eggs\n",
      "Method 1: ['Chicken', 'Katsu curry', 'Pickled cucumbers', 'Boiled eggs']\n",
      "Method 2: ['Chicken', 'Katsu Curry', 'Pickled Cucumbers', 'Boiled Eggs']\n"
     ]
    }
   ],
   "source": [
    "# Write a for loop to capitalize each ingredient in our bento list\n",
    "for item in bento:\n",
    "    print(item.title())\n",
    "#                                             Method 1\n",
    "# Capitalize the first word\n",
    "title_bento = []\n",
    "title_bento = [cap.capitalize() for cap in bento]\n",
    "print(f'Method 1: {title_bento}')\n",
    "\n",
    "#                                             Method 2\n",
    "# Capitalize the first letter in each word\n",
    "title_bento = []\n",
    "title_bento = [cap.title() for cap in bento]\n",
    "print(f'Method 2: {title_bento}')"
   ]
  },
  {
   "cell_type": "markdown",
   "metadata": {},
   "source": [
    "We can add conditionals to our loops as well! Let's create a new list, called `s_bento`, that contains only ingredients that have the letter `s` in them.\n",
    "\n",
    "(don't have any ingredients with `s`? feel free to use another letter!)"
   ]
  },
  {
   "cell_type": "code",
   "execution_count": 13,
   "metadata": {},
   "outputs": [
    {
     "data": {
      "text/plain": [
       "['pickled cucumbers', 'boiled eggs']"
      ]
     },
     "execution_count": 13,
     "metadata": {},
     "output_type": "execute_result"
    }
   ],
   "source": [
    "# Write your for loop with a conditional\n",
    "\n",
    "# Need to first define an empty list to become our new list\n",
    "b_bento = []\n",
    "\n",
    "# Now our loop\n",
    "for item in bento:\n",
    "    if 'b' in item:\n",
    "        b_bento.append(item)\n",
    "b_bento\n",
    "        "
   ]
  },
  {
   "cell_type": "code",
   "execution_count": 14,
   "metadata": {},
   "outputs": [
    {
     "data": {
      "text/plain": [
       "['boiled eggs']"
      ]
     },
     "execution_count": 14,
     "metadata": {},
     "output_type": "execute_result"
    }
   ],
   "source": [
    "# Now our loop\n",
    "b_bento2 = []\n",
    "for item in bento:\n",
    "    if item.startswith('b'):\n",
    "        b_bento2.append(item)      \n",
    "b_bento2\n",
    "        "
   ]
  },
  {
   "cell_type": "code",
   "execution_count": 15,
   "metadata": {},
   "outputs": [
    {
     "data": {
      "text/plain": [
       "['pickled cucumbers', 'boiled eggs']"
      ]
     },
     "execution_count": 15,
     "metadata": {},
     "output_type": "execute_result"
    }
   ],
   "source": [
    "# Check your work\n",
    "b_bento"
   ]
  },
  {
   "cell_type": "markdown",
   "metadata": {},
   "source": [
    "### List Comprehension\n",
    "\n",
    "**Neat trick!** You can write one-line for loops!\n",
    "\n",
    "List comprehensions are especially useful if you'd like to loop over something and output a new list - just like we did above!\n",
    "\n",
    "The syntax is: `[f(x) for x in <iterable> if <condition>]`"
   ]
  },
  {
   "cell_type": "code",
   "execution_count": 16,
   "metadata": {},
   "outputs": [
    {
     "data": {
      "text/plain": [
       "['Pickled Cucumbers', 'Boiled Eggs']"
      ]
     },
     "execution_count": 16,
     "metadata": {},
     "output_type": "execute_result"
    }
   ],
   "source": [
    "b_bento_comp = [item.title() for item in bento if 'b' in item]\n",
    "b_bento_comp"
   ]
  },
  {
   "cell_type": "code",
   "execution_count": 17,
   "metadata": {},
   "outputs": [
    {
     "data": {
      "text/plain": [
       "['Pickled Cucumbers', 'Boiled Eggs']"
      ]
     },
     "execution_count": 17,
     "metadata": {},
     "output_type": "execute_result"
    }
   ],
   "source": [
    "# Change our loop to a list comprehension\n",
    "[item.title() for item in bento if 'b' in item]"
   ]
  },
  {
   "cell_type": "code",
   "execution_count": 18,
   "metadata": {},
   "outputs": [
    {
     "data": {
      "text/plain": [
       "['Boiled Eggs']"
      ]
     },
     "execution_count": 18,
     "metadata": {},
     "output_type": "execute_result"
    }
   ],
   "source": [
    "# We could do the same with our earlier capitalization, too!\n",
    "b_bento_comp2 = [item.title() for item in bento if item.startswith('b')]\n",
    "b_bento_comp2"
   ]
  },
  {
   "cell_type": "markdown",
   "metadata": {},
   "source": [
    "Do you _need_ to use list comprehension for this? Nope! But list comprehensions are more efficient: The syntax is simpler, and they're also faster. Also, you'll see them in other people's code, so you'll have to know how to work with them!"
   ]
  },
  {
   "cell_type": "markdown",
   "metadata": {},
   "source": [
    "## Python Dictionaries"
   ]
  },
  {
   "cell_type": "markdown",
   "metadata": {},
   "source": [
    "<img src='https://images.pexels.com/photos/270233/pexels-photo-270233.jpeg?auto=compress&cs=tinysrgb&dpr=2&w=500' alt='picture of a dictionary page' width=600>\n",
    "\n",
    "No, not that kind! \n",
    "\n",
    "With your list above, someone would need to tell you that \"rice\" is the main and \"salmon\" is the protein. \n",
    "\n",
    "Dictionaries let you assign **key** and **value** pairs, which connects a key like \"main\" to a value like \"rice\". Rather than using **indexing**, you use **keys** to return values."
   ]
  },
  {
   "cell_type": "markdown",
   "metadata": {
    "heading_collapsed": true,
    "hidden": true
   },
   "source": [
    "## Dictionary Methods"
   ]
  },
  {
   "cell_type": "markdown",
   "metadata": {
    "hidden": true
   },
   "source": [
    "Make sure you're comfortable with the following dictionary methods:\n",
    "\n",
    "- `.keys()`: returns an array of the dictionary's keys\n",
    "- `.values()`: returns an array of the dictionary's values\n",
    "- `.items()`: returns an array of key-value tuples"
   ]
  },
  {
   "cell_type": "markdown",
   "metadata": {},
   "source": [
    "Update your bento box to be a dictionary, called `bento_dict`. There are multiple ways to do this, but let's showcase how you can use your list and a new list of keys to zip your bento box together."
   ]
  },
  {
   "cell_type": "code",
   "execution_count": 19,
   "metadata": {
    "scrolled": true
   },
   "outputs": [
    {
     "name": "stdout",
     "output_type": "stream",
     "text": [
      "{'ingredient1': 'rice', 'ingredient2': 'tempura', 'ingredient3': 'miso soup'}\n",
      "<class 'dict'>\n"
     ]
    }
   ],
   "source": [
    "# Here's an example of zipping two lists together to form a dictionary\n",
    "example_bento_keys = [\"ingredient1\", \"ingredient2\", \"ingredient3\"]\n",
    "example_bento_values = [\"rice\", \"tempura\", \"miso soup\"]\n",
    "\n",
    "example_bento_dict = dict(zip(example_bento_keys, example_bento_values))\n",
    "\n",
    "print(example_bento_dict)\n",
    "print(type(example_bento_dict))"
   ]
  },
  {
   "cell_type": "code",
   "execution_count": 20,
   "metadata": {},
   "outputs": [
    {
     "data": {
      "text/plain": [
       "['chicken', 'katsu curry', 'pickled cucumbers', 'boiled eggs']"
      ]
     },
     "execution_count": 20,
     "metadata": {},
     "output_type": "execute_result"
    }
   ],
   "source": [
    "# Now let's do that! What does our current list look like?\n",
    "bento"
   ]
  },
  {
   "cell_type": "code",
   "execution_count": 21,
   "metadata": {},
   "outputs": [],
   "source": [
    "# Let's define keys for our bento\n",
    "# Please use the keys 'protein' and 'main', and have at least 2 keys end in numbers!\n",
    "# This will make later exercises easier!\n",
    "keys = ['protien', 'main', 'veg1', 'veg2', 'veg3']"
   ]
  },
  {
   "cell_type": "code",
   "execution_count": 22,
   "metadata": {},
   "outputs": [
    {
     "data": {
      "text/plain": [
       "{'protien': 'chicken',\n",
       " 'main': 'katsu curry',\n",
       " 'veg1': 'pickled cucumbers',\n",
       " 'veg2': 'boiled eggs'}"
      ]
     },
     "execution_count": 22,
     "metadata": {},
     "output_type": "execute_result"
    }
   ],
   "source": [
    "# Now create your bento_dict!\n",
    "bento_dict = dict(zip(keys,bento))\n",
    "bento_dict"
   ]
  },
  {
   "cell_type": "code",
   "execution_count": 23,
   "metadata": {},
   "outputs": [
    {
     "name": "stdout",
     "output_type": "stream",
     "text": [
      "<class 'dict'>\n",
      "{'protien': 'chicken', 'main': 'katsu curry', 'veg1': 'pickled cucumbers', 'veg2': 'boiled eggs'}\n"
     ]
    }
   ],
   "source": [
    "# Code here to check your work - check type, and print your dictionary\n",
    "print(type(bento_dict))\n",
    "\n",
    "print(bento_dict)"
   ]
  },
  {
   "cell_type": "markdown",
   "metadata": {},
   "source": [
    "You use the key of the dictionary to access its value, for example `bento_box['main']` "
   ]
  },
  {
   "cell_type": "code",
   "execution_count": 24,
   "metadata": {
    "scrolled": true
   },
   "outputs": [
    {
     "name": "stdout",
     "output_type": "stream",
     "text": [
      "chicken\n",
      "katsu curry\n",
      "pickled cucumbers\n",
      "boiled eggs\n"
     ]
    }
   ],
   "source": [
    "# Practice accessing elements in your bento box\n",
    "for cat, item in bento_dict.items():\n",
    "    print(item)"
   ]
  },
  {
   "cell_type": "markdown",
   "metadata": {},
   "source": [
    "Let's practice more loops - write a loop that prints the ingredient value, if `vegetable` is in the key."
   ]
  },
  {
   "cell_type": "code",
   "execution_count": 25,
   "metadata": {},
   "outputs": [],
   "source": [
    "# Write your loop\n",
    "veggie_dict = {}\n",
    "\n",
    "for key, ingredient in bento_dict.items():\n",
    "    if 'veg' in key:\n",
    "        number = key[-1]\n",
    "        veggie_dict[number] = ingredient.title()"
   ]
  },
  {
   "cell_type": "markdown",
   "metadata": {},
   "source": [
    "Now let's make a new dictionary, `veggie_dict`, that contains the number of the vegetable as the key and the capitalized ingredient as the value."
   ]
  },
  {
   "cell_type": "code",
   "execution_count": 26,
   "metadata": {},
   "outputs": [
    {
     "data": {
      "text/plain": [
       "['chicken', 'katsu curry', 'pickled cucumbers', 'boiled eggs']"
      ]
     },
     "execution_count": 26,
     "metadata": {},
     "output_type": "execute_result"
    }
   ],
   "source": [
    "# Write your loop\n",
    "\n",
    "# Need to first define an empty dictionary to become our new dict\n",
    "\n",
    "\n",
    "from statistics import multimode\n",
    "multimode(bento)\n"
   ]
  },
  {
   "cell_type": "code",
   "execution_count": 27,
   "metadata": {},
   "outputs": [
    {
     "data": {
      "text/plain": [
       "{'1': 'Pickled Cucumbers', '2': 'Boiled Eggs'}"
      ]
     },
     "execution_count": 27,
     "metadata": {},
     "output_type": "execute_result"
    }
   ],
   "source": [
    "# Check your work!\n",
    "veggie_dict"
   ]
  },
  {
   "cell_type": "markdown",
   "metadata": {},
   "source": [
    "### Dictionary Comprehension\n",
    "\n",
    "Guess what! Just like there's list comprehension to write one-line for loops to output a list, there's the same for dictionaries! This can allow you to take one dictionary and transform it into another.\n",
    "\n",
    "The syntax is: `{f(key):f(value) for (key,value) in <dictonary>.items() if <condition>}`\n"
   ]
  },
  {
   "cell_type": "code",
   "execution_count": 28,
   "metadata": {
    "scrolled": true
   },
   "outputs": [
    {
     "data": {
      "text/plain": [
       "{'1': 'Pickled Cucumbers', '2': 'Boiled Eggs'}"
      ]
     },
     "execution_count": 28,
     "metadata": {},
     "output_type": "execute_result"
    }
   ],
   "source": [
    "# Change our loop to a dictionary comprehension\n",
    "{k[-1]: v.title() for k, v in bento_dict.items() if 'veg' in k}"
   ]
  },
  {
   "cell_type": "code",
   "execution_count": 71,
   "metadata": {},
   "outputs": [
    {
     "data": {
      "text/plain": [
       "{'Ingredient 1': 'chicken',\n",
       " 'Ingredient 2': 'katsu curry',\n",
       " 'Ingredient 3': 'pickled cucumbers',\n",
       " 'Ingredient 4': 'boiled eggs'}"
      ]
     },
     "execution_count": 71,
     "metadata": {},
     "output_type": "execute_result"
    }
   ],
   "source": [
    "{f\"Ingredient {x+1}\": list(bento_dict.values())[x] for x in range(len((bento_dict.values())))}\n"
   ]
  },
  {
   "cell_type": "code",
   "execution_count": 69,
   "metadata": {},
   "outputs": [
    {
     "name": "stdout",
     "output_type": "stream",
     "text": [
      "{'Ingredient 1': 'chicken', 'Ingredient 2': 'katsu curry', 'Ingredient 3': 'pickled cucumbers', 'Ingredient 4': 'boiled eggs'}\n"
     ]
    }
   ],
   "source": [
    "# You can get creative with it too!\n",
    "y = []\n",
    "y = {f\"Ingredient {x+1}\": list(bento_dict.values())[x] for x in range(len((bento_dict.values())))}\n",
    "print(y)"
   ]
  },
  {
   "cell_type": "code",
   "execution_count": 80,
   "metadata": {
    "scrolled": true
   },
   "outputs": [
    {
     "name": "stdout",
     "output_type": "stream",
     "text": [
      "{'Ingredient 1': 'chicken'}\n",
      "{'Ingredient 2': 'katsu curry'}\n",
      "{'Ingredient 3': 'pickled cucumbers'}\n",
      "{'Ingredient 4': 'boiled eggs'}\n"
     ]
    }
   ],
   "source": [
    "# You can get creative with it too!\n",
    "y1 = []\n",
    "for x in range(len(bento_dict.values())):\n",
    "    y1 = {f\"Ingredient {x+1}\": list(bento_dict.values())[x]}\n",
    "    print(y1)"
   ]
  },
  {
   "cell_type": "code",
   "execution_count": 93,
   "metadata": {},
   "outputs": [
    {
     "data": {
      "text/plain": [
       "['chicken', 'katsu curry', 'pickled cucumbers', 'boiled eggs']"
      ]
     },
     "execution_count": 93,
     "metadata": {},
     "output_type": "execute_result"
    }
   ],
   "source": [
    "list(bento_dict.values())"
   ]
  },
  {
   "cell_type": "code",
   "execution_count": 84,
   "metadata": {},
   "outputs": [
    {
     "name": "stdout",
     "output_type": "stream",
     "text": [
      "{'Ingredient 1': ['protien', 'main', 'veg1', 'veg2']}\n",
      "{'Ingredient 2': ['protien', 'main', 'veg1', 'veg2']}\n",
      "{'Ingredient 3': ['protien', 'main', 'veg1', 'veg2']}\n",
      "{'Ingredient 4': ['protien', 'main', 'veg1', 'veg2']}\n"
     ]
    }
   ],
   "source": [
    "y1 = []\n",
    "for x in range(len(bento_dict.values())):\n",
    "    y1 = {f\"Ingredient {x+1}\": list(bento_dict)}\n",
    "    print(y1)"
   ]
  },
  {
   "cell_type": "markdown",
   "metadata": {},
   "source": [
    "## Nesting\n",
    "\n",
    "![Dictionaries inside dictionaries](https://i.imgflip.com/3orgly.jpg)\n",
    "\n",
    "Let's say we want to combine EVERYONE'S bento dictionaries - we can nest those dictonaries as a dictionary of dictionaries! That way, the key can be the person's name, and the value can be the dictionary that contains their bento box order.\n",
    "\n",
    "Use Slack to send your dictionaries to each other (you'll want to send everyone the dictionary output, not the code you wrote if you used zip to create your dictionary). \n",
    "\n",
    "Grab at least two other orders and create a dictionary of dictionaries, where the key is the name of the person ordering and the value is their bento dictionary:"
   ]
  },
  {
   "cell_type": "code",
   "execution_count": 31,
   "metadata": {},
   "outputs": [],
   "source": [
    "# Can go ahead and paste at least two other dictionaries\n",
    "james_bento = {\n",
    "    'main': 'cheeseburger',\n",
    "    'cheese': 'pepper jack',\n",
    "    'side': 'french fries',\n",
    "    'vegetable1': 'pickles',\n",
    "    'vegetable2': 'onions',\n",
    "    'drink': 'milkshake'}\n",
    "\n",
    "hannah_bento = {\n",
    "    \"main\": \"salad\",\n",
    "    \"protein\": \"tempura shrimp\",\n",
    "    \"vegetable1\": \"radishes\",\n",
    "    \"vegetable2\": \"cucumbers\",\n",
    "    \"side\": \"tuna roll\"}"
   ]
  },
  {
   "cell_type": "code",
   "execution_count": 32,
   "metadata": {},
   "outputs": [],
   "source": [
    "# Code here to create your nested dictionaries\n",
    "group_dict = {\n",
    "    \"Keanan\" : bento_dict,\n",
    "    \"James\" : james_bento,\n",
    "    \"Hannah\" : hannah_bento\n",
    "}"
   ]
  },
  {
   "cell_type": "code",
   "execution_count": 33,
   "metadata": {},
   "outputs": [
    {
     "data": {
      "text/plain": [
       "{'Keanan': {'protien': 'chicken',\n",
       "  'main': 'katsu curry',\n",
       "  'veg1': 'pickled cucumbers',\n",
       "  'veg2': 'boiled eggs'},\n",
       " 'James': {'main': 'cheeseburger',\n",
       "  'cheese': 'pepper jack',\n",
       "  'side': 'french fries',\n",
       "  'vegetable1': 'pickles',\n",
       "  'vegetable2': 'onions',\n",
       "  'drink': 'milkshake'},\n",
       " 'Hannah': {'main': 'salad',\n",
       "  'protein': 'tempura shrimp',\n",
       "  'vegetable1': 'radishes',\n",
       "  'vegetable2': 'cucumbers',\n",
       "  'side': 'tuna roll'}}"
      ]
     },
     "execution_count": 33,
     "metadata": {},
     "output_type": "execute_result"
    }
   ],
   "source": [
    "# Check your work\n",
    "group_dict"
   ]
  },
  {
   "cell_type": "markdown",
   "metadata": {},
   "source": [
    "Now, if we wanted a list of people who ordered bento boxes, we could grab a list of those names by using `.keys()`"
   ]
  },
  {
   "cell_type": "code",
   "execution_count": 34,
   "metadata": {},
   "outputs": [
    {
     "data": {
      "text/plain": [
       "dict_keys(['Keanan', 'James', 'Hannah'])"
      ]
     },
     "execution_count": 34,
     "metadata": {},
     "output_type": "execute_result"
    }
   ],
   "source": [
    "# Code here to grab a list of who you have orders for\n",
    "group_dict.keys()"
   ]
  },
  {
   "cell_type": "code",
   "execution_count": 35,
   "metadata": {
    "scrolled": true
   },
   "outputs": [
    {
     "data": {
      "text/plain": [
       "dict"
      ]
     },
     "execution_count": 35,
     "metadata": {},
     "output_type": "execute_result"
    }
   ],
   "source": [
    "# Check your work\n",
    "type(group_dict)"
   ]
  },
  {
   "cell_type": "markdown",
   "metadata": {},
   "source": [
    "How would we access one of these `main`s?"
   ]
  },
  {
   "cell_type": "code",
   "execution_count": 36,
   "metadata": {},
   "outputs": [
    {
     "data": {
      "text/plain": [
       "'cheeseburger'"
      ]
     },
     "execution_count": 36,
     "metadata": {},
     "output_type": "execute_result"
    }
   ],
   "source": [
    "# Access one dictionary's main\n",
    "group_dict['James']['main']"
   ]
  },
  {
   "cell_type": "markdown",
   "metadata": {},
   "source": [
    "Now let's write a loop to print the main ingredient in everyone's bento order. \n",
    "\n",
    "(This is easier if everyone named an ingredient `main` in their dictionary...)"
   ]
  },
  {
   "cell_type": "code",
   "execution_count": 37,
   "metadata": {},
   "outputs": [
    {
     "name": "stdout",
     "output_type": "stream",
     "text": [
      "katsu curry\n",
      "cheeseburger\n",
      "salad\n"
     ]
    }
   ],
   "source": [
    "# Code here to write a for loop that prints each main\n",
    "for order in group_dict.values():\n",
    "    print(order['main'])"
   ]
  },
  {
   "cell_type": "markdown",
   "metadata": {},
   "source": [
    "Just as we can put lists and dictionaries inside of other lists and dictionaries, we can also put comprehensions inside of other comprehensions!"
   ]
  },
  {
   "cell_type": "code",
   "execution_count": 38,
   "metadata": {
    "scrolled": true
   },
   "outputs": [
    {
     "data": {
      "text/plain": [
       "{\"Keanan's vegetables\": ['pickled cucumbers', 'boiled eggs'],\n",
       " \"James's vegetables\": ['pickles', 'onions'],\n",
       " \"Hannah's vegetables\": ['radishes', 'cucumbers']}"
      ]
     },
     "execution_count": 38,
     "metadata": {},
     "output_type": "execute_result"
    }
   ],
   "source": [
    "# An example of nested comprehensions\n",
    "{f\"{name}'s vegetables\": [\n",
    "    v for k, v in order.items() if 'veg' in k] for name, order in group_dict.items()}"
   ]
  },
  {
   "cell_type": "code",
   "execution_count": 39,
   "metadata": {},
   "outputs": [
    {
     "data": {
      "text/plain": [
       "{\"Keanan's vegetables\": ['pickled cucumbers', 'boiled eggs'],\n",
       " \"James's vegetables\": ['pickles', 'onions'],\n",
       " \"Hannah's vegetables\": ['radishes', 'cucumbers']}"
      ]
     },
     "execution_count": 39,
     "metadata": {},
     "output_type": "execute_result"
    }
   ],
   "source": [
    "# But remember ... it's okay to easier to write this out as a for loop\n",
    "# THEN you can condense into a comprehension more easily!\n",
    "\n",
    "group_veggie_dict = {}\n",
    "\n",
    "for name, order in group_dict.items():\n",
    "    ingredient_list = []    \n",
    "    for key, ingredient in order.items():        \n",
    "        if 'veg' in key:\n",
    "            ingredient_list.append(ingredient)\n",
    "    group_veggie_dict[f\"{name}'s vegetables\"] = ingredient_list\n",
    "    \n",
    "# Check it\n",
    "group_veggie_dict"
   ]
  },
  {
   "cell_type": "markdown",
   "metadata": {},
   "source": [
    "## Functions"
   ]
  },
  {
   "cell_type": "markdown",
   "metadata": {
    "heading_collapsed": true
   },
   "source": [
    "This aspect of Python is _incredibly_ useful! Writing your own functions can save you a TON of work - by _automating_ it."
   ]
  },
  {
   "cell_type": "markdown",
   "metadata": {
    "heading_collapsed": true
   },
   "source": [
    "### Creating Functions"
   ]
  },
  {
   "cell_type": "markdown",
   "metadata": {
    "heading_collapsed": true
   },
   "source": [
    "The first line will read:\n",
    "\n",
    "```python\n",
    "\n",
    "'def' function_name() ':'\n",
    "\n",
    "```\n",
    "\n",
    "Any arguments to the function will go in the parentheses, and you can set default arguments in those parentheses as well."
   ]
  },
  {
   "cell_type": "markdown",
   "metadata": {},
   "source": [
    "Let's write a function that will take in both a nested dictionary of bento orders and the name of an ingredient type, which outputs a tuple with each person's name and the ingredients that match that type!"
   ]
  },
  {
   "cell_type": "code",
   "execution_count": 40,
   "metadata": {},
   "outputs": [],
   "source": [
    "def find_ingredients(nested_dictionary, ingredient_type='main'):\n",
    "    '''\n",
    "    Function that takes in a dictionary, where names are keys and values are\n",
    "    dictionaries of that person's bento order, and then checks which keys in\n",
    "    the bento order dictionary match the provided string. The output is a list\n",
    "    of tuples, with each person's name and a list of matched ingredients.\n",
    "    \n",
    "    Inputs:\n",
    "        nested_dictionary : dictionary\n",
    "        ingredient_type : string (default is 'main')\n",
    "        \n",
    "    Outputs:\n",
    "        output_list : tuple\n",
    "    '''\n",
    "    output_list = []\n",
    "    for name, order in nested_dictionary.items():\n",
    "        ing_list = []\n",
    "        for key, value in order.items():\n",
    "            if ingredient_type in key:\n",
    "                ing_list.append(value)\n",
    "        output_list.append((name, ing_list))\n",
    "    return output_list"
   ]
  },
  {
   "cell_type": "code",
   "execution_count": 41,
   "metadata": {},
   "outputs": [
    {
     "data": {
      "text/plain": [
       "[('Keanan', ['pickled cucumbers', 'boiled eggs']),\n",
       " ('James', ['pickles', 'onions']),\n",
       " ('Hannah', ['radishes', 'cucumbers'])]"
      ]
     },
     "execution_count": 41,
     "metadata": {},
     "output_type": "execute_result"
    }
   ],
   "source": [
    "# Try it!\n",
    "output = find_ingredients(group_dict, 'veg')\n",
    "output"
   ]
  },
  {
   "cell_type": "code",
   "execution_count": 42,
   "metadata": {},
   "outputs": [
    {
     "data": {
      "text/plain": [
       "tuple"
      ]
     },
     "execution_count": 42,
     "metadata": {},
     "output_type": "execute_result"
    }
   ],
   "source": [
    "type(output[0])"
   ]
  },
  {
   "cell_type": "markdown",
   "metadata": {
    "heading_collapsed": true,
    "hidden": true
   },
   "source": [
    "---\n",
    "\n",
    "# Extra Practice Exercises"
   ]
  },
  {
   "cell_type": "markdown",
   "metadata": {
    "hidden": true
   },
   "source": [
    "1) Use a list comprehension to extract the odd numbers from this set:"
   ]
  },
  {
   "cell_type": "code",
   "execution_count": 43,
   "metadata": {
    "hidden": true
   },
   "outputs": [],
   "source": [
    "nums = set(range(1000))"
   ]
  },
  {
   "cell_type": "code",
   "execution_count": 44,
   "metadata": {},
   "outputs": [
    {
     "name": "stdout",
     "output_type": "stream",
     "text": [
      "[1, 3, 5, 7, 9, 11, 13, 15, 17, 19, 21, 23, 25, 27, 29, 31, 33, 35, 37, 39, 41, 43, 45, 47, 49, 51, 53, 55, 57, 59, 61, 63, 65, 67, 69, 71, 73, 75, 77, 79, 81, 83, 85, 87, 89, 91, 93, 95, 97, 99, 101, 103, 105, 107, 109, 111, 113, 115, 117, 119, 121, 123, 125, 127, 129, 131, 133, 135, 137, 139, 141, 143, 145, 147, 149, 151, 153, 155, 157, 159, 161, 163, 165, 167, 169, 171, 173, 175, 177, 179, 181, 183, 185, 187, 189, 191, 193, 195, 197, 199, 201, 203, 205, 207, 209, 211, 213, 215, 217, 219, 221, 223, 225, 227, 229, 231, 233, 235, 237, 239, 241, 243, 245, 247, 249, 251, 253, 255, 257, 259, 261, 263, 265, 267, 269, 271, 273, 275, 277, 279, 281, 283, 285, 287, 289, 291, 293, 295, 297, 299, 301, 303, 305, 307, 309, 311, 313, 315, 317, 319, 321, 323, 325, 327, 329, 331, 333, 335, 337, 339, 341, 343, 345, 347, 349, 351, 353, 355, 357, 359, 361, 363, 365, 367, 369, 371, 373, 375, 377, 379, 381, 383, 385, 387, 389, 391, 393, 395, 397, 399, 401, 403, 405, 407, 409, 411, 413, 415, 417, 419, 421, 423, 425, 427, 429, 431, 433, 435, 437, 439, 441, 443, 445, 447, 449, 451, 453, 455, 457, 459, 461, 463, 465, 467, 469, 471, 473, 475, 477, 479, 481, 483, 485, 487, 489, 491, 493, 495, 497, 499, 501, 503, 505, 507, 509, 511, 513, 515, 517, 519, 521, 523, 525, 527, 529, 531, 533, 535, 537, 539, 541, 543, 545, 547, 549, 551, 553, 555, 557, 559, 561, 563, 565, 567, 569, 571, 573, 575, 577, 579, 581, 583, 585, 587, 589, 591, 593, 595, 597, 599, 601, 603, 605, 607, 609, 611, 613, 615, 617, 619, 621, 623, 625, 627, 629, 631, 633, 635, 637, 639, 641, 643, 645, 647, 649, 651, 653, 655, 657, 659, 661, 663, 665, 667, 669, 671, 673, 675, 677, 679, 681, 683, 685, 687, 689, 691, 693, 695, 697, 699, 701, 703, 705, 707, 709, 711, 713, 715, 717, 719, 721, 723, 725, 727, 729, 731, 733, 735, 737, 739, 741, 743, 745, 747, 749, 751, 753, 755, 757, 759, 761, 763, 765, 767, 769, 771, 773, 775, 777, 779, 781, 783, 785, 787, 789, 791, 793, 795, 797, 799, 801, 803, 805, 807, 809, 811, 813, 815, 817, 819, 821, 823, 825, 827, 829, 831, 833, 835, 837, 839, 841, 843, 845, 847, 849, 851, 853, 855, 857, 859, 861, 863, 865, 867, 869, 871, 873, 875, 877, 879, 881, 883, 885, 887, 889, 891, 893, 895, 897, 899, 901, 903, 905, 907, 909, 911, 913, 915, 917, 919, 921, 923, 925, 927, 929, 931, 933, 935, 937, 939, 941, 943, 945, 947, 949, 951, 953, 955, 957, 959, 961, 963, 965, 967, 969, 971, 973, 975, 977, 979, 981, 983, 985, 987, 989, 991, 993, 995, 997, 999]\n"
     ]
    }
   ],
   "source": [
    "# Your code here\n",
    "odd_nums =[]\n",
    "odd_nums = [odd for odd in nums if odd % 2 != 0]\n",
    "print(odd_nums)"
   ]
  },
  {
   "cell_type": "markdown",
   "metadata": {
    "hidden": true
   },
   "source": [
    "<details>\n",
    "    <summary>Answer\n",
    "    </summary>\n",
    "    <code>[num for num in nums if num % 2 == 1]</code>\n",
    "    </details>"
   ]
  },
  {
   "cell_type": "markdown",
   "metadata": {
    "hidden": true
   },
   "source": [
    "2) Use a list comprehension to take the first character of each string from the following list of words:"
   ]
  },
  {
   "cell_type": "code",
   "execution_count": 45,
   "metadata": {
    "hidden": true
   },
   "outputs": [],
   "source": [
    "words = ['carbon', 'osmium', 'mercury', 'potassium', 'rhenium', 'einsteinium',\n",
    "        'hydrogen', 'erbium', 'nitrogen', 'sulfur', 'iodine', 'oxygen', 'niobium']"
   ]
  },
  {
   "cell_type": "code",
   "execution_count": 46,
   "metadata": {},
   "outputs": [
    {
     "name": "stdout",
     "output_type": "stream",
     "text": [
      "['c', 'o', 'm', 'p', 'r', 'e', 'h', 'e', 'n', 's', 'i', 'o', 'n']\n"
     ]
    }
   ],
   "source": [
    "# Your code here\n",
    "character = []\n",
    "character = [first_letter[0] for first_letter in words]\n",
    "print(character)"
   ]
  },
  {
   "cell_type": "markdown",
   "metadata": {
    "hidden": true
   },
   "source": [
    "<details>\n",
    "    <summary>Answer\n",
    "    </summary>\n",
    "    <code>[word[0] for word in words]</code>\n",
    "    </details>"
   ]
  },
  {
   "cell_type": "markdown",
   "metadata": {
    "hidden": true
   },
   "source": [
    "3) Use a list comprehension to build a list of all the names that start with 'R' from the following list. Add a '?' to the end of each name."
   ]
  },
  {
   "cell_type": "code",
   "execution_count": 47,
   "metadata": {
    "hidden": true
   },
   "outputs": [],
   "source": [
    "names = ['Randy', 'Robert', 'Alex', 'Ranjit', 'Charlie', 'Richard', 'Ravdeep',\n",
    "        'Vimal', 'Wu', 'Nelson']"
   ]
  },
  {
   "cell_type": "code",
   "execution_count": 48,
   "metadata": {},
   "outputs": [],
   "source": [
    "# Your code here"
   ]
  },
  {
   "cell_type": "markdown",
   "metadata": {
    "hidden": true
   },
   "source": [
    "<details>\n",
    "<summary>Answer\n",
    "    </summary>\n",
    "    <code>[name+'?' for name in names if name[0] == 'R']</code>\n",
    "    </details>"
   ]
  },
  {
   "cell_type": "markdown",
   "metadata": {
    "hidden": true
   },
   "source": [
    "4) From the list below, make a list of dictionaries where the key is the person's name and the value is the person's home phone number."
   ]
  },
  {
   "cell_type": "code",
   "execution_count": 49,
   "metadata": {
    "hidden": true
   },
   "outputs": [],
   "source": [
    "phone_nos = [{'name': 'greg', 'nums': {'home': 1234567, 'work': 7654321}},\n",
    "             {'name': 'max', 'nums': {'home': 9876543, 'work': 1010001}},\n",
    "             {'name': 'erin', 'nums': {'home': 3333333, 'work': 4444444}},\n",
    "             {'name': 'joél', 'nums': {'home': 2222222, 'work': 5555555}},\n",
    "             {'name': 'sean', 'nums': {'home': 9999999, 'work': 8888888}}]"
   ]
  },
  {
   "cell_type": "code",
   "execution_count": 50,
   "metadata": {},
   "outputs": [],
   "source": [
    "# Your code here"
   ]
  },
  {
   "cell_type": "markdown",
   "metadata": {
    "hidden": true
   },
   "source": [
    "<details>\n",
    "    <summary>Answer</summary>\n",
    "    <code>[{item['name']: item['nums']['home']} for item in phone_nos]</code>\n",
    "    </details>"
   ]
  },
  {
   "cell_type": "markdown",
   "metadata": {
    "hidden": true
   },
   "source": [
    "5) Using this customer's dictionary, build a dictionary where the customers' names are the keys and the movies they've bought are the values."
   ]
  },
  {
   "cell_type": "code",
   "execution_count": 51,
   "metadata": {},
   "outputs": [],
   "source": [
    "customers = {\n",
    "    'bill': {'purchases': {'movies': ['Terminator', 'Elf'],\n",
    "                           'books': []},\n",
    "             'id': 1},\n",
    "    'dolph': {'purchases': {'movies': ['It Happened One Night'],\n",
    "                            'books': ['The Far Side Gallery']},\n",
    "              'id': 2},\n",
    "    'pat': {'purchases': {'movies': [],\n",
    "                          'books': ['Seinfeld and Philosophy', 'I Am a Bunny']},\n",
    "            'id': 3}\n",
    "}"
   ]
  },
  {
   "cell_type": "code",
   "execution_count": 52,
   "metadata": {},
   "outputs": [],
   "source": [
    "# Your code here"
   ]
  },
  {
   "cell_type": "markdown",
   "metadata": {
    "hidden": true
   },
   "source": [
    "<details>\n",
    "    <summary>Answer</summary>\n",
    "    <code>{customer: customers[customer]['purchases']['movies'] for customer in customers.keys()}</code> <br/>\n",
    "    OR <br/>\n",
    "    <code>{k: v['purchases']['movies'] for k, v in customers.items()}</code>\n",
    "    </details>"
   ]
  },
  {
   "cell_type": "markdown",
   "metadata": {
    "hidden": true
   },
   "source": [
    "6) Build a function that will return $2^n$ for an input integer $n$."
   ]
  },
  {
   "cell_type": "code",
   "execution_count": 53,
   "metadata": {},
   "outputs": [],
   "source": [
    "# Your code here"
   ]
  },
  {
   "cell_type": "markdown",
   "metadata": {
    "hidden": true
   },
   "source": [
    "<details>\n",
    "    <summary>Answer</summary>\n",
    "    <code>\n",
    "def expo(n):\n",
    "    return 2**n</code>\n",
    "    </details>"
   ]
  },
  {
   "cell_type": "markdown",
   "metadata": {
    "hidden": true
   },
   "source": [
    "7) Build a function that will take in a list of phone numbers as strings and return the same as integers, removing any parentheses ('(' and ')'), hyphens ('-'), and spaces."
   ]
  },
  {
   "cell_type": "code",
   "execution_count": 54,
   "metadata": {},
   "outputs": [],
   "source": [
    "# Your code here"
   ]
  },
  {
   "cell_type": "markdown",
   "metadata": {
    "hidden": true
   },
   "source": [
    "<details>\n",
    "    <summary>Answer</summary>\n",
    "    <code>\n",
    "def int_phone(string_list):\n",
    "    return [int(string.replace('(', '').replace(')', '').replace('-', '').replace(' ', ''))\\\n",
    "    for string in string_list]</code>\n",
    "    </details>"
   ]
  },
  {
   "cell_type": "markdown",
   "metadata": {
    "hidden": true
   },
   "source": [
    "8) Build a function that returns the mode of a list of numbers."
   ]
  },
  {
   "cell_type": "code",
   "execution_count": 55,
   "metadata": {},
   "outputs": [],
   "source": [
    "# Your code here"
   ]
  },
  {
   "cell_type": "markdown",
   "metadata": {
    "hidden": true
   },
   "source": [
    "<details>\n",
    "    <summary>Answer</summary>\n",
    "        <code>\n",
    "def mode(lst):\n",
    "    counts = {num: lst.count(num) for num in lst}\n",
    "    return [num for num in counts.keys() if counts[num] == max(counts.values())]</code>\n",
    "    </details>"
   ]
  }
 ],
 "metadata": {
  "kernelspec": {
   "display_name": "Python (learn-env)",
   "language": "python",
   "name": "learn-env"
  },
  "language_info": {
   "codemirror_mode": {
    "name": "ipython",
    "version": 3
   },
   "file_extension": ".py",
   "mimetype": "text/x-python",
   "name": "python",
   "nbconvert_exporter": "python",
   "pygments_lexer": "ipython3",
   "version": "3.8.5"
  },
  "toc": {
   "base_numbering": 1,
   "nav_menu": {},
   "number_sections": true,
   "sideBar": true,
   "skip_h1_title": false,
   "title_cell": "Table of Contents",
   "title_sidebar": "Contents",
   "toc_cell": true,
   "toc_position": {
    "height": "calc(100% - 180px)",
    "left": "10px",
    "top": "150px",
    "width": "384px"
   },
   "toc_section_display": true,
   "toc_window_display": true
  }
 },
 "nbformat": 4,
 "nbformat_minor": 2
}
