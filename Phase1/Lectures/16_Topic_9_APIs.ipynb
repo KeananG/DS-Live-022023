{
 "cells": [
  {
   "cell_type": "markdown",
   "metadata": {
    "toc": true
   },
   "source": [
    "<h1>Table of Contents<span class=\"tocSkip\"></span></h1>\n",
    "<div class=\"toc\"><ul class=\"toc-item\"><li><span><a href=\"#Objectives\" data-toc-modified-id=\"Objectives-1\"><span class=\"toc-item-num\">1&nbsp;&nbsp;</span>Objectives</a></span></li><li><span><a href=\"#APIs\" data-toc-modified-id=\"APIs-2\"><span class=\"toc-item-num\">2&nbsp;&nbsp;</span>APIs</a></span><ul class=\"toc-item\"><li><span><a href=\"#Overview-of-APIs\" data-toc-modified-id=\"Overview-of-APIs-2.1\"><span class=\"toc-item-num\">2.1&nbsp;&nbsp;</span>Overview of APIs</a></span><ul class=\"toc-item\"><li><span><a href=\"#Parts-on-an-API\" data-toc-modified-id=\"Parts-on-an-API-2.1.1\"><span class=\"toc-item-num\">2.1.1&nbsp;&nbsp;</span>Parts on an API</a></span></li></ul></li><li><span><a href=\"#The-requests-Library-and-its-.get()-Method\" data-toc-modified-id=\"The-requests-Library-and-its-.get()-Method-2.2\"><span class=\"toc-item-num\">2.2&nbsp;&nbsp;</span>The <code>requests</code> Library and its <code>.get()</code> Method</a></span></li><li><span><a href=\"#Parsing-JSON-Responses\" data-toc-modified-id=\"Parsing-JSON-Responses-2.3\"><span class=\"toc-item-num\">2.3&nbsp;&nbsp;</span>Parsing JSON Responses</a></span></li><li><span><a href=\"#Status-Codes\" data-toc-modified-id=\"Status-Codes-2.4\"><span class=\"toc-item-num\">2.4&nbsp;&nbsp;</span>Status Codes</a></span><ul class=\"toc-item\"><li><span><a href=\"#Common-status-codes\" data-toc-modified-id=\"Common-status-codes-2.4.1\"><span class=\"toc-item-num\">2.4.1&nbsp;&nbsp;</span>Common status codes</a></span></li><li><span><a href=\"#Hitting-the-right-endpoint\" data-toc-modified-id=\"Hitting-the-right-endpoint-2.4.2\"><span class=\"toc-item-num\">2.4.2&nbsp;&nbsp;</span>Hitting the right endpoint</a></span></li></ul></li><li><span><a href=\"#Query-Parameters\" data-toc-modified-id=\"Query-Parameters-2.5\"><span class=\"toc-item-num\">2.5&nbsp;&nbsp;</span>Query Parameters</a></span></li></ul></li><li><span><a href=\"#Secure-APIs:-Generating-Access-Tokens\" data-toc-modified-id=\"Secure-APIs:-Generating-Access-Tokens-3\"><span class=\"toc-item-num\">3&nbsp;&nbsp;</span>Secure APIs: Generating Access Tokens</a></span><ul class=\"toc-item\"><li><span><a href=\"#An-Example-Request-with-OAuth\" data-toc-modified-id=\"An-Example-Request-with-OAuth-3.1\"><span class=\"toc-item-num\">3.1&nbsp;&nbsp;</span>An Example Request with OAuth</a></span></li><li><span><a href=\"#Storing-your-API-Key-Securely\" data-toc-modified-id=\"Storing-your-API-Key-Securely-3.2\"><span class=\"toc-item-num\">3.2&nbsp;&nbsp;</span>Storing your API Key Securely</a></span><ul class=\"toc-item\"><li><span><a href=\"#Step-1---Create-a-hidden-.secrets-folder-in-your-repository\" data-toc-modified-id=\"Step-1---Create-a-hidden-.secrets-folder-in-your-repository-3.2.1\"><span class=\"toc-item-num\">3.2.1&nbsp;&nbsp;</span>Step 1 - Create a hidden <code>.secrets</code> folder in your repository</a></span></li><li><span><a href=\"#Step-2---Put-your-credentials-in-a-file-in-the-.secrets-folder\" data-toc-modified-id=\"Step-2---Put-your-credentials-in-a-file-in-the-.secrets-folder-3.2.2\"><span class=\"toc-item-num\">3.2.2&nbsp;&nbsp;</span>Step 2 - Put your credentials in a file in the <code>.secrets</code> folder</a></span></li><li><span><a href=\"#Step-3---Add-the-.secrets/-folder-to-the-.gitignore-file\" data-toc-modified-id=\"Step-3---Add-the-.secrets/-folder-to-the-.gitignore-file-3.2.3\"><span class=\"toc-item-num\">3.2.3&nbsp;&nbsp;</span>Step 3 - Add the <code>.secrets/</code> folder to the <code>.gitignore</code> file</a></span></li><li><span><a href=\"#Check-If-It-Worked!\" data-toc-modified-id=\"Check-If-It-Worked!-3.2.4\"><span class=\"toc-item-num\">3.2.4&nbsp;&nbsp;</span>Check If It Worked!</a></span></li></ul></li><li><span><a href=\"#Making-our-Request\" data-toc-modified-id=\"Making-our-Request-3.3\"><span class=\"toc-item-num\">3.3&nbsp;&nbsp;</span>Making our Request</a></span></li><li><span><a href=\"#Breaking-Down-the-Request\" data-toc-modified-id=\"Breaking-Down-the-Request-3.4\"><span class=\"toc-item-num\">3.4&nbsp;&nbsp;</span>Breaking Down the Request</a></span></li><li><span><a href=\"#The-Response\" data-toc-modified-id=\"The-Response-3.5\"><span class=\"toc-item-num\">3.5&nbsp;&nbsp;</span>The Response</a></span></li></ul></li></ul></div>"
   ]
  },
  {
   "cell_type": "markdown",
   "metadata": {},
   "source": [
    "![](images/slurping_thru_api.jpeg)"
   ]
  },
  {
   "cell_type": "markdown",
   "metadata": {},
   "source": [
    "> Created by [@siscadraws](https://www.instagram.com/siscadraws/)"
   ]
  },
  {
   "cell_type": "code",
   "execution_count": 1,
   "metadata": {},
   "outputs": [],
   "source": [
    "import pandas as pd\n",
    "import requests\n",
    "import json"
   ]
  },
  {
   "cell_type": "markdown",
   "metadata": {
    "heading_collapsed": true
   },
   "source": [
    "# Objectives"
   ]
  },
  {
   "cell_type": "markdown",
   "metadata": {
    "hidden": true
   },
   "source": [
    "* Send requests and receive responses over the web\n",
    "* Retrieve data from APIs using the `requests` library\n",
    "* Parse API responses"
   ]
  },
  {
   "cell_type": "markdown",
   "metadata": {
    "heading_collapsed": true
   },
   "source": [
    "# APIs"
   ]
  },
  {
   "cell_type": "markdown",
   "metadata": {
    "hidden": true
   },
   "source": [
    "The term **Application Program Interfaces**, or APIs, is exceedingly general. It applies to any interaction between applications or between an application and a user. One might speak of the \"matplotlib API\" to describe proper plotting syntax but also of APIs that govern the interaction between various steps of a data pipeline: between a database server and a remote client, between a local machine and a cloud storage bucket, etc.\n",
    "\n",
    "APIs are commonly used to retrieve data from remote websites. Sites like Reddit, Twitter, and Facebook all offer certain data through their APIs. "
   ]
  },
  {
   "cell_type": "markdown",
   "metadata": {
    "heading_collapsed": true,
    "hidden": true
   },
   "source": [
    "## Overview of APIs"
   ]
  },
  {
   "cell_type": "markdown",
   "metadata": {
    "hidden": true
   },
   "source": [
    "An API communicates with another application:\n",
    "\n",
    "* Send request (with some info/data)\n",
    "* Get response\n",
    "    + data\n",
    "    + service\n",
    "\n",
    "\n",
    "It's always a software-to-software interaction"
   ]
  },
  {
   "cell_type": "markdown",
   "metadata": {
    "hidden": true
   },
   "source": [
    "![](images/web_api.png)\n",
    "> <a href=\"https://commons.wikimedia.org/wiki/File:Web_API.png\">Brivadeneira</a>, <a href=\"https://creativecommons.org/licenses/by-sa/4.0\">CC BY-SA 4.0</a>, via Wikimedia Commons"
   ]
  },
  {
   "cell_type": "markdown",
   "metadata": {
    "heading_collapsed": true,
    "hidden": true
   },
   "source": [
    "### Parts of an API"
   ]
  },
  {
   "cell_type": "markdown",
   "metadata": {
    "hidden": true
   },
   "source": [
    "* **Access Permissions**\n",
    "    + User allowed to ask?\n",
    "* **API Call/Request**\n",
    "    + Code used to make API call to implement complicated tasks/features\n",
    "    + *Methods*: what questions can we ask?\n",
    "    + *Parameters*: more info to be sent\n",
    "* **Repsonse**\n",
    "    + Result of request"
   ]
  },
  {
   "cell_type": "markdown",
   "metadata": {
    "heading_collapsed": true,
    "hidden": true
   },
   "source": [
    "## The `requests` Library and its `.get()` Method"
   ]
  },
  {
   "cell_type": "markdown",
   "metadata": {
    "hidden": true
   },
   "source": [
    "![](images/logo.png)"
   ]
  },
  {
   "cell_type": "markdown",
   "metadata": {
    "hidden": true
   },
   "source": [
    "To use an API, you make a request to a remote web server, and retrieve the data you need.\n",
    "\n",
    "We'll use the `requests` library to access web locations."
   ]
  },
  {
   "cell_type": "markdown",
   "metadata": {
    "hidden": true
   },
   "source": [
    "Below is how you would install and import the requests library before making any requests. \n",
    "```python\n",
    "# Uncomment and install requests if you dont have it already\n",
    "# conda install -c anaconda requests\n",
    "\n",
    "# Import requests to working environment\n",
    "import requests\n",
    "```"
   ]
  },
  {
   "cell_type": "markdown",
   "metadata": {
    "hidden": true
   },
   "source": [
    "-------"
   ]
  },
  {
   "cell_type": "markdown",
   "metadata": {
    "hidden": true
   },
   "source": [
    "Now that we have `requests` library ready in our working environment, we can start making some requests using the `.get()` method as shown below.\n",
    "\n",
    "We can use a GET request to retrieve information from the OpenNotify API."
   ]
  },
  {
   "cell_type": "code",
   "execution_count": 10,
   "metadata": {
    "hidden": true
   },
   "outputs": [],
   "source": [
    "# Make a get request to get the latest position of the\n",
    "# International Space Station (ISS) from the opennotify api.\n",
    "\n",
    "url = 'http://api.open-notify.org/iss-now.json'\n",
    "iss_response = requests.get(url)"
   ]
  },
  {
   "cell_type": "markdown",
   "metadata": {
    "hidden": true
   },
   "source": [
    "This creates a `Response` object containing the response that we received"
   ]
  },
  {
   "cell_type": "code",
   "execution_count": 11,
   "metadata": {
    "hidden": true
   },
   "outputs": [
    {
     "data": {
      "text/plain": [
       "requests.models.Response"
      ]
     },
     "execution_count": 11,
     "metadata": {},
     "output_type": "execute_result"
    }
   ],
   "source": [
    "type(iss_response)"
   ]
  },
  {
   "cell_type": "markdown",
   "metadata": {
    "hidden": true
   },
   "source": [
    "The `Response` object contains a bunch of information about the response we got from the server. For example, it includes the status code, which can be helpful for diagnosing request issues. 200 means OK - we'll discuss others later."
   ]
  },
  {
   "cell_type": "code",
   "execution_count": 24,
   "metadata": {
    "hidden": true
   },
   "outputs": [
    {
     "data": {
      "text/plain": [
       "200"
      ]
     },
     "execution_count": 24,
     "metadata": {},
     "output_type": "execute_result"
    }
   ],
   "source": [
    "iss_code = iss_response.status_code"
   ]
  },
  {
   "cell_type": "raw",
   "metadata": {},
   "source": []
  },
  {
   "cell_type": "markdown",
   "metadata": {
    "hidden": true
   },
   "source": [
    "The `Response` object also contains the data received from our request in the `content` attribute. "
   ]
  },
  {
   "cell_type": "code",
   "execution_count": null,
   "metadata": {},
   "outputs": [],
   "source": [
    "import requests\n",
    "\n",
    "def get_http_status_code_meaning(status_code):\n",
    "    try:\n",
    "        code = int(status_code)\n",
    "        response = requests.get(f\"https://httpstatuses.com/{code}\")\n",
    "        response.raise_for_status()\n",
    "        meaning = response.text.split('<title>')[1].split('</title>')[0]\n",
    "        return meaning\n",
    "    except:\n",
    "        return \"Invalid status code or could not retrieve meaning.\""
   ]
  },
  {
   "cell_type": "code",
   "execution_count": 56,
   "metadata": {},
   "outputs": [
    {
     "data": {
      "text/plain": [
       "'Invalid status code or could not retrieve meaning.'"
      ]
     },
     "execution_count": 56,
     "metadata": {},
     "output_type": "execute_result"
    }
   ],
   "source": [
    "get_http_status_code_meaning()"
   ]
  },
  {
   "cell_type": "markdown",
   "metadata": {
    "heading_collapsed": true,
    "hidden": true
   },
   "source": [
    "## Parsing JSON Responses"
   ]
  },
  {
   "cell_type": "markdown",
   "metadata": {
    "hidden": true
   },
   "source": [
    "OpenNotify has several API **endpoints**. An endpoint is a server route that is used to retrieve different data from the API. For example, the `/comments` endpoint on the Reddit API might retrieve information about comments, whereas the `/users` endpoint might retrieve data about users. To access them, you would add the endpoint to the base url of the API."
   ]
  },
  {
   "cell_type": "code",
   "execution_count": 14,
   "metadata": {
    "hidden": true
   },
   "outputs": [
    {
     "name": "stdout",
     "output_type": "stream",
     "text": [
      "200\n"
     ]
    }
   ],
   "source": [
    "# Let's check out who is in space right now!\n",
    "\n",
    "url = 'http://api.open-notify.org/astros.json'\n",
    "astro_response = requests.get(url)\n",
    "print(astro_response.status_code)"
   ]
  },
  {
   "cell_type": "markdown",
   "metadata": {
    "hidden": true
   },
   "source": [
    "See the `b'` at the beginning? The `content` is stored in a \"byte literal\" format, not a Python dictionary."
   ]
  },
  {
   "cell_type": "code",
   "execution_count": 17,
   "metadata": {
    "hidden": true
   },
   "outputs": [
    {
     "data": {
      "text/plain": [
       "b'{\"message\": \"success\", \"number\": 14, \"people\": [{\"craft\": \"ISS\", \"name\": \"Sergey Prokopyev\"}, {\"craft\": \"ISS\", \"name\": \"Dmitry Petelin\"}, {\"craft\": \"ISS\", \"name\": \"Frank Rubio\"}, {\"craft\": \"ISS\", \"name\": \"Nicole Mann\"}, {\"craft\": \"ISS\", \"name\": \"Josh Cassada\"}, {\"craft\": \"ISS\", \"name\": \"Koichi Wakata\"}, {\"craft\": \"ISS\", \"name\": \"Anna Kikina\"}, {\"craft\": \"Shenzhou 15\", \"name\": \"Fei Junlong\"}, {\"craft\": \"Shenzhou 15\", \"name\": \"Deng Qingming\"}, {\"craft\": \"Shenzhou 15\", \"name\": \"Zhang Lu\"}, {\"craft\": \"ISS\", \"name\": \"Stephen Bowen\"}, {\"craft\": \"ISS\", \"name\": \"Warren Hoburg\"}, {\"craft\": \"ISS\", \"name\": \"Sultan Alneyadi\"}, {\"craft\": \"ISS\", \"name\": \"Andrey Fedyaev\"}]}'"
      ]
     },
     "execution_count": 17,
     "metadata": {},
     "output_type": "execute_result"
    }
   ],
   "source": [
    "astro_response.content"
   ]
  },
  {
   "cell_type": "markdown",
   "metadata": {
    "hidden": true
   },
   "source": [
    "We can look at the `text` attribute instead, but this still gives us a string, not a dictionary."
   ]
  },
  {
   "cell_type": "code",
   "execution_count": 18,
   "metadata": {
    "hidden": true
   },
   "outputs": [
    {
     "data": {
      "text/plain": [
       "'{\"message\": \"success\", \"number\": 14, \"people\": [{\"craft\": \"ISS\", \"name\": \"Sergey Prokopyev\"}, {\"craft\": \"ISS\", \"name\": \"Dmitry Petelin\"}, {\"craft\": \"ISS\", \"name\": \"Frank Rubio\"}, {\"craft\": \"ISS\", \"name\": \"Nicole Mann\"}, {\"craft\": \"ISS\", \"name\": \"Josh Cassada\"}, {\"craft\": \"ISS\", \"name\": \"Koichi Wakata\"}, {\"craft\": \"ISS\", \"name\": \"Anna Kikina\"}, {\"craft\": \"Shenzhou 15\", \"name\": \"Fei Junlong\"}, {\"craft\": \"Shenzhou 15\", \"name\": \"Deng Qingming\"}, {\"craft\": \"Shenzhou 15\", \"name\": \"Zhang Lu\"}, {\"craft\": \"ISS\", \"name\": \"Stephen Bowen\"}, {\"craft\": \"ISS\", \"name\": \"Warren Hoburg\"}, {\"craft\": \"ISS\", \"name\": \"Sultan Alneyadi\"}, {\"craft\": \"ISS\", \"name\": \"Andrey Fedyaev\"}]}'"
      ]
     },
     "execution_count": 18,
     "metadata": {},
     "output_type": "execute_result"
    }
   ],
   "source": [
    "astro_response.text"
   ]
  },
  {
   "cell_type": "markdown",
   "metadata": {
    "hidden": true
   },
   "source": [
    "To address this, we will use the `.json()` method to get a dictionary we can work with."
   ]
  },
  {
   "cell_type": "code",
   "execution_count": 25,
   "metadata": {
    "hidden": true
   },
   "outputs": [
    {
     "data": {
      "text/plain": [
       "dict_keys(['message', 'number', 'people'])"
      ]
     },
     "execution_count": 25,
     "metadata": {},
     "output_type": "execute_result"
    }
   ],
   "source": [
    "astro_data = astro_response.json()\n",
    "astro_data.keys()"
   ]
  },
  {
   "cell_type": "markdown",
   "metadata": {
    "heading_collapsed": true,
    "hidden": true
   },
   "source": [
    "## Status Codes"
   ]
  },
  {
   "cell_type": "markdown",
   "metadata": {
    "hidden": true
   },
   "source": [
    "The request we make may not always be successful. The best way is to check the status code which gets returned with the response: `response.status_code`"
   ]
  },
  {
   "cell_type": "code",
   "execution_count": 28,
   "metadata": {
    "hidden": true
   },
   "outputs": [
    {
     "data": {
      "text/plain": [
       "200"
      ]
     },
     "execution_count": 28,
     "metadata": {},
     "output_type": "execute_result"
    }
   ],
   "source": [
    "astro_response.status_code"
   ]
  },
  {
   "cell_type": "markdown",
   "metadata": {
    "hidden": true
   },
   "source": [
    "[Status Code Info](https://developer.mozilla.org/en-US/docs/Web/HTTP/Status) <br/>\n",
    "[Status Code Info with Dogs](https://httpstatusdogs.com/) <br/>\n",
    "[Wikipedia on Status Codes](https://en.wikipedia.org/wiki/List_of_HTTP_status_codes)\n",
    "\n",
    "So this is a good check to see if our request was successful. Depending on the status of the web server, the access rights of the clients and availibility of requested information. A web server may return a number of status codes within the response. Wikipedia has an exhaustive details on all these codes."
   ]
  },
  {
   "cell_type": "code",
   "execution_count": null,
   "metadata": {},
   "outputs": [],
   "source": [
    "import requests\n",
    "\n",
    "def get_http_status_code_meaning(status_code):\n",
    "    try:\n",
    "        code = int(status_code)\n",
    "        response = requests.get(f\"https://en.wikipedia.org/wiki/List_of_HTTP_status_codes{code}\")\n",
    "        response.raise_for_status()\n",
    "        meaning = response.text.split('<title>')[1].split('</title>')[0]\n",
    "        return meaning\n",
    "    except:\n",
    "        return \"Invalid status code or could not retrieve meaning.\""
   ]
  },
  {
   "cell_type": "markdown",
   "metadata": {
    "heading_collapsed": true,
    "hidden": true
   },
   "source": [
    "### Common status codes"
   ]
  },
  {
   "cell_type": "markdown",
   "metadata": {
    "hidden": true
   },
   "source": [
    "* 200 — everything went okay, and the result has been returned (if any)\n",
    "* 301 — the server is redirecting you to a different endpoint. This can happen when a company switches domain names, or an endpoint name is changed.\n",
    "* 401 — the server thinks you’re not authenticated. This happens when you don’t send the right credentials to access an API.\n",
    "* 400 — the server thinks you made a bad request. This can happen when you don’t send along the right data, among other things.\n",
    "* 403 — the resource you’re trying to access is forbidden — you don’t have the right permissions to see it.\n",
    "* 404 — the resource you tried to access wasn’t found on the server."
   ]
  },
  {
   "cell_type": "markdown",
   "metadata": {
    "heading_collapsed": true,
    "hidden": true
   },
   "source": [
    "### Hitting the right endpoint"
   ]
  },
  {
   "cell_type": "markdown",
   "metadata": {
    "hidden": true
   },
   "source": [
    "We’ll now make a GET request to http://api.open-notify.org/iss-pass.json."
   ]
  },
  {
   "cell_type": "code",
   "execution_count": 57,
   "metadata": {
    "hidden": true
   },
   "outputs": [
    {
     "data": {
      "text/plain": [
       "404"
      ]
     },
     "execution_count": 57,
     "metadata": {},
     "output_type": "execute_result"
    }
   ],
   "source": [
    "iss_pass_url = 'http://api.open-notify.org/iss-pass.json'\n",
    "response = requests.get(iss_pass_url)\n",
    "response.status_code"
   ]
  },
  {
   "cell_type": "markdown",
   "metadata": {
    "hidden": true
   },
   "source": [
    "We can look at `content` to see if the server told us why there was a problem."
   ]
  },
  {
   "cell_type": "code",
   "execution_count": null,
   "metadata": {
    "hidden": true
   },
   "outputs": [],
   "source": []
  },
  {
   "cell_type": "markdown",
   "metadata": {
    "heading_collapsed": true,
    "hidden": true
   },
   "source": [
    "## Query Parameters"
   ]
  },
  {
   "cell_type": "markdown",
   "metadata": {
    "hidden": true
   },
   "source": [
    "If you look at the [documentation](https://web.archive.org/web/20201224141953/http://open-notify.org/Open-Notify-API/ISS-Pass-Times/), we see that the ISS Pass endpoint requires two parameters.\n",
    "\n",
    "We can do this by adding an optional keyword argument, params, to our request. In this case, there are two parameters we need to pass:\n",
    "\n",
    "* lat — The latitude of the location we want.\n",
    "* lon — The longitude of the location we want.\n",
    "\n",
    "We can make a dictionary with these parameters, and then pass them into the `requests.get()` method. We’ll make a request using the coordinates of New York City, and see what response we get.\n",
    "\n",
    "We can also add the query parameters to the url, like this: http://api.open-notify.org/iss-pass.json?lat=47.6&lon=-122.3. However, it’s almost always preferable to pass the parameters as a dictionary, because `requests` takes care of some potential issues, like properly formatting the query parameters.\n",
    "\n",
    "* **HAS BEEN DEPRECIATED**\n",
    "\n",
    "We will use [this](https://api.publicapis.org) instead\n",
    "\n",
    "- A good list of public API's that are available for practice and exploration\n",
    "\n",
    "- We will take a look a the entries parameters and subset our request based on category and if https is supported"
   ]
  },
  {
   "cell_type": "markdown",
   "metadata": {
    "hidden": true
   },
   "source": [
    "We'll add parameters to the get method in the form of a dictionary with two keys, lat and long."
   ]
  },
  {
   "cell_type": "code",
   "execution_count": 58,
   "metadata": {
    "hidden": true
   },
   "outputs": [
    {
     "name": "stdout",
     "output_type": "stream",
     "text": [
      "{\"count\":15,\"entries\":[{\"API\":\"BreezoMeter Pollen\",\"Description\":\"Daily Forecast pollen conditions data for a specific location\",\"Auth\":\"apiKey\",\"HTTPS\":true,\"Cors\":\"unknown\",\"Link\":\"https://docs.breezometer.com/api-documentation/pollen-api/v2/\",\"Category\":\"Environment\"},{\"API\":\"Carbon Interface\",\"Description\":\"API to calculate carbon (C02) emissions estimates for common C02 emitting activities\",\"Auth\":\"apiKey\",\"HTTPS\":true,\"Cors\":\"yes\",\"Link\":\"https://docs.carboninterface.com/\",\"Category\":\"Environment\"},{\"API\":\"Climatiq\",\"Description\":\"Calculate the environmental footprint created by a broad range of emission-generating activities\",\"Auth\":\"apiKey\",\"HTTPS\":true,\"Cors\":\"yes\",\"Link\":\"https://docs.climatiq.io\",\"Category\":\"Environment\"},{\"API\":\"Cloverly\",\"Description\":\"API calculates the impact of common carbon-intensive activities in real time\",\"Auth\":\"apiKey\",\"HTTPS\":true,\"Cors\":\"unknown\",\"Link\":\"https://www.cloverly.com/carbon-offset-documentation\",\"Category\":\"Environment\"},{\"API\":\"CO2 Offset\",\"Description\":\"API calculates and validates the carbon footprint\",\"Auth\":\"\",\"HTTPS\":true,\"Cors\":\"unknown\",\"Link\":\"https://co2offset.io/api.html\",\"Category\":\"Environment\"},{\"API\":\"Danish data service Energi\",\"Description\":\"Open energy data from Energinet to society\",\"Auth\":\"\",\"HTTPS\":true,\"Cors\":\"unknown\",\"Link\":\"https://www.energidataservice.dk/\",\"Category\":\"Environment\"},{\"API\":\"IQAir\",\"Description\":\"Air quality and weather data\",\"Auth\":\"apiKey\",\"HTTPS\":true,\"Cors\":\"unknown\",\"Link\":\"https://www.iqair.com/air-pollution-data-api\",\"Category\":\"Environment\"},{\"API\":\"Luchtmeetnet\",\"Description\":\"Predicted and actual air quality components for The Netherlands (RIVM)\",\"Auth\":\"\",\"HTTPS\":true,\"Cors\":\"unknown\",\"Link\":\"https://api-docs.luchtmeetnet.nl/\",\"Category\":\"Environment\"},{\"API\":\"National Grid ESO\",\"Description\":\"Open data from Great Britainâ€™s Electricity System Operator\",\"Auth\":\"\",\"HTTPS\":true,\"Cors\":\"unknown\",\"Link\":\"https://data.nationalgrideso.com/\",\"Category\":\"Environment\"},{\"API\":\"OpenAQ\",\"Description\":\"Open air quality data\",\"Auth\":\"apiKey\",\"HTTPS\":true,\"Cors\":\"unknown\",\"Link\":\"https://docs.openaq.org/\",\"Category\":\"Environment\"},{\"API\":\"PM2.5 Open Data Portal\",\"Description\":\"Open low-cost PM2.5 sensor data\",\"Auth\":\"\",\"HTTPS\":true,\"Cors\":\"unknown\",\"Link\":\"https://pm25.lass-net.org/#apis\",\"Category\":\"Environment\"},{\"API\":\"PVWatts\",\"Description\":\"Energy production photovoltaic (PV) energy systems\",\"Auth\":\"apiKey\",\"HTTPS\":true,\"Cors\":\"unknown\",\"Link\":\"https://developer.nrel.gov/docs/solar/pvwatts/v6/\",\"Category\":\"Environment\"},{\"API\":\"Srp Energy\",\"Description\":\"Hourly usage energy report for Srp customers\",\"Auth\":\"apiKey\",\"HTTPS\":true,\"Cors\":\"no\",\"Link\":\"https://srpenergy-api-client-python.readthedocs.io/en/latest/api.html\",\"Category\":\"Environment\"},{\"API\":\"UK Carbon Intensity\",\"Description\":\"The Official Carbon Intensity API for Great Britain developed by National Grid\",\"Auth\":\"\",\"HTTPS\":true,\"Cors\":\"unknown\",\"Link\":\"https://carbon-intensity.github.io/api-definitions/#carbon-intensity-api-v1-0-0\",\"Category\":\"Environment\"},{\"API\":\"Website Carbon\",\"Description\":\"API to estimate the carbon footprint of loading web pages\",\"Auth\":\"\",\"HTTPS\":true,\"Cors\":\"unknown\",\"Link\":\"https://api.websitecarbon.com/\",\"Category\":\"Environment\"}]}\n",
      "\n"
     ]
    }
   ],
   "source": [
    "# Our code here\n",
    "url = 'https://api.publicapis.org/entries'\n",
    "params_dict = {'category': 'environment', 'https': 'true'}\n",
    "response = requests.get(url,\n",
    "            params=params_dict)\n",
    "\n",
    "# Print the content of the response (the data the server returned)\n",
    "\n",
    "print(response.text)\n",
    "\n",
    "# This gets the same data as the command above:\n",
    "#response2 = requests.get(\"https://api.publicapis.org/entries?category=science&https=true\"))"
   ]
  },
  {
   "cell_type": "code",
   "execution_count": 22,
   "metadata": {
    "scrolled": true
   },
   "outputs": [
    {
     "data": {
      "text/html": [
       "<div>\n",
       "<style scoped>\n",
       "    .dataframe tbody tr th:only-of-type {\n",
       "        vertical-align: middle;\n",
       "    }\n",
       "\n",
       "    .dataframe tbody tr th {\n",
       "        vertical-align: top;\n",
       "    }\n",
       "\n",
       "    .dataframe thead th {\n",
       "        text-align: right;\n",
       "    }\n",
       "</style>\n",
       "<table border=\"1\" class=\"dataframe\">\n",
       "  <thead>\n",
       "    <tr style=\"text-align: right;\">\n",
       "      <th></th>\n",
       "      <th>0</th>\n",
       "    </tr>\n",
       "  </thead>\n",
       "  <tbody>\n",
       "    <tr>\n",
       "      <th>0</th>\n",
       "      <td>b'{\"count\":15,\"entries\":[{\"API\":\"BreezoMeter Pollen\",\"Description\":\"Daily Forecast pollen conditions data for a specific location\"'</td>\n",
       "    </tr>\n",
       "    <tr>\n",
       "      <th>1</th>\n",
       "      <td>b',\"Auth\":\"apiKey\",\"HTTPS\":true,\"Cors\":\"unknown\",\"Link\":\"https://docs.breezometer.com/api-documentation/pollen-api/v2/\",\"Category\"'</td>\n",
       "    </tr>\n",
       "    <tr>\n",
       "      <th>2</th>\n",
       "      <td>b':\"Environment\"},{\"API\":\"Carbon Interface\",\"Description\":\"API to calculate carbon (C02) emissions estimates for common C02 emitti'</td>\n",
       "    </tr>\n",
       "    <tr>\n",
       "      <th>3</th>\n",
       "      <td>b'ng activities\",\"Auth\":\"apiKey\",\"HTTPS\":true,\"Cors\":\"yes\",\"Link\":\"https://docs.carboninterface.com/\",\"Category\":\"Environment\"},{\"'</td>\n",
       "    </tr>\n",
       "    <tr>\n",
       "      <th>4</th>\n",
       "      <td>b'API\":\"Climatiq\",\"Description\":\"Calculate the environmental footprint created by a broad range of emission-generating activities\"'</td>\n",
       "    </tr>\n",
       "    <tr>\n",
       "      <th>5</th>\n",
       "      <td>b',\"Auth\":\"apiKey\",\"HTTPS\":true,\"Cors\":\"yes\",\"Link\":\"https://docs.climatiq.io\",\"Category\":\"Environment\"},{\"API\":\"Cloverly\",\"Descri'</td>\n",
       "    </tr>\n",
       "    <tr>\n",
       "      <th>6</th>\n",
       "      <td>b'ption\":\"API calculates the impact of common carbon-intensive activities in real time\",\"Auth\":\"apiKey\",\"HTTPS\":true,\"Cors\":\"unkno'</td>\n",
       "    </tr>\n",
       "    <tr>\n",
       "      <th>7</th>\n",
       "      <td>b'wn\",\"Link\":\"https://www.cloverly.com/carbon-offset-documentation\",\"Category\":\"Environment\"},{\"API\":\"CO2 Offset\",\"Description\":\"A'</td>\n",
       "    </tr>\n",
       "    <tr>\n",
       "      <th>8</th>\n",
       "      <td>b'PI calculates and validates the carbon footprint\",\"Auth\":\"\",\"HTTPS\":true,\"Cors\":\"unknown\",\"Link\":\"https://co2offset.io/api.html\"'</td>\n",
       "    </tr>\n",
       "    <tr>\n",
       "      <th>9</th>\n",
       "      <td>b',\"Category\":\"Environment\"},{\"API\":\"Danish data service Energi\",\"Description\":\"Open energy data from Energinet to society\",\"Auth\"'</td>\n",
       "    </tr>\n",
       "    <tr>\n",
       "      <th>10</th>\n",
       "      <td>b':\"\",\"HTTPS\":true,\"Cors\":\"unknown\",\"Link\":\"https://www.energidataservice.dk/\",\"Category\":\"Environment\"},{\"API\":\"IQAir\",\"Descripti'</td>\n",
       "    </tr>\n",
       "    <tr>\n",
       "      <th>11</th>\n",
       "      <td>b'on\":\"Air quality and weather data\",\"Auth\":\"apiKey\",\"HTTPS\":true,\"Cors\":\"unknown\",\"Link\":\"https://www.iqair.com/air-pollution-dat'</td>\n",
       "    </tr>\n",
       "    <tr>\n",
       "      <th>12</th>\n",
       "      <td>b'a-api\",\"Category\":\"Environment\"},{\"API\":\"Luchtmeetnet\",\"Description\":\"Predicted and actual air quality components for The Nether'</td>\n",
       "    </tr>\n",
       "    <tr>\n",
       "      <th>13</th>\n",
       "      <td>b'lands (RIVM)\",\"Auth\":\"\",\"HTTPS\":true,\"Cors\":\"unknown\",\"Link\":\"https://api-docs.luchtmeetnet.nl/\",\"Category\":\"Environment\"},{\"API'</td>\n",
       "    </tr>\n",
       "    <tr>\n",
       "      <th>14</th>\n",
       "      <td>b'\":\"National Grid ESO\",\"Description\":\"Open data from Great Britain\\xe2\\x80\\x99s Electricity System Operator\",\"Auth\":\"\",\"HTTPS\":true,\"Cors\"'</td>\n",
       "    </tr>\n",
       "    <tr>\n",
       "      <th>15</th>\n",
       "      <td>b':\"unknown\",\"Link\":\"https://data.nationalgrideso.com/\",\"Category\":\"Environment\"},{\"API\":\"OpenAQ\",\"Description\":\"Open air quality '</td>\n",
       "    </tr>\n",
       "    <tr>\n",
       "      <th>16</th>\n",
       "      <td>b'data\",\"Auth\":\"apiKey\",\"HTTPS\":true,\"Cors\":\"unknown\",\"Link\":\"https://docs.openaq.org/\",\"Category\":\"Environment\"},{\"API\":\"PM2.5 Op'</td>\n",
       "    </tr>\n",
       "    <tr>\n",
       "      <th>17</th>\n",
       "      <td>b'en Data Portal\",\"Description\":\"Open low-cost PM2.5 sensor data\",\"Auth\":\"\",\"HTTPS\":true,\"Cors\":\"unknown\",\"Link\":\"https://pm25.las'</td>\n",
       "    </tr>\n",
       "    <tr>\n",
       "      <th>18</th>\n",
       "      <td>b's-net.org/#apis\",\"Category\":\"Environment\"},{\"API\":\"PVWatts\",\"Description\":\"Energy production photovoltaic (PV) energy systems\",\"'</td>\n",
       "    </tr>\n",
       "    <tr>\n",
       "      <th>19</th>\n",
       "      <td>b'Auth\":\"apiKey\",\"HTTPS\":true,\"Cors\":\"unknown\",\"Link\":\"https://developer.nrel.gov/docs/solar/pvwatts/v6/\",\"Category\":\"Environment\"'</td>\n",
       "    </tr>\n",
       "    <tr>\n",
       "      <th>20</th>\n",
       "      <td>b'},{\"API\":\"Srp Energy\",\"Description\":\"Hourly usage energy report for Srp customers\",\"Auth\":\"apiKey\",\"HTTPS\":true,\"Cors\":\"no\",\"Lin'</td>\n",
       "    </tr>\n",
       "    <tr>\n",
       "      <th>21</th>\n",
       "      <td>b'k\":\"https://srpenergy-api-client-python.readthedocs.io/en/latest/api.html\",\"Category\":\"Environment\"},{\"API\":\"UK Carbon Intensity'</td>\n",
       "    </tr>\n",
       "    <tr>\n",
       "      <th>22</th>\n",
       "      <td>b'\",\"Description\":\"The Official Carbon Intensity API for Great Britain developed by National Grid\",\"Auth\":\"\",\"HTTPS\":true,\"Cors\":\"'</td>\n",
       "    </tr>\n",
       "    <tr>\n",
       "      <th>23</th>\n",
       "      <td>b'unknown\",\"Link\":\"https://carbon-intensity.github.io/api-definitions/#carbon-intensity-api-v1-0-0\",\"Category\":\"Environment\"},{\"AP'</td>\n",
       "    </tr>\n",
       "    <tr>\n",
       "      <th>24</th>\n",
       "      <td>b'I\":\"Website Carbon\",\"Description\":\"API to estimate the carbon footprint of loading web pages\",\"Auth\":\"\",\"HTTPS\":true,\"Cors\":\"unk'</td>\n",
       "    </tr>\n",
       "    <tr>\n",
       "      <th>25</th>\n",
       "      <td>b'nown\",\"Link\":\"https://api.websitecarbon.com/\",\"Category\":\"Environment\"}]}\\n'</td>\n",
       "    </tr>\n",
       "  </tbody>\n",
       "</table>\n",
       "</div>"
      ],
      "text/plain": [
       "                                                                                                                                               0\n",
       "0            b'{\"count\":15,\"entries\":[{\"API\":\"BreezoMeter Pollen\",\"Description\":\"Daily Forecast pollen conditions data for a specific location\"'\n",
       "1            b',\"Auth\":\"apiKey\",\"HTTPS\":true,\"Cors\":\"unknown\",\"Link\":\"https://docs.breezometer.com/api-documentation/pollen-api/v2/\",\"Category\"'\n",
       "2            b':\"Environment\"},{\"API\":\"Carbon Interface\",\"Description\":\"API to calculate carbon (C02) emissions estimates for common C02 emitti'\n",
       "3            b'ng activities\",\"Auth\":\"apiKey\",\"HTTPS\":true,\"Cors\":\"yes\",\"Link\":\"https://docs.carboninterface.com/\",\"Category\":\"Environment\"},{\"'\n",
       "4            b'API\":\"Climatiq\",\"Description\":\"Calculate the environmental footprint created by a broad range of emission-generating activities\"'\n",
       "5            b',\"Auth\":\"apiKey\",\"HTTPS\":true,\"Cors\":\"yes\",\"Link\":\"https://docs.climatiq.io\",\"Category\":\"Environment\"},{\"API\":\"Cloverly\",\"Descri'\n",
       "6            b'ption\":\"API calculates the impact of common carbon-intensive activities in real time\",\"Auth\":\"apiKey\",\"HTTPS\":true,\"Cors\":\"unkno'\n",
       "7            b'wn\",\"Link\":\"https://www.cloverly.com/carbon-offset-documentation\",\"Category\":\"Environment\"},{\"API\":\"CO2 Offset\",\"Description\":\"A'\n",
       "8            b'PI calculates and validates the carbon footprint\",\"Auth\":\"\",\"HTTPS\":true,\"Cors\":\"unknown\",\"Link\":\"https://co2offset.io/api.html\"'\n",
       "9            b',\"Category\":\"Environment\"},{\"API\":\"Danish data service Energi\",\"Description\":\"Open energy data from Energinet to society\",\"Auth\"'\n",
       "10           b':\"\",\"HTTPS\":true,\"Cors\":\"unknown\",\"Link\":\"https://www.energidataservice.dk/\",\"Category\":\"Environment\"},{\"API\":\"IQAir\",\"Descripti'\n",
       "11           b'on\":\"Air quality and weather data\",\"Auth\":\"apiKey\",\"HTTPS\":true,\"Cors\":\"unknown\",\"Link\":\"https://www.iqair.com/air-pollution-dat'\n",
       "12           b'a-api\",\"Category\":\"Environment\"},{\"API\":\"Luchtmeetnet\",\"Description\":\"Predicted and actual air quality components for The Nether'\n",
       "13           b'lands (RIVM)\",\"Auth\":\"\",\"HTTPS\":true,\"Cors\":\"unknown\",\"Link\":\"https://api-docs.luchtmeetnet.nl/\",\"Category\":\"Environment\"},{\"API'\n",
       "14  b'\":\"National Grid ESO\",\"Description\":\"Open data from Great Britain\\xe2\\x80\\x99s Electricity System Operator\",\"Auth\":\"\",\"HTTPS\":true,\"Cors\"'\n",
       "15           b':\"unknown\",\"Link\":\"https://data.nationalgrideso.com/\",\"Category\":\"Environment\"},{\"API\":\"OpenAQ\",\"Description\":\"Open air quality '\n",
       "16           b'data\",\"Auth\":\"apiKey\",\"HTTPS\":true,\"Cors\":\"unknown\",\"Link\":\"https://docs.openaq.org/\",\"Category\":\"Environment\"},{\"API\":\"PM2.5 Op'\n",
       "17           b'en Data Portal\",\"Description\":\"Open low-cost PM2.5 sensor data\",\"Auth\":\"\",\"HTTPS\":true,\"Cors\":\"unknown\",\"Link\":\"https://pm25.las'\n",
       "18           b's-net.org/#apis\",\"Category\":\"Environment\"},{\"API\":\"PVWatts\",\"Description\":\"Energy production photovoltaic (PV) energy systems\",\"'\n",
       "19           b'Auth\":\"apiKey\",\"HTTPS\":true,\"Cors\":\"unknown\",\"Link\":\"https://developer.nrel.gov/docs/solar/pvwatts/v6/\",\"Category\":\"Environment\"'\n",
       "20           b'},{\"API\":\"Srp Energy\",\"Description\":\"Hourly usage energy report for Srp customers\",\"Auth\":\"apiKey\",\"HTTPS\":true,\"Cors\":\"no\",\"Lin'\n",
       "21           b'k\":\"https://srpenergy-api-client-python.readthedocs.io/en/latest/api.html\",\"Category\":\"Environment\"},{\"API\":\"UK Carbon Intensity'\n",
       "22           b'\",\"Description\":\"The Official Carbon Intensity API for Great Britain developed by National Grid\",\"Auth\":\"\",\"HTTPS\":true,\"Cors\":\"'\n",
       "23           b'unknown\",\"Link\":\"https://carbon-intensity.github.io/api-definitions/#carbon-intensity-api-v1-0-0\",\"Category\":\"Environment\"},{\"AP'\n",
       "24           b'I\":\"Website Carbon\",\"Description\":\"API to estimate the carbon footprint of loading web pages\",\"Auth\":\"\",\"HTTPS\":true,\"Cors\":\"unk'\n",
       "25                                                                b'nown\",\"Link\":\"https://api.websitecarbon.com/\",\"Category\":\"Environment\"}]}\\n'"
      ]
     },
     "metadata": {},
     "output_type": "display_data"
    }
   ],
   "source": [
    "# This gets the same data as the command above:\n",
    "import pandas as pd\n",
    "response2 = requests.get(\"https://api.publicapis.org/entries?category=environment&https=true\")\n",
    "df = pd.DataFrame(response2)\n",
    "pd.set_option('display.max_colwidth', None)  # Set max_colwidth option to None to display full contents of each row\n",
    "display(df)\n",
    "\n"
   ]
  },
  {
   "cell_type": "code",
   "execution_count": 96,
   "metadata": {
    "scrolled": true
   },
   "outputs": [
    {
     "data": {
      "text/plain": [
       "['count', 'entries']"
      ]
     },
     "execution_count": 96,
     "metadata": {},
     "output_type": "execute_result"
    }
   ],
   "source": [
    "import pandas as pd\n",
    "response = requests.get(\"https://api.publicapis.org/entries?category=environment&https=true\")\n",
    "data = response.json()\n",
    "list(data.keys())"
   ]
  },
  {
   "cell_type": "code",
   "execution_count": 54,
   "metadata": {},
   "outputs": [
    {
     "data": {
      "text/plain": [
       "200"
      ]
     },
     "execution_count": 54,
     "metadata": {},
     "output_type": "execute_result"
    }
   ],
   "source": [
    "response = requests.get(f\"https://en.wikipedia.org/wiki/List_of_HTTP_status_codes#\")\n"
   ]
  },
  {
   "cell_type": "code",
   "execution_count": 82,
   "metadata": {},
   "outputs": [
    {
     "data": {
      "text/plain": [
       "list"
      ]
     },
     "execution_count": 82,
     "metadata": {},
     "output_type": "execute_result"
    }
   ],
   "source": [
    "type(response.json()['entries'])"
   ]
  },
  {
   "cell_type": "code",
   "execution_count": 1,
   "metadata": {
    "scrolled": true
   },
   "outputs": [
    {
     "data": {
      "text/html": [
       "<div>\n",
       "<style scoped>\n",
       "    .dataframe tbody tr th:only-of-type {\n",
       "        vertical-align: middle;\n",
       "    }\n",
       "\n",
       "    .dataframe tbody tr th {\n",
       "        vertical-align: top;\n",
       "    }\n",
       "\n",
       "    .dataframe thead th {\n",
       "        text-align: right;\n",
       "    }\n",
       "</style>\n",
       "<table border=\"1\" class=\"dataframe\">\n",
       "  <thead>\n",
       "    <tr style=\"text-align: right;\">\n",
       "      <th></th>\n",
       "      <th>API</th>\n",
       "      <th>Description</th>\n",
       "      <th>Auth</th>\n",
       "      <th>HTTPS</th>\n",
       "      <th>Cors</th>\n",
       "      <th>Link</th>\n",
       "      <th>Category</th>\n",
       "    </tr>\n",
       "  </thead>\n",
       "  <tbody>\n",
       "    <tr>\n",
       "      <th>0</th>\n",
       "      <td>BreezoMeter Pollen</td>\n",
       "      <td>Daily Forecast pollen conditions data for a specific location</td>\n",
       "      <td>apiKey</td>\n",
       "      <td>True</td>\n",
       "      <td>unknown</td>\n",
       "      <td>https://docs.breezometer.com/api-documentation/pollen-api/v2/</td>\n",
       "      <td>Environment</td>\n",
       "    </tr>\n",
       "    <tr>\n",
       "      <th>1</th>\n",
       "      <td>Carbon Interface</td>\n",
       "      <td>API to calculate carbon (C02) emissions estimates for common C02 emitting activities</td>\n",
       "      <td>apiKey</td>\n",
       "      <td>True</td>\n",
       "      <td>yes</td>\n",
       "      <td>https://docs.carboninterface.com/</td>\n",
       "      <td>Environment</td>\n",
       "    </tr>\n",
       "    <tr>\n",
       "      <th>2</th>\n",
       "      <td>Climatiq</td>\n",
       "      <td>Calculate the environmental footprint created by a broad range of emission-generating activities</td>\n",
       "      <td>apiKey</td>\n",
       "      <td>True</td>\n",
       "      <td>yes</td>\n",
       "      <td>https://docs.climatiq.io</td>\n",
       "      <td>Environment</td>\n",
       "    </tr>\n",
       "    <tr>\n",
       "      <th>3</th>\n",
       "      <td>Cloverly</td>\n",
       "      <td>API calculates the impact of common carbon-intensive activities in real time</td>\n",
       "      <td>apiKey</td>\n",
       "      <td>True</td>\n",
       "      <td>unknown</td>\n",
       "      <td>https://www.cloverly.com/carbon-offset-documentation</td>\n",
       "      <td>Environment</td>\n",
       "    </tr>\n",
       "    <tr>\n",
       "      <th>4</th>\n",
       "      <td>CO2 Offset</td>\n",
       "      <td>API calculates and validates the carbon footprint</td>\n",
       "      <td></td>\n",
       "      <td>True</td>\n",
       "      <td>unknown</td>\n",
       "      <td>https://co2offset.io/api.html</td>\n",
       "      <td>Environment</td>\n",
       "    </tr>\n",
       "    <tr>\n",
       "      <th>5</th>\n",
       "      <td>Danish data service Energi</td>\n",
       "      <td>Open energy data from Energinet to society</td>\n",
       "      <td></td>\n",
       "      <td>True</td>\n",
       "      <td>unknown</td>\n",
       "      <td>https://www.energidataservice.dk/</td>\n",
       "      <td>Environment</td>\n",
       "    </tr>\n",
       "    <tr>\n",
       "      <th>6</th>\n",
       "      <td>IQAir</td>\n",
       "      <td>Air quality and weather data</td>\n",
       "      <td>apiKey</td>\n",
       "      <td>True</td>\n",
       "      <td>unknown</td>\n",
       "      <td>https://www.iqair.com/air-pollution-data-api</td>\n",
       "      <td>Environment</td>\n",
       "    </tr>\n",
       "    <tr>\n",
       "      <th>7</th>\n",
       "      <td>Luchtmeetnet</td>\n",
       "      <td>Predicted and actual air quality components for The Netherlands (RIVM)</td>\n",
       "      <td></td>\n",
       "      <td>True</td>\n",
       "      <td>unknown</td>\n",
       "      <td>https://api-docs.luchtmeetnet.nl/</td>\n",
       "      <td>Environment</td>\n",
       "    </tr>\n",
       "    <tr>\n",
       "      <th>8</th>\n",
       "      <td>National Grid ESO</td>\n",
       "      <td>Open data from Great Britain’s Electricity System Operator</td>\n",
       "      <td></td>\n",
       "      <td>True</td>\n",
       "      <td>unknown</td>\n",
       "      <td>https://data.nationalgrideso.com/</td>\n",
       "      <td>Environment</td>\n",
       "    </tr>\n",
       "    <tr>\n",
       "      <th>9</th>\n",
       "      <td>OpenAQ</td>\n",
       "      <td>Open air quality data</td>\n",
       "      <td>apiKey</td>\n",
       "      <td>True</td>\n",
       "      <td>unknown</td>\n",
       "      <td>https://docs.openaq.org/</td>\n",
       "      <td>Environment</td>\n",
       "    </tr>\n",
       "    <tr>\n",
       "      <th>10</th>\n",
       "      <td>PM2.5 Open Data Portal</td>\n",
       "      <td>Open low-cost PM2.5 sensor data</td>\n",
       "      <td></td>\n",
       "      <td>True</td>\n",
       "      <td>unknown</td>\n",
       "      <td>https://pm25.lass-net.org/#apis</td>\n",
       "      <td>Environment</td>\n",
       "    </tr>\n",
       "    <tr>\n",
       "      <th>11</th>\n",
       "      <td>PVWatts</td>\n",
       "      <td>Energy production photovoltaic (PV) energy systems</td>\n",
       "      <td>apiKey</td>\n",
       "      <td>True</td>\n",
       "      <td>unknown</td>\n",
       "      <td>https://developer.nrel.gov/docs/solar/pvwatts/v6/</td>\n",
       "      <td>Environment</td>\n",
       "    </tr>\n",
       "    <tr>\n",
       "      <th>12</th>\n",
       "      <td>Srp Energy</td>\n",
       "      <td>Hourly usage energy report for Srp customers</td>\n",
       "      <td>apiKey</td>\n",
       "      <td>True</td>\n",
       "      <td>no</td>\n",
       "      <td>https://srpenergy-api-client-python.readthedocs.io/en/latest/api.html</td>\n",
       "      <td>Environment</td>\n",
       "    </tr>\n",
       "    <tr>\n",
       "      <th>13</th>\n",
       "      <td>UK Carbon Intensity</td>\n",
       "      <td>The Official Carbon Intensity API for Great Britain developed by National Grid</td>\n",
       "      <td></td>\n",
       "      <td>True</td>\n",
       "      <td>unknown</td>\n",
       "      <td>https://carbon-intensity.github.io/api-definitions/#carbon-intensity-api-v1-0-0</td>\n",
       "      <td>Environment</td>\n",
       "    </tr>\n",
       "    <tr>\n",
       "      <th>14</th>\n",
       "      <td>Website Carbon</td>\n",
       "      <td>API to estimate the carbon footprint of loading web pages</td>\n",
       "      <td></td>\n",
       "      <td>True</td>\n",
       "      <td>unknown</td>\n",
       "      <td>https://api.websitecarbon.com/</td>\n",
       "      <td>Environment</td>\n",
       "    </tr>\n",
       "  </tbody>\n",
       "</table>\n",
       "</div>"
      ],
      "text/plain": [
       "                           API  \\\n",
       "0           BreezoMeter Pollen   \n",
       "1             Carbon Interface   \n",
       "2                     Climatiq   \n",
       "3                     Cloverly   \n",
       "4                   CO2 Offset   \n",
       "5   Danish data service Energi   \n",
       "6                        IQAir   \n",
       "7                 Luchtmeetnet   \n",
       "8            National Grid ESO   \n",
       "9                       OpenAQ   \n",
       "10      PM2.5 Open Data Portal   \n",
       "11                     PVWatts   \n",
       "12                  Srp Energy   \n",
       "13         UK Carbon Intensity   \n",
       "14              Website Carbon   \n",
       "\n",
       "                                                                                         Description  \\\n",
       "0                                      Daily Forecast pollen conditions data for a specific location   \n",
       "1               API to calculate carbon (C02) emissions estimates for common C02 emitting activities   \n",
       "2   Calculate the environmental footprint created by a broad range of emission-generating activities   \n",
       "3                       API calculates the impact of common carbon-intensive activities in real time   \n",
       "4                                                  API calculates and validates the carbon footprint   \n",
       "5                                                         Open energy data from Energinet to society   \n",
       "6                                                                       Air quality and weather data   \n",
       "7                             Predicted and actual air quality components for The Netherlands (RIVM)   \n",
       "8                                         Open data from Great Britain’s Electricity System Operator   \n",
       "9                                                                              Open air quality data   \n",
       "10                                                                   Open low-cost PM2.5 sensor data   \n",
       "11                                                Energy production photovoltaic (PV) energy systems   \n",
       "12                                                      Hourly usage energy report for Srp customers   \n",
       "13                    The Official Carbon Intensity API for Great Britain developed by National Grid   \n",
       "14                                         API to estimate the carbon footprint of loading web pages   \n",
       "\n",
       "      Auth  HTTPS     Cors  \\\n",
       "0   apiKey   True  unknown   \n",
       "1   apiKey   True      yes   \n",
       "2   apiKey   True      yes   \n",
       "3   apiKey   True  unknown   \n",
       "4            True  unknown   \n",
       "5            True  unknown   \n",
       "6   apiKey   True  unknown   \n",
       "7            True  unknown   \n",
       "8            True  unknown   \n",
       "9   apiKey   True  unknown   \n",
       "10           True  unknown   \n",
       "11  apiKey   True  unknown   \n",
       "12  apiKey   True       no   \n",
       "13           True  unknown   \n",
       "14           True  unknown   \n",
       "\n",
       "                                                                               Link  \\\n",
       "0                     https://docs.breezometer.com/api-documentation/pollen-api/v2/   \n",
       "1                                                 https://docs.carboninterface.com/   \n",
       "2                                                          https://docs.climatiq.io   \n",
       "3                              https://www.cloverly.com/carbon-offset-documentation   \n",
       "4                                                     https://co2offset.io/api.html   \n",
       "5                                                 https://www.energidataservice.dk/   \n",
       "6                                      https://www.iqair.com/air-pollution-data-api   \n",
       "7                                                 https://api-docs.luchtmeetnet.nl/   \n",
       "8                                                 https://data.nationalgrideso.com/   \n",
       "9                                                          https://docs.openaq.org/   \n",
       "10                                                  https://pm25.lass-net.org/#apis   \n",
       "11                                https://developer.nrel.gov/docs/solar/pvwatts/v6/   \n",
       "12            https://srpenergy-api-client-python.readthedocs.io/en/latest/api.html   \n",
       "13  https://carbon-intensity.github.io/api-definitions/#carbon-intensity-api-v1-0-0   \n",
       "14                                                   https://api.websitecarbon.com/   \n",
       "\n",
       "       Category  \n",
       "0   Environment  \n",
       "1   Environment  \n",
       "2   Environment  \n",
       "3   Environment  \n",
       "4   Environment  \n",
       "5   Environment  \n",
       "6   Environment  \n",
       "7   Environment  \n",
       "8   Environment  \n",
       "9   Environment  \n",
       "10  Environment  \n",
       "11  Environment  \n",
       "12  Environment  \n",
       "13  Environment  \n",
       "14  Environment  "
      ]
     },
     "metadata": {},
     "output_type": "display_data"
    }
   ],
   "source": [
    "import pandas as pd\n",
    "import requests\n",
    "import json\n",
    "# API request\n",
    "response = requests.get(\"https://api.publicapis.org/entries?category=environment&https=true\")\n",
    "# columns = list(response.keys())\n",
    "# Extract the data from the response object\n",
    "data = response.json()['entries']\n",
    "\n",
    "\n",
    "# Create a DataFrame from the data\n",
    "df = pd.DataFrame(data)\n",
    "\n",
    "# Set the display options to show the full contents of each row and column\n",
    "pd.set_option('display.max_colwidth', None)\n",
    "\n",
    "# Display the DataFrame\n",
    "display(df.head(15))"
   ]
  },
  {
   "cell_type": "code",
   "execution_count": 98,
   "metadata": {},
   "outputs": [],
   "source": [
    "urls = \"https://api.publicapis.org/entries?category=environment&https=true\""
   ]
  },
  {
   "cell_type": "code",
   "execution_count": 123,
   "metadata": {},
   "outputs": [],
   "source": [
    "import pandas as pd\n",
    "import requests\n",
    "import ipywidgets as widgets\n",
    "def api(url):\n",
    "\n",
    "    # API request\n",
    "    response = requests.get(url)\n",
    "    # Extract the data from the response object\n",
    "    data = response.json()\n",
    "    # Finding column names\n",
    "    column = list(data.keys())\n",
    "    \n",
    "    #create widgets\n",
    "    columns_dropdown = widgets.Dropdown(options=[], description='Column')\n",
    "    output = widgets.Output()\n",
    "    \n",
    "    # Updating dropdown list\n",
    "    columns_dropdown.options = column\n",
    "    \n",
    "    # Writing Functions to call Widget : the widget is the arguement just for identification purpose\n",
    "    def api_to_df(columns_dropdown):\n",
    "#         if type(response.json()[columns_dropdown]) != \"<class 'list'>\":\n",
    "        if not isinstance(data[columns_dropdown],list):\n",
    "            with output:\n",
    "                output.clear_output()\n",
    "                display('Not a List')\n",
    "        else:\n",
    "        # Create a DataFrame from the data and selected column\n",
    "            selected_column = data[columns_dropdown]\n",
    "            df = pd.DataFrame(selected_column)       \n",
    "            # Set the display options to show the full contents of each row and column\n",
    "            pd.set_option('display.max_colwidth', None)\n",
    "            with output:\n",
    "                output.clear_output()\n",
    "                display(df.head(50))\n",
    "\n",
    "    # call function and run lambda function to extract new value\n",
    "    columns_dropdown.observe(lambda change: api_to_df(change.new), names='value')\n",
    "                             \n",
    "    # Display widget\n",
    "    display(columns_dropdown)\n",
    "    display(output)"
   ]
  },
  {
   "cell_type": "code",
   "execution_count": 124,
   "metadata": {
    "scrolled": true
   },
   "outputs": [
    {
     "data": {
      "application/vnd.jupyter.widget-view+json": {
       "model_id": "357d018aa1714dd9aaf52a101152f59b",
       "version_major": 2,
       "version_minor": 0
      },
      "text/plain": [
       "Dropdown(description='Column', options=('count', 'entries'), value='count')"
      ]
     },
     "metadata": {},
     "output_type": "display_data"
    },
    {
     "data": {
      "application/vnd.jupyter.widget-view+json": {
       "model_id": "e135ead8a9a64f569181c428e61320a2",
       "version_major": 2,
       "version_minor": 0
      },
      "text/plain": [
       "Output()"
      ]
     },
     "metadata": {},
     "output_type": "display_data"
    }
   ],
   "source": [
    "api(\"https://api.publicapis.org/entries?category=environment&https=true\")"
   ]
  },
  {
   "cell_type": "markdown",
   "metadata": {
    "heading_collapsed": true
   },
   "source": [
    "# Secure APIs: Generating Access Tokens"
   ]
  },
  {
   "cell_type": "markdown",
   "metadata": {
    "hidden": true
   },
   "source": [
    "Many APIs have security measures to make sure their APIs aren't abused. Let's show you how to generate an access token so you can use such secure APIs.\n",
    "\n",
    "Point your browser over to this [yelp page](https://www.yelp.com/developers/v3/manage_app) and start creating an app in order to obtain an api access token:"
   ]
  },
  {
   "cell_type": "markdown",
   "metadata": {
    "hidden": true
   },
   "source": [
    "\n",
    "![](./images/yelp_app.png)"
   ]
  },
  {
   "cell_type": "markdown",
   "metadata": {
    "hidden": true
   },
   "source": [
    "You can either sign in to an existing Yelp account, or create a new one, if needed.\n",
    "\n",
    "On the page you see above, simply fill out some sample information such as \"Flatiron Edu API Example\" for the app name, or whatever floats your boat. Afterwards, you should be presented with an API key that you can use to make requests.\n",
    "\n",
    "With that, it's time to start making some API calls!"
   ]
  },
  {
   "cell_type": "markdown",
   "metadata": {
    "heading_collapsed": true,
    "hidden": true
   },
   "source": [
    "## An Example Request with OAuth "
   ]
  },
  {
   "cell_type": "markdown",
   "metadata": {
    "hidden": true
   },
   "source": [
    "[OAuth](https://en.wikipedia.org/wiki/OAuth) is a common standard used by companies to provide API access. \"Auth\" refers to two processes:\n",
    "\n",
    "* Authentication: Verifying your identity\n",
    "* Authorization: Giving you access to a resource"
   ]
  },
  {
   "cell_type": "markdown",
   "metadata": {
    "heading_collapsed": true,
    "hidden": true
   },
   "source": [
    "## Storing your API Key Securely"
   ]
  },
  {
   "cell_type": "markdown",
   "metadata": {
    "hidden": true
   },
   "source": [
    "Handling your security credentials properly will avoid accidentally exposing them to people who might use them for malicious purposes. While you probably can't get in too much trouble with Yelp, it's a good practice to develop. It becomes especially tricky and important when using public Git repositories. Here are the steps we recommend: \n",
    "\n",
    "1. Create a hidden `.secrets` folder in your repository\n",
    "2. Put your credentials in a file in the `.secrets` folder\n",
    "3. Add the `.secrets/` folder to the `.gitignore` file"
   ]
  },
  {
   "cell_type": "markdown",
   "metadata": {
    "heading_collapsed": true,
    "hidden": true
   },
   "source": [
    "### Step 1 - Create a hidden `.secrets` folder in your repository"
   ]
  },
  {
   "cell_type": "markdown",
   "metadata": {
    "hidden": true
   },
   "source": [
    "> We'll need to create this folder `.secrets`. Note this will create a hidden folder. Also note that we're using this name but it really could be whatever you want it to be as long as you're consistent"
   ]
  },
  {
   "cell_type": "markdown",
   "metadata": {
    "hidden": true
   },
   "source": [
    "You can run this in the terminal (assuming we're in the repo folder)\n",
    "\n",
    "```bash\n",
    "mkdir .secrets\n",
    "```"
   ]
  },
  {
   "cell_type": "code",
   "execution_count": 90,
   "metadata": {
    "hidden": true
   },
   "outputs": [
    {
     "name": "stdout",
     "output_type": "stream",
     "text": [
      "/Users/keanan/Documents/Flatiron/DS-Live-022023/Phase1/Lectures\r\n"
     ]
    }
   ],
   "source": [
    "# Let's check we're in the right place\n",
    "!pwd"
   ]
  },
  {
   "cell_type": "code",
   "execution_count": 91,
   "metadata": {
    "hidden": true
   },
   "outputs": [
    {
     "name": "stdout",
     "output_type": "stream",
     "text": [
      "\u001b[34m.\u001b[m\u001b[m\r\n",
      "\u001b[34m..\u001b[m\u001b[m\r\n",
      "\u001b[34m.ipynb_checkpoints\u001b[m\u001b[m\r\n",
      "\u001b[34m.secrets\u001b[m\u001b[m\r\n",
      "00_Instructor_Kickoff_Live_DS.pdf\r\n",
      "01_Data_Science_Toolkit.pdf\r\n",
      "02_Introducing_The_Terminal.pdf\r\n",
      "03_Introducing_Git_GitHub.pdf\r\n",
      "04_Creating_Repositories_Collaborating_Git.pdf\r\n",
      "05_Topic_3_Python_Data_Manipulation.ipynb\r\n",
      "06_Topic_3_Data_Analysis_CSV.ipynb\r\n",
      "07_Topic_3_Data_Analysis_JSON.ipynb\r\n",
      "08_Topic_4_Pandas_Dataframes.ipynb\r\n",
      "09_Topic_4_Plotting_With_Pandas_Matplotlib.ipynb\r\n",
      "10_Topic_5_Pandas_Data_Cleaning.ipynb\r\n",
      "11_Topic_5_Aggregating_Combining_Dataframes.ipynb\r\n",
      "12_Topic_5_Descriptive_Analysis.ipynb\r\n",
      "13_Topic_6_SQL_Queries.ipynb\r\n",
      "14_Topic_6&7_SQL_Joins_Aggregations.ipynb\r\n",
      "15_Topic_7_SQL_Subqueries.ipynb\r\n",
      "16_Topic_9_APIs.ipynb\r\n",
      "17_Topic_10_Webscraping.ipynb\r\n",
      "Untitled.ipynb\r\n",
      "Untitled1.ipynb\r\n",
      "Untitled2.ipynb\r\n",
      "\u001b[34mdata\u001b[m\u001b[m\r\n",
      "\u001b[34mimages\u001b[m\u001b[m\r\n",
      "sat.csv\r\n"
     ]
    }
   ],
   "source": [
    "# Now we check if the directory is already made\n",
    "!ls -a"
   ]
  },
  {
   "cell_type": "code",
   "execution_count": 76,
   "metadata": {
    "hidden": true
   },
   "outputs": [],
   "source": [
    "# Finally we can make the directory\n",
    "!mkdir .secrets"
   ]
  },
  {
   "cell_type": "code",
   "execution_count": 77,
   "metadata": {
    "hidden": true
   },
   "outputs": [
    {
     "name": "stdout",
     "output_type": "stream",
     "text": [
      "\u001b[34m.\u001b[m\u001b[m\r\n",
      "\u001b[34m..\u001b[m\u001b[m\r\n",
      "\u001b[34m.ipynb_checkpoints\u001b[m\u001b[m\r\n",
      "\u001b[34m.secrets\u001b[m\u001b[m\r\n",
      "00_Instructor_Kickoff_Live_DS.pdf\r\n",
      "01_Data_Science_Toolkit.pdf\r\n",
      "02_Introducing_The_Terminal.pdf\r\n",
      "03_Introducing_Git_GitHub.pdf\r\n",
      "04_Creating_Repositories_Collaborating_Git.pdf\r\n",
      "05_Topic_3_Python_Data_Manipulation.ipynb\r\n",
      "06_Topic_3_Data_Analysis_CSV.ipynb\r\n",
      "07_Topic_3_Data_Analysis_JSON.ipynb\r\n",
      "08_Topic_4_Pandas_Dataframes.ipynb\r\n",
      "09_Topic_4_Plotting_With_Pandas_Matplotlib.ipynb\r\n",
      "10_Topic_5_Pandas_Data_Cleaning.ipynb\r\n",
      "11_Topic_5_Aggregating_Combining_Dataframes.ipynb\r\n",
      "12_Topic_5_Descriptive_Analysis.ipynb\r\n",
      "13_Topic_6_SQL_Queries.ipynb\r\n",
      "14_Topic_6&7_SQL_Joins_Aggregations.ipynb\r\n",
      "15_Topic_7_SQL_Subqueries.ipynb\r\n",
      "16_Topic_9_APIs.ipynb\r\n",
      "17_Topic_10_Webscraping.ipynb\r\n",
      "Untitled.ipynb\r\n",
      "Untitled1.ipynb\r\n",
      "Untitled2.ipynb\r\n",
      "\u001b[34mdata\u001b[m\u001b[m\r\n",
      "\u001b[34mimages\u001b[m\u001b[m\r\n",
      "sat.csv\r\n"
     ]
    }
   ],
   "source": [
    "# And we check if the directory is made\n",
    "!ls -a"
   ]
  },
  {
   "cell_type": "markdown",
   "metadata": {
    "heading_collapsed": true,
    "hidden": true
   },
   "source": [
    "### Step 2 - Put your credentials in a file in the `.secrets` folder"
   ]
  },
  {
   "cell_type": "markdown",
   "metadata": {
    "hidden": true
   },
   "source": [
    "> Next we need to create the credentials file and move it into the `.secrets/` folder. It's easiest to do this with the command line (since the folder is hidden)"
   ]
  },
  {
   "cell_type": "markdown",
   "metadata": {
    "hidden": true
   },
   "source": [
    "To create the file, we can simply create a new file using an editor or even Jupyter Notebook."
   ]
  },
  {
   "cell_type": "markdown",
   "metadata": {
    "hidden": true
   },
   "source": [
    "We can also create this with the command line:\n",
    "\n",
    "```shell\n",
    "echo '{ \"id\": \"<ID>\", \"key\": \"<KEY>\" }' > creds.json\n",
    "```\n",
    "\n",
    "Where `<ID>` and  `<KEY>` are the Client ID and API Key respectively. (Note the the values need quotations around it)"
   ]
  },
  {
   "cell_type": "code",
   "execution_count": null,
   "metadata": {
    "hidden": true
   },
   "outputs": [],
   "source": [
    "# Uncommment and run this after replacing <ID> and <KEY>\n",
    "# Note this will overwrite any previous file called creds.json\n",
    "#!echo '{ \"id\": \"<ID>\", \"key\": \"<KEY>\" }' > creds.json"
   ]
  },
  {
   "cell_type": "markdown",
   "metadata": {
    "hidden": true
   },
   "source": [
    "To move the file via the command line, it's easiest if you first move the credentials file into the repo's folder first (if it's not already there).\n",
    "\n",
    "Once you do that, you can run this command below."
   ]
  },
  {
   "cell_type": "code",
   "execution_count": 78,
   "metadata": {
    "hidden": true
   },
   "outputs": [
    {
     "name": "stdout",
     "output_type": "stream",
     "text": [
      "\u001b[34m.\u001b[m\u001b[m\r\n",
      "\u001b[34m..\u001b[m\u001b[m\r\n",
      "\u001b[34m.ipynb_checkpoints\u001b[m\u001b[m\r\n",
      "\u001b[34m.secrets\u001b[m\u001b[m\r\n",
      "00_Instructor_Kickoff_Live_DS.pdf\r\n",
      "01_Data_Science_Toolkit.pdf\r\n",
      "02_Introducing_The_Terminal.pdf\r\n",
      "03_Introducing_Git_GitHub.pdf\r\n",
      "04_Creating_Repositories_Collaborating_Git.pdf\r\n",
      "05_Topic_3_Python_Data_Manipulation.ipynb\r\n",
      "06_Topic_3_Data_Analysis_CSV.ipynb\r\n",
      "07_Topic_3_Data_Analysis_JSON.ipynb\r\n",
      "08_Topic_4_Pandas_Dataframes.ipynb\r\n",
      "09_Topic_4_Plotting_With_Pandas_Matplotlib.ipynb\r\n",
      "10_Topic_5_Pandas_Data_Cleaning.ipynb\r\n",
      "11_Topic_5_Aggregating_Combining_Dataframes.ipynb\r\n",
      "12_Topic_5_Descriptive_Analysis.ipynb\r\n",
      "13_Topic_6_SQL_Queries.ipynb\r\n",
      "14_Topic_6&7_SQL_Joins_Aggregations.ipynb\r\n",
      "15_Topic_7_SQL_Subqueries.ipynb\r\n",
      "16_Topic_9_APIs.ipynb\r\n",
      "17_Topic_10_Webscraping.ipynb\r\n",
      "Untitled.ipynb\r\n",
      "Untitled1.ipynb\r\n",
      "Untitled2.ipynb\r\n",
      "\u001b[34mdata\u001b[m\u001b[m\r\n",
      "\u001b[34mimages\u001b[m\u001b[m\r\n",
      "sat.csv\r\n"
     ]
    }
   ],
   "source": [
    "# Make sure the .secrets folder and credentials file are there\n",
    "!ls -a"
   ]
  },
  {
   "cell_type": "code",
   "execution_count": null,
   "metadata": {
    "hidden": true
   },
   "outputs": [],
   "source": [
    "# Move the credentials file (creds.json) into the .secrets/ folder\n",
    "# Note you might need to change the name in this command to match the file name\n",
    "#!mv creds.json .secrets/"
   ]
  },
  {
   "cell_type": "code",
   "execution_count": 83,
   "metadata": {
    "hidden": true
   },
   "outputs": [
    {
     "name": "stdout",
     "output_type": "stream",
     "text": [
      "\u001b[34m.\u001b[m\u001b[m\r\n",
      "\u001b[34m..\u001b[m\u001b[m\r\n",
      "\u001b[34m.ipynb_checkpoints\u001b[m\u001b[m\r\n",
      "\u001b[34m.secrets\u001b[m\u001b[m\r\n",
      "00_Instructor_Kickoff_Live_DS.pdf\r\n",
      "01_Data_Science_Toolkit.pdf\r\n",
      "02_Introducing_The_Terminal.pdf\r\n",
      "03_Introducing_Git_GitHub.pdf\r\n",
      "04_Creating_Repositories_Collaborating_Git.pdf\r\n",
      "05_Topic_3_Python_Data_Manipulation.ipynb\r\n",
      "06_Topic_3_Data_Analysis_CSV.ipynb\r\n",
      "07_Topic_3_Data_Analysis_JSON.ipynb\r\n",
      "08_Topic_4_Pandas_Dataframes.ipynb\r\n",
      "09_Topic_4_Plotting_With_Pandas_Matplotlib.ipynb\r\n",
      "10_Topic_5_Pandas_Data_Cleaning.ipynb\r\n",
      "11_Topic_5_Aggregating_Combining_Dataframes.ipynb\r\n",
      "12_Topic_5_Descriptive_Analysis.ipynb\r\n",
      "13_Topic_6_SQL_Queries.ipynb\r\n",
      "14_Topic_6&7_SQL_Joins_Aggregations.ipynb\r\n",
      "15_Topic_7_SQL_Subqueries.ipynb\r\n",
      "16_Topic_9_APIs.ipynb\r\n",
      "17_Topic_10_Webscraping.ipynb\r\n",
      "Untitled.ipynb\r\n",
      "Untitled1.ipynb\r\n",
      "Untitled2.ipynb\r\n",
      "\u001b[34mdata\u001b[m\u001b[m\r\n",
      "\u001b[34mimages\u001b[m\u001b[m\r\n",
      "sat.csv\r\n"
     ]
    }
   ],
   "source": [
    "# Make sure the credentials file are no longer in the repo folder...\n",
    "!ls -a"
   ]
  },
  {
   "cell_type": "code",
   "execution_count": 80,
   "metadata": {
    "hidden": true
   },
   "outputs": [
    {
     "name": "stdout",
     "output_type": "stream",
     "text": [
      "\u001b[34m.\u001b[m\u001b[m  \u001b[34m..\u001b[m\u001b[m\r\n"
     ]
    }
   ],
   "source": [
    "# .. and the file should now be in .secrets/\n",
    "!ls -a .secrets/"
   ]
  },
  {
   "cell_type": "markdown",
   "metadata": {
    "heading_collapsed": true,
    "hidden": true
   },
   "source": [
    "### Step 3 - Add the `.secrets/` folder to the `.gitignore` file"
   ]
  },
  {
   "cell_type": "markdown",
   "metadata": {
    "hidden": true
   },
   "source": [
    "> We actually already did this in the current `.gitignore`! But it's good to remember to do this with future projects"
   ]
  },
  {
   "cell_type": "code",
   "execution_count": 81,
   "metadata": {
    "hidden": true,
    "scrolled": true
   },
   "outputs": [
    {
     "name": "stdout",
     "output_type": "stream",
     "text": [
      "tail: .gitignore: No such file or directory\r\n"
     ]
    }
   ],
   "source": [
    "# View current .gitignore\n",
    "!tail .gitignore"
   ]
  },
  {
   "cell_type": "markdown",
   "metadata": {
    "hidden": true
   },
   "source": [
    "To add that line to the `.gitignore` file, we can open it in an editor (just remember the file is hidden) or just append to the end of the file like so:"
   ]
  },
  {
   "cell_type": "markdown",
   "metadata": {
    "hidden": true
   },
   "source": [
    "```bash\n",
    "echo \".secrets/\" >> .gitignore\n",
    "```"
   ]
  },
  {
   "cell_type": "markdown",
   "metadata": {
    "heading_collapsed": true,
    "hidden": true
   },
   "source": [
    "### Check If It Worked!"
   ]
  },
  {
   "cell_type": "code",
   "execution_count": 82,
   "metadata": {
    "hidden": true
   },
   "outputs": [
    {
     "ename": "FileNotFoundError",
     "evalue": "[Errno 2] No such file or directory: '.secrets/creds.json'",
     "output_type": "error",
     "traceback": [
      "\u001b[0;31m---------------------------------------------------------------------------\u001b[0m",
      "\u001b[0;31mFileNotFoundError\u001b[0m                         Traceback (most recent call last)",
      "\u001b[0;32m<ipython-input-82-f11821128e67>\u001b[0m in \u001b[0;36m<module>\u001b[0;34m\u001b[0m\n\u001b[0;32m----> 1\u001b[0;31m \u001b[0;32mwith\u001b[0m \u001b[0mopen\u001b[0m\u001b[0;34m(\u001b[0m\u001b[0;34m'.secrets/creds.json'\u001b[0m\u001b[0;34m)\u001b[0m \u001b[0;32mas\u001b[0m \u001b[0mf\u001b[0m\u001b[0;34m:\u001b[0m\u001b[0;34m\u001b[0m\u001b[0;34m\u001b[0m\u001b[0m\n\u001b[0m\u001b[1;32m      2\u001b[0m     \u001b[0mcreds\u001b[0m \u001b[0;34m=\u001b[0m \u001b[0mjson\u001b[0m\u001b[0;34m.\u001b[0m\u001b[0mload\u001b[0m\u001b[0;34m(\u001b[0m\u001b[0mf\u001b[0m\u001b[0;34m)\u001b[0m\u001b[0;34m\u001b[0m\u001b[0;34m\u001b[0m\u001b[0m\n",
      "\u001b[0;31mFileNotFoundError\u001b[0m: [Errno 2] No such file or directory: '.secrets/creds.json'"
     ]
    }
   ],
   "source": [
    "with open('.secrets/creds.json') as f:\n",
    "    creds = json.load(f)"
   ]
  },
  {
   "cell_type": "code",
   "execution_count": null,
   "metadata": {
    "hidden": true
   },
   "outputs": [],
   "source": [
    "creds"
   ]
  },
  {
   "cell_type": "markdown",
   "metadata": {
    "heading_collapsed": true,
    "hidden": true
   },
   "source": [
    "## Making our Request"
   ]
  },
  {
   "cell_type": "markdown",
   "metadata": {
    "hidden": true
   },
   "source": [
    "[Yelp API Documentation](https://www.yelp.com/developers/documentation/v3/get_started)\n",
    "\n",
    "Let's look at an example request and dissect it into its consituent parts:"
   ]
  },
  {
   "cell_type": "code",
   "execution_count": null,
   "metadata": {
    "hidden": true
   },
   "outputs": [],
   "source": [
    "url = 'https://api.yelp.com/v3/businesses/search'\n",
    "term = 'Hamburgers'\n",
    "SEARCH_LIMIT = 10\n",
    "headers = {\n",
    "    'Authorization': 'Bearer ' + creds['key']\n",
    "}\n",
    "\n",
    "url_params = {\n",
    "    'term': term,\n",
    "    'location': 'Seattle+WA',\n",
    "    'limit': SEARCH_LIMIT,\n",
    "    'offset': 0\n",
    "}\n",
    "response = requests.get(url, headers=headers, params=url_params)\n",
    "print(response.status_code)"
   ]
  },
  {
   "cell_type": "markdown",
   "metadata": {
    "heading_collapsed": true,
    "hidden": true
   },
   "source": [
    "## Breaking Down the Request"
   ]
  },
  {
   "cell_type": "markdown",
   "metadata": {
    "hidden": true
   },
   "source": [
    "As you can see, there are three main parts to our request.  \n",
    "  \n",
    "They are:\n",
    "* The URL\n",
    "* The header\n",
    "* The parameters\n",
    "  \n",
    "The URL is found in the documentation (`https://api.yelp.com/v3`) and we are using the Business Search endpoint (`/businesses/search`).\n",
    "\n",
    "The header is required by the Yelp API for authorization. It has a strict form where 'Authorization' is the key and 'Bearer YourApiKey' is the value. We make a `header` dictionary to pass into our `.get()` method.\n",
    "\n",
    "The parameters contain information we pass into the query to get the data we want. Valid key parameters by which to structure your queries, are described in the [Yelp API Documentation](https://www.yelp.com/developers/documentation/v3/get_started). We make a `url_params` dictionary to pass into our `.get()` method, which then adds the query parameters to the URL.\n",
    "\n",
    "**Important note re: parameters**: We need to replace spaces with \"+\" - this is a common API requirement because URLs cannot contain spaces. (Note that the header itself isn't directly added into the URL itself and as such, the space between 'Bearer' and YourApiKey is fine.)"
   ]
  },
  {
   "cell_type": "markdown",
   "metadata": {
    "heading_collapsed": true,
    "hidden": true
   },
   "source": [
    "## The Response"
   ]
  },
  {
   "cell_type": "markdown",
   "metadata": {
    "hidden": true
   },
   "source": [
    "As before, our response object has both a status code, as well as the data itself. With that, let's start with a little data exploration!"
   ]
  },
  {
   "cell_type": "code",
   "execution_count": null,
   "metadata": {
    "hidden": true
   },
   "outputs": [],
   "source": [
    "response.json()"
   ]
  },
  {
   "cell_type": "code",
   "execution_count": null,
   "metadata": {
    "hidden": true
   },
   "outputs": [],
   "source": [
    "## Your code here\n"
   ]
  },
  {
   "cell_type": "markdown",
   "metadata": {
    "hidden": true
   },
   "source": [
    "**Activity**: Make a DataFrame `yelp_df` with the business data from the Yelp response.\n",
    "<details>\n",
    "    <summary>\n",
    "        Answer code\n",
    "    </summary>\n",
    "\n",
    "```python\n",
    "yelp_data = response.json()\n",
    "yelp_df = pd.DataFrame(yelp_data['businesses'])\n",
    "```\n",
    "</details>"
   ]
  },
  {
   "cell_type": "code",
   "execution_count": null,
   "metadata": {
    "hidden": true
   },
   "outputs": [],
   "source": [
    "yelp_df.head()"
   ]
  },
  {
   "cell_type": "code",
   "execution_count": null,
   "metadata": {
    "hidden": true
   },
   "outputs": [],
   "source": [
    "## Your code here\n"
   ]
  },
  {
   "cell_type": "markdown",
   "metadata": {
    "hidden": true
   },
   "source": [
    "**Activity**: Add columns to `yelp_df` containing the latitudes and longitudes.\n",
    "\n",
    "\n",
    "<details>\n",
    "    <summary>\n",
    "        Answer code\n",
    "    </summary>\n",
    "\n",
    "```python\n",
    "lat = [float(business['coordinates']['latitude']) for business in yelp_data['businesses']]\n",
    "long = [float(business['coordinates']['longitude']) for  business in yelp_data['businesses']]\n",
    "yelp_df['lat'] = lat\n",
    "yelp_df['long'] = long\n",
    "```\n",
    "</details>"
   ]
  },
  {
   "cell_type": "code",
   "execution_count": null,
   "metadata": {
    "hidden": true
   },
   "outputs": [],
   "source": [
    "yelp_df.head()"
   ]
  }
 ],
 "metadata": {
  "kernelspec": {
   "display_name": "Python 3",
   "language": "python",
   "name": "python3"
  },
  "language_info": {
   "codemirror_mode": {
    "name": "ipython",
    "version": 3
   },
   "file_extension": ".py",
   "mimetype": "text/x-python",
   "name": "python",
   "nbconvert_exporter": "python",
   "pygments_lexer": "ipython3",
   "version": "3.8.5"
  },
  "toc": {
   "base_numbering": 1,
   "nav_menu": {},
   "number_sections": true,
   "sideBar": true,
   "skip_h1_title": false,
   "title_cell": "Table of Contents",
   "title_sidebar": "Contents",
   "toc_cell": true,
   "toc_position": {
    "height": "calc(100% - 180px)",
    "left": "10px",
    "top": "150px",
    "width": "384px"
   },
   "toc_section_display": true,
   "toc_window_display": true
  }
 },
 "nbformat": 4,
 "nbformat_minor": 4
}
